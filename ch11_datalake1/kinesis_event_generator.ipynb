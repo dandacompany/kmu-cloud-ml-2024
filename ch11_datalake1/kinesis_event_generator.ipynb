{
 "cells": [
  {
   "cell_type": "markdown",
   "metadata": {},
   "source": [
    "# Kinesis 이벤트 데이터 수집 데모 테스트"
   ]
  },
  {
   "cell_type": "markdown",
   "metadata": {},
   "source": [
    "라이브러리 로드"
   ]
  },
  {
   "cell_type": "code",
   "execution_count": 2,
   "metadata": {},
   "outputs": [],
   "source": [
    "# 이벤트 데이터를 JSON 문자열로 변환\n",
    "import json\n",
    "import time\n",
    "import datetime\n",
    "import random\n",
    "import logging\n",
    "import boto3\n",
    "from pprint import pprint\n",
    "from IPython.display import clear_output"
   ]
  },
  {
   "cell_type": "markdown",
   "metadata": {},
   "source": [
    "헬퍼 함수 정의"
   ]
  },
  {
   "cell_type": "code",
   "execution_count": 3,
   "metadata": {},
   "outputs": [],
   "source": [
    "# 자격증명풀 아이디\n",
    "IDENTITY_POOL_ID = 'ap-northeast-2:161c835f-ec3b-488a-8816-121f6a219c2f'\n",
    "# 스트림 이름\n",
    "STREAM_NAME = 'kmu-quiz-stream'"
   ]
  },
  {
   "cell_type": "code",
   "execution_count": 4,
   "metadata": {},
   "outputs": [],
   "source": [
    "def get_credential(identity_pool_id):\n",
    "    \"\"\"\n",
    "    주어진 Identity Pool ID를 사용하여 AWS Cognito로부터 임시 자격 증명을 얻는 함수입니다.\n",
    "    \n",
    "    이 함수는 다음 단계를 수행합니다:\n",
    "    1. Cognito Identity 클라이언트를 생성합니다.\n",
    "    2. 주어진 Identity Pool ID로 Identity ID를 얻습니다.\n",
    "    3. Identity ID를 사용하여 임시 자격 증명을 얻습니다.\n",
    "    4. 얻은 자격 증명을 반환합니다.\n",
    "\n",
    "    Args:\n",
    "        identity_pool_id (str): Cognito Identity Pool ID\n",
    "\n",
    "    Returns:\n",
    "        dict: AWS 임시 자격 증명 (AccessKeyId, SecretKey, SessionToken 포함)\n",
    "    \"\"\"\n",
    "    # Cognito Identity 클라이언트 생성\n",
    "    cognito_identity = boto3.client('cognito-identity', region_name='ap-northeast-2')\n",
    "    \n",
    "    # 주어진 Identity Pool ID로 Identity ID 얻기\n",
    "    response = cognito_identity.get_id(IdentityPoolId=identity_pool_id)\n",
    "    identity_id = response['IdentityId']\n",
    "    \n",
    "    # Identity ID를 사용하여 임시 자격 증명 얻기\n",
    "    credentials = cognito_identity.get_credentials_for_identity(IdentityId=identity_id)\n",
    "    \n",
    "    print(\"Cognito를 통해 Kinesis 자격 증명이 성공적으로 설정되었습니다.\")\n",
    "    \n",
    "    # 자격 증명 반환\n",
    "    return credentials['Credentials']"
   ]
  },
  {
   "cell_type": "code",
   "execution_count": 5,
   "metadata": {},
   "outputs": [],
   "source": [
    "def get_kinesis_client(credential):\n",
    "    \"\"\"\n",
    "    주어진 자격 증명을 사용하여 Kinesis 클라이언트를 생성하는 함수입니다.\n",
    "    \n",
    "    이 함수는 다음 단계를 수행합니다:\n",
    "    1. 제공된 자격 증명을 사용하여 Kinesis 클라이언트를 생성합니다.\n",
    "    2. 클라이언트 생성 성공 메시지를 출력합니다.\n",
    "    3. 생성된 클라이언트를 반환합니다.\n",
    "\n",
    "    Args:\n",
    "        credential (dict): AWS 자격 증명 (AccessKeyId, SecretKey, SessionToken 포함)\n",
    "\n",
    "    Returns:\n",
    "        boto3.client: 생성된 Kinesis 클라이언트 객체\n",
    "    \"\"\"\n",
    "    # Kinesis 클라이언트 생성\n",
    "    kinesis_client = boto3.client(\n",
    "        'kinesis',\n",
    "        region_name='ap-northeast-2',\n",
    "        aws_access_key_id=credential['AccessKeyId'],\n",
    "        aws_secret_access_key=credential['SecretKey'],\n",
    "        aws_session_token=credential['SessionToken']\n",
    "    )\n",
    "    # 클라이언트 생성 성공 메시지 출력\n",
    "    print(\"Kinesis 클라이언트가 성공적으로 생성되었습니다.\")\n",
    "    # 생성된 클라이언트 반환\n",
    "    return kinesis_client"
   ]
  },
  {
   "cell_type": "code",
   "execution_count": 6,
   "metadata": {},
   "outputs": [],
   "source": [
    "def generate_user_log():\n",
    "    \"\"\"\n",
    "    사용자 로그를 생성하는 함수입니다.\n",
    "    \n",
    "    이 함수는 랜덤하게 'click' 또는 'view' 이벤트를 생성합니다.\n",
    "    'click' 이벤트의 경우 버튼, 이미지, 섹션 중 하나를 선택하고 번호를 추가합니다.\n",
    "    'view' 이벤트의 경우 기본 URL에 페이지 경로를 추가합니다.\n",
    "    \n",
    "    Returns:\n",
    "        dict: 생성된 사용자 로그 데이터\n",
    "    \"\"\"\n",
    "    # 이벤트 타입 선택 (클릭 또는 뷰)\n",
    "    event_types = ['click', 'view']\n",
    "    event_type = random.choice(event_types)\n",
    "    \n",
    "    if event_type == 'click':\n",
    "        # 클릭 이벤트의 경우 버튼, 이미지, 섹션 중 하나를 선택하고 번호 추가\n",
    "        areas = ['button', 'image', 'section']\n",
    "        event_area = random.choice(areas) + str(random.randint(1, 5))\n",
    "        \n",
    "    elif event_type == 'view':\n",
    "        # 뷰 이벤트의 경우 기본 URL에 페이지 경로 추가\n",
    "        base_url = 'https://example.com/'\n",
    "        page_paths = ['home', 'product', 'cart', 'checkout', 'payment']\n",
    "        event_area = base_url + random.choice(page_paths)\n",
    "    \n",
    "    # 사용자 로그 생성 및 반환\n",
    "    return {\n",
    "        'user_id': f'user_{random.randint(1, 1000)}',  # 랜덤 사용자 ID 생성\n",
    "        'event_time': datetime.datetime.now().isoformat(),  # 현재 시간을 ISO 형식으로\n",
    "        'event_type': event_type,  # 선택된 이벤트 타입\n",
    "        'event_area': event_area,  # 이벤트가 발생한 영역\n",
    "        'event_text': 'this is a test'  # 테스트용 텍스트\n",
    "    }"
   ]
  },
  {
   "cell_type": "code",
   "execution_count": 7,
   "metadata": {},
   "outputs": [],
   "source": [
    "def send_log_to_kinesis(client, stream_name, log, partition_key):\n",
    "    \"\"\"\n",
    "    Kinesis 스트림에 로그를 전송하는 함수\n",
    "\n",
    "    Args:\n",
    "        client (boto3.client): Kinesis 클라이언트 객체\n",
    "        stream_name (str): Kinesis 스트림 이름\n",
    "        log (dict): 전송할 로그 데이터\n",
    "        partition_key (str): 파티션 키\n",
    "\n",
    "    Returns:\n",
    "        dict: Kinesis put_record API 응답\n",
    "    \"\"\"\n",
    "    response = client.put_record(\n",
    "        StreamName=stream_name,\n",
    "        Data=json.dumps(log),\n",
    "        PartitionKey=partition_key\n",
    "    )\n",
    "    return response"
   ]
  },
  {
   "cell_type": "code",
   "execution_count": 8,
   "metadata": {},
   "outputs": [
    {
     "name": "stdout",
     "output_type": "stream",
     "text": [
      "Cognito를 통해 Kinesis 자격 증명이 성공적으로 설정되었습니다.\n",
      "Kinesis 클라이언트가 성공적으로 생성되었습니다.\n"
     ]
    }
   ],
   "source": [
    "credentials = get_credential(IDENTITY_POOL_ID)\n",
    "kinesis_client = get_kinesis_client(credentials)"
   ]
  },
  {
   "cell_type": "code",
   "execution_count": 12,
   "metadata": {},
   "outputs": [
    {
     "name": "stdout",
     "output_type": "stream",
     "text": [
      "60번째 로그 생성\n",
      "{'event_area': 'https://example.com/product',\n",
      " 'event_text': 'this is a test',\n",
      " 'event_time': '2024-09-21T11:15:03.729167',\n",
      " 'event_type': 'view',\n",
      " 'user_id': 'user_889'}\n",
      "{'ResponseMetadata': {'HTTPHeaders': {'connection': 'keep-alive',\n",
      "                                      'content-length': '110',\n",
      "                                      'content-type': 'application/x-amz-json-1.1',\n",
      "                                      'date': 'Sat, 21 Sep 2024 02:15:03 GMT',\n",
      "                                      'x-amz-id-2': 'X/ewH+drGVDWlRM3gEaUMdrhauB+/PH1Y5Wl1W4/WCHbFSdO8oM/Aha6mvS7y5U3VOqNAh5uAjc9kuQZiuh+XRMm2Omci3Hf',\n",
      "                                      'x-amzn-requestid': 'c0869140-3e71-724e-9fee-bf27c8c73296'},\n",
      "                      'HTTPStatusCode': 200,\n",
      "                      'RequestId': 'c0869140-3e71-724e-9fee-bf27c8c73296',\n",
      "                      'RetryAttempts': 0},\n",
      " 'SequenceNumber': '49656028860076324291158165099251217750606487796657946674',\n",
      " 'ShardId': 'shardId-000000000003'}\n"
     ]
    }
   ],
   "source": [
    "# 초당 1건씩 이벤트 생성 및 전송\n",
    "for i in range(60):\n",
    "    log = generate_user_log()\n",
    "    response = send_log_to_kinesis(kinesis_client,STREAM_NAME, log, partition_key='user_id')\n",
    "    clear_output(wait=True)  # 주피터 노트북 출력 클리어\n",
    "    print(f'{i+1}번째 로그 생성')\n",
    "    pprint(log)\n",
    "    pprint(response)\n",
    "    time.sleep(1)  # 1초 대기"
   ]
  },
  {
   "cell_type": "code",
   "execution_count": null,
   "metadata": {},
   "outputs": [],
   "source": []
  }
 ],
 "metadata": {
  "kernelspec": {
   "display_name": "Python 3",
   "language": "python",
   "name": "python3"
  },
  "language_info": {
   "codemirror_mode": {
    "name": "ipython",
    "version": 3
   },
   "file_extension": ".py",
   "mimetype": "text/x-python",
   "name": "python",
   "nbconvert_exporter": "python",
   "pygments_lexer": "ipython3",
   "version": "3.12.4"
  }
 },
 "nbformat": 4,
 "nbformat_minor": 2
}
