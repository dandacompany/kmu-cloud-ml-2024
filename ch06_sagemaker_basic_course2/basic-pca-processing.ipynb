{
 "cells": [
  {
   "cell_type": "markdown",
   "metadata": {},
   "source": [
    "## PCA 차원축소"
   ]
  },
  {
   "cell_type": "markdown",
   "metadata": {},
   "source": [
    "라이브러리 준비"
   ]
  },
  {
   "cell_type": "code",
   "execution_count": 2,
   "metadata": {},
   "outputs": [],
   "source": [
    "import warnings\n",
    "warnings.filterwarnings('ignore')"
   ]
  },
  {
   "cell_type": "code",
   "execution_count": 3,
   "metadata": {},
   "outputs": [
    {
     "data": {
      "text/html": [
       "        <script type=\"text/javascript\">\n",
       "        window.PlotlyConfig = {MathJaxConfig: 'local'};\n",
       "        if (window.MathJax && window.MathJax.Hub && window.MathJax.Hub.Config) {window.MathJax.Hub.Config({SVG: {font: \"STIX-Web\"}});}\n",
       "        if (typeof require !== 'undefined') {\n",
       "        require.undef(\"plotly\");\n",
       "        requirejs.config({\n",
       "            paths: {\n",
       "                'plotly': ['https://cdn.plot.ly/plotly-2.32.0.min']\n",
       "            }\n",
       "        });\n",
       "        require(['plotly'], function(Plotly) {\n",
       "            window._Plotly = Plotly;\n",
       "        });\n",
       "        }\n",
       "        </script>\n",
       "        "
      ]
     },
     "metadata": {},
     "output_type": "display_data"
    }
   ],
   "source": [
    "import plotly.express as px\n",
    "import plotly.graph_objects as go\n",
    "from plotly.subplots import make_subplots\n",
    "import chart_studio.plotly as py\n",
    "import cufflinks as cf\n",
    "cf.go_offline(connected=True)"
   ]
  },
  {
   "cell_type": "code",
   "execution_count": 4,
   "metadata": {},
   "outputs": [],
   "source": [
    "import numpy as np\n",
    "import pandas as pd\n",
    "pd.set_option('display.max_columns', None)\n",
    "pd.set_option('display.max_rows', 500)\n",
    "pd.set_option('display.max_colwidth', None)\n",
    "pd.set_option('display.width', None)\n",
    "pd.set_option('display.max_colwidth', None)\n",
    "import awswrangler as wr"
   ]
  },
  {
   "cell_type": "code",
   "execution_count": 7,
   "metadata": {},
   "outputs": [],
   "source": [
    "import os\n",
    "import pickle\n",
    "import sagemaker\n",
    "import boto3\n",
    "from dotenv import load_dotenv\n",
    "load_dotenv();"
   ]
  },
  {
   "cell_type": "code",
   "execution_count": null,
   "metadata": {},
   "outputs": [],
   "source": [
    "from sklearn.preprocessing import StandardScaler\n",
    "from sklearn.decomposition import PCA\n",
    "from sklearn.model_selection import train_test_split\n",
    "from sklearn.preprocessing import LabelEncoder\n",
    "from sklearn.metrics import accuracy_score\n",
    "from xgboost import XGBClassifier"
   ]
  },
  {
   "cell_type": "markdown",
   "metadata": {},
   "source": [
    "SageMaker 세션 및 역할 설정"
   ]
  },
  {
   "cell_type": "code",
   "execution_count": 6,
   "metadata": {},
   "outputs": [],
   "source": [
    "boto3_session = boto3.Session(profile_name='awstutor')\n",
    "sagemaker_session = sagemaker.Session(boto_session=boto3_session)\n",
    "role = os.environ.get('SAGEMAKER_EXECUTION_ROLE_ARN')"
   ]
  },
  {
   "cell_type": "markdown",
   "metadata": {},
   "source": [
    "데이터셋 다운로드"
   ]
  },
  {
   "cell_type": "code",
   "execution_count": 36,
   "metadata": {},
   "outputs": [],
   "source": [
    "from ucimlrepo import fetch_ucirepo \n",
    "\n",
    "# fetch dataset \n",
    "adult = fetch_ucirepo(id=2) \n",
    "  \n",
    "# data (as pandas dataframes) \n",
    "X = adult.data.features \n",
    "y = adult.data.targets "
   ]
  },
  {
   "cell_type": "markdown",
   "metadata": {},
   "source": [
    "데이터 확인"
   ]
  },
  {
   "cell_type": "code",
   "execution_count": 9,
   "metadata": {},
   "outputs": [
    {
     "data": {
      "text/plain": [
       "{'uci_id': 2,\n",
       " 'name': 'Adult',\n",
       " 'repository_url': 'https://archive.ics.uci.edu/dataset/2/adult',\n",
       " 'data_url': 'https://archive.ics.uci.edu/static/public/2/data.csv',\n",
       " 'abstract': 'Predict whether income exceeds $50K/yr based on census data. Also known as \"Census Income\" dataset. ',\n",
       " 'area': 'Social Science',\n",
       " 'tasks': ['Classification'],\n",
       " 'characteristics': ['Multivariate'],\n",
       " 'num_instances': 48842,\n",
       " 'num_features': 14,\n",
       " 'feature_types': ['Categorical', 'Integer'],\n",
       " 'demographics': ['Age', 'Income', 'Education Level', 'Other', 'Race', 'Sex'],\n",
       " 'target_col': ['income'],\n",
       " 'index_col': None,\n",
       " 'has_missing_values': 'yes',\n",
       " 'missing_values_symbol': 'NaN',\n",
       " 'year_of_dataset_creation': 1996,\n",
       " 'last_updated': 'Mon Aug 07 2023',\n",
       " 'dataset_doi': '10.24432/C5XW20',\n",
       " 'creators': ['Barry Becker', 'Ronny Kohavi'],\n",
       " 'intro_paper': None,\n",
       " 'additional_info': {'summary': 'Extraction was done by Barry Becker from the 1994 Census database.  A set of reasonably clean records was extracted using the following conditions: ((AAGE>16) && (AGI>100) && (AFNLWGT>1)&& (HRSWK>0))\\r\\n\\r\\nPrediction task is to determine whether a person makes over 50K a year.\\r\\n',\n",
       "  'purpose': None,\n",
       "  'funded_by': None,\n",
       "  'instances_represent': None,\n",
       "  'recommended_data_splits': None,\n",
       "  'sensitive_data': None,\n",
       "  'preprocessing_description': None,\n",
       "  'variable_info': 'Listing of attributes:\\r\\n\\r\\n>50K, <=50K.\\r\\n\\r\\nage: continuous.\\r\\nworkclass: Private, Self-emp-not-inc, Self-emp-inc, Federal-gov, Local-gov, State-gov, Without-pay, Never-worked.\\r\\nfnlwgt: continuous.\\r\\neducation: Bachelors, Some-college, 11th, HS-grad, Prof-school, Assoc-acdm, Assoc-voc, 9th, 7th-8th, 12th, Masters, 1st-4th, 10th, Doctorate, 5th-6th, Preschool.\\r\\neducation-num: continuous.\\r\\nmarital-status: Married-civ-spouse, Divorced, Never-married, Separated, Widowed, Married-spouse-absent, Married-AF-spouse.\\r\\noccupation: Tech-support, Craft-repair, Other-service, Sales, Exec-managerial, Prof-specialty, Handlers-cleaners, Machine-op-inspct, Adm-clerical, Farming-fishing, Transport-moving, Priv-house-serv, Protective-serv, Armed-Forces.\\r\\nrelationship: Wife, Own-child, Husband, Not-in-family, Other-relative, Unmarried.\\r\\nrace: White, Asian-Pac-Islander, Amer-Indian-Eskimo, Other, Black.\\r\\nsex: Female, Male.\\r\\ncapital-gain: continuous.\\r\\ncapital-loss: continuous.\\r\\nhours-per-week: continuous.\\r\\nnative-country: United-States, Cambodia, England, Puerto-Rico, Canada, Germany, Outlying-US(Guam-USVI-etc), India, Japan, Greece, South, China, Cuba, Iran, Honduras, Philippines, Italy, Poland, Jamaica, Vietnam, Mexico, Portugal, Ireland, France, Dominican-Republic, Laos, Ecuador, Taiwan, Haiti, Columbia, Hungary, Guatemala, Nicaragua, Scotland, Thailand, Yugoslavia, El-Salvador, Trinadad&Tobago, Peru, Hong, Holand-Netherlands.',\n",
       "  'citation': None}}"
      ]
     },
     "execution_count": 9,
     "metadata": {},
     "output_type": "execute_result"
    }
   ],
   "source": [
    "adult.metadata"
   ]
  },
  {
   "cell_type": "code",
   "execution_count": 10,
   "metadata": {},
   "outputs": [
    {
     "data": {
      "text/html": [
       "<div>\n",
       "<style scoped>\n",
       "    .dataframe tbody tr th:only-of-type {\n",
       "        vertical-align: middle;\n",
       "    }\n",
       "\n",
       "    .dataframe tbody tr th {\n",
       "        vertical-align: top;\n",
       "    }\n",
       "\n",
       "    .dataframe thead th {\n",
       "        text-align: right;\n",
       "    }\n",
       "</style>\n",
       "<table border=\"1\" class=\"dataframe\">\n",
       "  <thead>\n",
       "    <tr style=\"text-align: right;\">\n",
       "      <th></th>\n",
       "      <th>name</th>\n",
       "      <th>role</th>\n",
       "      <th>type</th>\n",
       "      <th>demographic</th>\n",
       "      <th>description</th>\n",
       "      <th>units</th>\n",
       "      <th>missing_values</th>\n",
       "    </tr>\n",
       "  </thead>\n",
       "  <tbody>\n",
       "    <tr>\n",
       "      <th>0</th>\n",
       "      <td>age</td>\n",
       "      <td>Feature</td>\n",
       "      <td>Integer</td>\n",
       "      <td>Age</td>\n",
       "      <td>N/A</td>\n",
       "      <td>None</td>\n",
       "      <td>no</td>\n",
       "    </tr>\n",
       "    <tr>\n",
       "      <th>1</th>\n",
       "      <td>workclass</td>\n",
       "      <td>Feature</td>\n",
       "      <td>Categorical</td>\n",
       "      <td>Income</td>\n",
       "      <td>Private, Self-emp-not-inc, Self-emp-inc, Federal-gov, Local-gov, State-gov, Without-pay, Never-worked.</td>\n",
       "      <td>None</td>\n",
       "      <td>yes</td>\n",
       "    </tr>\n",
       "    <tr>\n",
       "      <th>2</th>\n",
       "      <td>fnlwgt</td>\n",
       "      <td>Feature</td>\n",
       "      <td>Integer</td>\n",
       "      <td>None</td>\n",
       "      <td>None</td>\n",
       "      <td>None</td>\n",
       "      <td>no</td>\n",
       "    </tr>\n",
       "    <tr>\n",
       "      <th>3</th>\n",
       "      <td>education</td>\n",
       "      <td>Feature</td>\n",
       "      <td>Categorical</td>\n",
       "      <td>Education Level</td>\n",
       "      <td>Bachelors, Some-college, 11th, HS-grad, Prof-school, Assoc-acdm, Assoc-voc, 9th, 7th-8th, 12th, Masters, 1st-4th, 10th, Doctorate, 5th-6th, Preschool.</td>\n",
       "      <td>None</td>\n",
       "      <td>no</td>\n",
       "    </tr>\n",
       "    <tr>\n",
       "      <th>4</th>\n",
       "      <td>education-num</td>\n",
       "      <td>Feature</td>\n",
       "      <td>Integer</td>\n",
       "      <td>Education Level</td>\n",
       "      <td>None</td>\n",
       "      <td>None</td>\n",
       "      <td>no</td>\n",
       "    </tr>\n",
       "    <tr>\n",
       "      <th>5</th>\n",
       "      <td>marital-status</td>\n",
       "      <td>Feature</td>\n",
       "      <td>Categorical</td>\n",
       "      <td>Other</td>\n",
       "      <td>Married-civ-spouse, Divorced, Never-married, Separated, Widowed, Married-spouse-absent, Married-AF-spouse.</td>\n",
       "      <td>None</td>\n",
       "      <td>no</td>\n",
       "    </tr>\n",
       "    <tr>\n",
       "      <th>6</th>\n",
       "      <td>occupation</td>\n",
       "      <td>Feature</td>\n",
       "      <td>Categorical</td>\n",
       "      <td>Other</td>\n",
       "      <td>Tech-support, Craft-repair, Other-service, Sales, Exec-managerial, Prof-specialty, Handlers-cleaners, Machine-op-inspct, Adm-clerical, Farming-fishing, Transport-moving, Priv-house-serv, Protective-serv, Armed-Forces.</td>\n",
       "      <td>None</td>\n",
       "      <td>yes</td>\n",
       "    </tr>\n",
       "    <tr>\n",
       "      <th>7</th>\n",
       "      <td>relationship</td>\n",
       "      <td>Feature</td>\n",
       "      <td>Categorical</td>\n",
       "      <td>Other</td>\n",
       "      <td>Wife, Own-child, Husband, Not-in-family, Other-relative, Unmarried.</td>\n",
       "      <td>None</td>\n",
       "      <td>no</td>\n",
       "    </tr>\n",
       "    <tr>\n",
       "      <th>8</th>\n",
       "      <td>race</td>\n",
       "      <td>Feature</td>\n",
       "      <td>Categorical</td>\n",
       "      <td>Race</td>\n",
       "      <td>White, Asian-Pac-Islander, Amer-Indian-Eskimo, Other, Black.</td>\n",
       "      <td>None</td>\n",
       "      <td>no</td>\n",
       "    </tr>\n",
       "    <tr>\n",
       "      <th>9</th>\n",
       "      <td>sex</td>\n",
       "      <td>Feature</td>\n",
       "      <td>Binary</td>\n",
       "      <td>Sex</td>\n",
       "      <td>Female, Male.</td>\n",
       "      <td>None</td>\n",
       "      <td>no</td>\n",
       "    </tr>\n",
       "    <tr>\n",
       "      <th>10</th>\n",
       "      <td>capital-gain</td>\n",
       "      <td>Feature</td>\n",
       "      <td>Integer</td>\n",
       "      <td>None</td>\n",
       "      <td>None</td>\n",
       "      <td>None</td>\n",
       "      <td>no</td>\n",
       "    </tr>\n",
       "    <tr>\n",
       "      <th>11</th>\n",
       "      <td>capital-loss</td>\n",
       "      <td>Feature</td>\n",
       "      <td>Integer</td>\n",
       "      <td>None</td>\n",
       "      <td>None</td>\n",
       "      <td>None</td>\n",
       "      <td>no</td>\n",
       "    </tr>\n",
       "    <tr>\n",
       "      <th>12</th>\n",
       "      <td>hours-per-week</td>\n",
       "      <td>Feature</td>\n",
       "      <td>Integer</td>\n",
       "      <td>None</td>\n",
       "      <td>None</td>\n",
       "      <td>None</td>\n",
       "      <td>no</td>\n",
       "    </tr>\n",
       "    <tr>\n",
       "      <th>13</th>\n",
       "      <td>native-country</td>\n",
       "      <td>Feature</td>\n",
       "      <td>Categorical</td>\n",
       "      <td>Other</td>\n",
       "      <td>United-States, Cambodia, England, Puerto-Rico, Canada, Germany, Outlying-US(Guam-USVI-etc), India, Japan, Greece, South, China, Cuba, Iran, Honduras, Philippines, Italy, Poland, Jamaica, Vietnam, Mexico, Portugal, Ireland, France, Dominican-Republic, Laos, Ecuador, Taiwan, Haiti, Columbia, Hungary, Guatemala, Nicaragua, Scotland, Thailand, Yugoslavia, El-Salvador, Trinadad&amp;Tobago, Peru, Hong, Holand-Netherlands.</td>\n",
       "      <td>None</td>\n",
       "      <td>yes</td>\n",
       "    </tr>\n",
       "    <tr>\n",
       "      <th>14</th>\n",
       "      <td>income</td>\n",
       "      <td>Target</td>\n",
       "      <td>Binary</td>\n",
       "      <td>Income</td>\n",
       "      <td>&gt;50K, &lt;=50K.</td>\n",
       "      <td>None</td>\n",
       "      <td>no</td>\n",
       "    </tr>\n",
       "  </tbody>\n",
       "</table>\n",
       "</div>"
      ],
      "text/plain": [
       "              name     role         type      demographic  \\\n",
       "0              age  Feature      Integer              Age   \n",
       "1        workclass  Feature  Categorical           Income   \n",
       "2           fnlwgt  Feature      Integer             None   \n",
       "3        education  Feature  Categorical  Education Level   \n",
       "4    education-num  Feature      Integer  Education Level   \n",
       "5   marital-status  Feature  Categorical            Other   \n",
       "6       occupation  Feature  Categorical            Other   \n",
       "7     relationship  Feature  Categorical            Other   \n",
       "8             race  Feature  Categorical             Race   \n",
       "9              sex  Feature       Binary              Sex   \n",
       "10    capital-gain  Feature      Integer             None   \n",
       "11    capital-loss  Feature      Integer             None   \n",
       "12  hours-per-week  Feature      Integer             None   \n",
       "13  native-country  Feature  Categorical            Other   \n",
       "14          income   Target       Binary           Income   \n",
       "\n",
       "                                                                                                                                                                                                                                                                                                                                                                                                                        description  \\\n",
       "0                                                                                                                                                                                                                                                                                                                                                                                                                               N/A   \n",
       "1                                                                                                                                                                                                                                                                                                                            Private, Self-emp-not-inc, Self-emp-inc, Federal-gov, Local-gov, State-gov, Without-pay, Never-worked.   \n",
       "2                                                                                                                                                                                                                                                                                                                                                                                                                              None   \n",
       "3                                                                                                                                                                                                                                                                            Bachelors, Some-college, 11th, HS-grad, Prof-school, Assoc-acdm, Assoc-voc, 9th, 7th-8th, 12th, Masters, 1st-4th, 10th, Doctorate, 5th-6th, Preschool.   \n",
       "4                                                                                                                                                                                                                                                                                                                                                                                                                              None   \n",
       "5                                                                                                                                                                                                                                                                                                                        Married-civ-spouse, Divorced, Never-married, Separated, Widowed, Married-spouse-absent, Married-AF-spouse.   \n",
       "6                                                                                                                                                                                                         Tech-support, Craft-repair, Other-service, Sales, Exec-managerial, Prof-specialty, Handlers-cleaners, Machine-op-inspct, Adm-clerical, Farming-fishing, Transport-moving, Priv-house-serv, Protective-serv, Armed-Forces.   \n",
       "7                                                                                                                                                                                                                                                                                                                                                               Wife, Own-child, Husband, Not-in-family, Other-relative, Unmarried.   \n",
       "8                                                                                                                                                                                                                                                                                                                                                                      White, Asian-Pac-Islander, Amer-Indian-Eskimo, Other, Black.   \n",
       "9                                                                                                                                                                                                                                                                                                                                                                                                                     Female, Male.   \n",
       "10                                                                                                                                                                                                                                                                                                                                                                                                                             None   \n",
       "11                                                                                                                                                                                                                                                                                                                                                                                                                             None   \n",
       "12                                                                                                                                                                                                                                                                                                                                                                                                                             None   \n",
       "13  United-States, Cambodia, England, Puerto-Rico, Canada, Germany, Outlying-US(Guam-USVI-etc), India, Japan, Greece, South, China, Cuba, Iran, Honduras, Philippines, Italy, Poland, Jamaica, Vietnam, Mexico, Portugal, Ireland, France, Dominican-Republic, Laos, Ecuador, Taiwan, Haiti, Columbia, Hungary, Guatemala, Nicaragua, Scotland, Thailand, Yugoslavia, El-Salvador, Trinadad&Tobago, Peru, Hong, Holand-Netherlands.   \n",
       "14                                                                                                                                                                                                                                                                                                                                                                                                                     >50K, <=50K.   \n",
       "\n",
       "   units missing_values  \n",
       "0   None             no  \n",
       "1   None            yes  \n",
       "2   None             no  \n",
       "3   None             no  \n",
       "4   None             no  \n",
       "5   None             no  \n",
       "6   None            yes  \n",
       "7   None             no  \n",
       "8   None             no  \n",
       "9   None             no  \n",
       "10  None             no  \n",
       "11  None             no  \n",
       "12  None             no  \n",
       "13  None            yes  \n",
       "14  None             no  "
      ]
     },
     "execution_count": 10,
     "metadata": {},
     "output_type": "execute_result"
    }
   ],
   "source": [
    "adult.variables"
   ]
  },
  {
   "cell_type": "code",
   "execution_count": 21,
   "metadata": {},
   "outputs": [
    {
     "data": {
      "text/plain": [
       "income\n",
       "<=50K     24720\n",
       "<=50K.    12435\n",
       ">50K       7841\n",
       ">50K.      3846\n",
       "Name: count, dtype: int64"
      ]
     },
     "execution_count": 21,
     "metadata": {},
     "output_type": "execute_result"
    }
   ],
   "source": [
    "y.value_counts()"
   ]
  },
  {
   "cell_type": "code",
   "execution_count": 12,
   "metadata": {},
   "outputs": [
    {
     "data": {
      "text/html": [
       "<div>\n",
       "<style scoped>\n",
       "    .dataframe tbody tr th:only-of-type {\n",
       "        vertical-align: middle;\n",
       "    }\n",
       "\n",
       "    .dataframe tbody tr th {\n",
       "        vertical-align: top;\n",
       "    }\n",
       "\n",
       "    .dataframe thead th {\n",
       "        text-align: right;\n",
       "    }\n",
       "</style>\n",
       "<table border=\"1\" class=\"dataframe\">\n",
       "  <thead>\n",
       "    <tr style=\"text-align: right;\">\n",
       "      <th></th>\n",
       "      <th>age</th>\n",
       "      <th>fnlwgt</th>\n",
       "      <th>education-num</th>\n",
       "      <th>capital-gain</th>\n",
       "      <th>capital-loss</th>\n",
       "      <th>hours-per-week</th>\n",
       "    </tr>\n",
       "  </thead>\n",
       "  <tbody>\n",
       "    <tr>\n",
       "      <th>count</th>\n",
       "      <td>48842.000000</td>\n",
       "      <td>4.884200e+04</td>\n",
       "      <td>48842.000000</td>\n",
       "      <td>48842.000000</td>\n",
       "      <td>48842.000000</td>\n",
       "      <td>48842.000000</td>\n",
       "    </tr>\n",
       "    <tr>\n",
       "      <th>mean</th>\n",
       "      <td>38.643585</td>\n",
       "      <td>1.896641e+05</td>\n",
       "      <td>10.078089</td>\n",
       "      <td>1079.067626</td>\n",
       "      <td>87.502314</td>\n",
       "      <td>40.422382</td>\n",
       "    </tr>\n",
       "    <tr>\n",
       "      <th>std</th>\n",
       "      <td>13.710510</td>\n",
       "      <td>1.056040e+05</td>\n",
       "      <td>2.570973</td>\n",
       "      <td>7452.019058</td>\n",
       "      <td>403.004552</td>\n",
       "      <td>12.391444</td>\n",
       "    </tr>\n",
       "    <tr>\n",
       "      <th>min</th>\n",
       "      <td>17.000000</td>\n",
       "      <td>1.228500e+04</td>\n",
       "      <td>1.000000</td>\n",
       "      <td>0.000000</td>\n",
       "      <td>0.000000</td>\n",
       "      <td>1.000000</td>\n",
       "    </tr>\n",
       "    <tr>\n",
       "      <th>25%</th>\n",
       "      <td>28.000000</td>\n",
       "      <td>1.175505e+05</td>\n",
       "      <td>9.000000</td>\n",
       "      <td>0.000000</td>\n",
       "      <td>0.000000</td>\n",
       "      <td>40.000000</td>\n",
       "    </tr>\n",
       "    <tr>\n",
       "      <th>50%</th>\n",
       "      <td>37.000000</td>\n",
       "      <td>1.781445e+05</td>\n",
       "      <td>10.000000</td>\n",
       "      <td>0.000000</td>\n",
       "      <td>0.000000</td>\n",
       "      <td>40.000000</td>\n",
       "    </tr>\n",
       "    <tr>\n",
       "      <th>75%</th>\n",
       "      <td>48.000000</td>\n",
       "      <td>2.376420e+05</td>\n",
       "      <td>12.000000</td>\n",
       "      <td>0.000000</td>\n",
       "      <td>0.000000</td>\n",
       "      <td>45.000000</td>\n",
       "    </tr>\n",
       "    <tr>\n",
       "      <th>max</th>\n",
       "      <td>90.000000</td>\n",
       "      <td>1.490400e+06</td>\n",
       "      <td>16.000000</td>\n",
       "      <td>99999.000000</td>\n",
       "      <td>4356.000000</td>\n",
       "      <td>99.000000</td>\n",
       "    </tr>\n",
       "  </tbody>\n",
       "</table>\n",
       "</div>"
      ],
      "text/plain": [
       "                age        fnlwgt  education-num  capital-gain  capital-loss  \\\n",
       "count  48842.000000  4.884200e+04   48842.000000  48842.000000  48842.000000   \n",
       "mean      38.643585  1.896641e+05      10.078089   1079.067626     87.502314   \n",
       "std       13.710510  1.056040e+05       2.570973   7452.019058    403.004552   \n",
       "min       17.000000  1.228500e+04       1.000000      0.000000      0.000000   \n",
       "25%       28.000000  1.175505e+05       9.000000      0.000000      0.000000   \n",
       "50%       37.000000  1.781445e+05      10.000000      0.000000      0.000000   \n",
       "75%       48.000000  2.376420e+05      12.000000      0.000000      0.000000   \n",
       "max       90.000000  1.490400e+06      16.000000  99999.000000   4356.000000   \n",
       "\n",
       "       hours-per-week  \n",
       "count    48842.000000  \n",
       "mean        40.422382  \n",
       "std         12.391444  \n",
       "min          1.000000  \n",
       "25%         40.000000  \n",
       "50%         40.000000  \n",
       "75%         45.000000  \n",
       "max         99.000000  "
      ]
     },
     "execution_count": 12,
     "metadata": {},
     "output_type": "execute_result"
    }
   ],
   "source": [
    "X.describe()"
   ]
  },
  {
   "cell_type": "code",
   "execution_count": 13,
   "metadata": {},
   "outputs": [
    {
     "name": "stdout",
     "output_type": "stream",
     "text": [
      "<class 'pandas.core.frame.DataFrame'>\n",
      "RangeIndex: 48842 entries, 0 to 48841\n",
      "Data columns (total 14 columns):\n",
      " #   Column          Non-Null Count  Dtype \n",
      "---  ------          --------------  ----- \n",
      " 0   age             48842 non-null  int64 \n",
      " 1   workclass       47879 non-null  object\n",
      " 2   fnlwgt          48842 non-null  int64 \n",
      " 3   education       48842 non-null  object\n",
      " 4   education-num   48842 non-null  int64 \n",
      " 5   marital-status  48842 non-null  object\n",
      " 6   occupation      47876 non-null  object\n",
      " 7   relationship    48842 non-null  object\n",
      " 8   race            48842 non-null  object\n",
      " 9   sex             48842 non-null  object\n",
      " 10  capital-gain    48842 non-null  int64 \n",
      " 11  capital-loss    48842 non-null  int64 \n",
      " 12  hours-per-week  48842 non-null  int64 \n",
      " 13  native-country  48568 non-null  object\n",
      "dtypes: int64(6), object(8)\n",
      "memory usage: 5.2+ MB\n"
     ]
    }
   ],
   "source": [
    "X.info()"
   ]
  },
  {
   "cell_type": "code",
   "execution_count": 22,
   "metadata": {},
   "outputs": [
    {
     "data": {
      "text/html": [
       "<div>\n",
       "<style scoped>\n",
       "    .dataframe tbody tr th:only-of-type {\n",
       "        vertical-align: middle;\n",
       "    }\n",
       "\n",
       "    .dataframe tbody tr th {\n",
       "        vertical-align: top;\n",
       "    }\n",
       "\n",
       "    .dataframe thead th {\n",
       "        text-align: right;\n",
       "    }\n",
       "</style>\n",
       "<table border=\"1\" class=\"dataframe\">\n",
       "  <thead>\n",
       "    <tr style=\"text-align: right;\">\n",
       "      <th></th>\n",
       "      <th>age</th>\n",
       "      <th>workclass</th>\n",
       "      <th>fnlwgt</th>\n",
       "      <th>education</th>\n",
       "      <th>education-num</th>\n",
       "      <th>marital-status</th>\n",
       "      <th>occupation</th>\n",
       "      <th>relationship</th>\n",
       "      <th>race</th>\n",
       "      <th>sex</th>\n",
       "      <th>capital-gain</th>\n",
       "      <th>capital-loss</th>\n",
       "      <th>hours-per-week</th>\n",
       "      <th>native-country</th>\n",
       "    </tr>\n",
       "  </thead>\n",
       "  <tbody>\n",
       "    <tr>\n",
       "      <th>0</th>\n",
       "      <td>39</td>\n",
       "      <td>State-gov</td>\n",
       "      <td>77516</td>\n",
       "      <td>Bachelors</td>\n",
       "      <td>13</td>\n",
       "      <td>Never-married</td>\n",
       "      <td>Adm-clerical</td>\n",
       "      <td>Not-in-family</td>\n",
       "      <td>White</td>\n",
       "      <td>Male</td>\n",
       "      <td>2174</td>\n",
       "      <td>0</td>\n",
       "      <td>40</td>\n",
       "      <td>United-States</td>\n",
       "    </tr>\n",
       "    <tr>\n",
       "      <th>1</th>\n",
       "      <td>50</td>\n",
       "      <td>Self-emp-not-inc</td>\n",
       "      <td>83311</td>\n",
       "      <td>Bachelors</td>\n",
       "      <td>13</td>\n",
       "      <td>Married-civ-spouse</td>\n",
       "      <td>Exec-managerial</td>\n",
       "      <td>Husband</td>\n",
       "      <td>White</td>\n",
       "      <td>Male</td>\n",
       "      <td>0</td>\n",
       "      <td>0</td>\n",
       "      <td>13</td>\n",
       "      <td>United-States</td>\n",
       "    </tr>\n",
       "    <tr>\n",
       "      <th>2</th>\n",
       "      <td>38</td>\n",
       "      <td>Private</td>\n",
       "      <td>215646</td>\n",
       "      <td>HS-grad</td>\n",
       "      <td>9</td>\n",
       "      <td>Divorced</td>\n",
       "      <td>Handlers-cleaners</td>\n",
       "      <td>Not-in-family</td>\n",
       "      <td>White</td>\n",
       "      <td>Male</td>\n",
       "      <td>0</td>\n",
       "      <td>0</td>\n",
       "      <td>40</td>\n",
       "      <td>United-States</td>\n",
       "    </tr>\n",
       "    <tr>\n",
       "      <th>3</th>\n",
       "      <td>53</td>\n",
       "      <td>Private</td>\n",
       "      <td>234721</td>\n",
       "      <td>11th</td>\n",
       "      <td>7</td>\n",
       "      <td>Married-civ-spouse</td>\n",
       "      <td>Handlers-cleaners</td>\n",
       "      <td>Husband</td>\n",
       "      <td>Black</td>\n",
       "      <td>Male</td>\n",
       "      <td>0</td>\n",
       "      <td>0</td>\n",
       "      <td>40</td>\n",
       "      <td>United-States</td>\n",
       "    </tr>\n",
       "    <tr>\n",
       "      <th>4</th>\n",
       "      <td>28</td>\n",
       "      <td>Private</td>\n",
       "      <td>338409</td>\n",
       "      <td>Bachelors</td>\n",
       "      <td>13</td>\n",
       "      <td>Married-civ-spouse</td>\n",
       "      <td>Prof-specialty</td>\n",
       "      <td>Wife</td>\n",
       "      <td>Black</td>\n",
       "      <td>Female</td>\n",
       "      <td>0</td>\n",
       "      <td>0</td>\n",
       "      <td>40</td>\n",
       "      <td>Cuba</td>\n",
       "    </tr>\n",
       "  </tbody>\n",
       "</table>\n",
       "</div>"
      ],
      "text/plain": [
       "   age         workclass  fnlwgt  education  education-num  \\\n",
       "0   39         State-gov   77516  Bachelors             13   \n",
       "1   50  Self-emp-not-inc   83311  Bachelors             13   \n",
       "2   38           Private  215646    HS-grad              9   \n",
       "3   53           Private  234721       11th              7   \n",
       "4   28           Private  338409  Bachelors             13   \n",
       "\n",
       "       marital-status         occupation   relationship   race     sex  \\\n",
       "0       Never-married       Adm-clerical  Not-in-family  White    Male   \n",
       "1  Married-civ-spouse    Exec-managerial        Husband  White    Male   \n",
       "2            Divorced  Handlers-cleaners  Not-in-family  White    Male   \n",
       "3  Married-civ-spouse  Handlers-cleaners        Husband  Black    Male   \n",
       "4  Married-civ-spouse     Prof-specialty           Wife  Black  Female   \n",
       "\n",
       "   capital-gain  capital-loss  hours-per-week native-country  \n",
       "0          2174             0              40  United-States  \n",
       "1             0             0              13  United-States  \n",
       "2             0             0              40  United-States  \n",
       "3             0             0              40  United-States  \n",
       "4             0             0              40           Cuba  "
      ]
     },
     "execution_count": 22,
     "metadata": {},
     "output_type": "execute_result"
    }
   ],
   "source": [
    "X.head()"
   ]
  },
  {
   "cell_type": "markdown",
   "metadata": {},
   "source": [
    "S3 경로 설정"
   ]
  },
  {
   "cell_type": "code",
   "execution_count": 39,
   "metadata": {},
   "outputs": [],
   "source": [
    "bucket_name = 'dante-sagemaker'\n",
    "project_name = 'adult-income-classification'"
   ]
  },
  {
   "cell_type": "code",
   "execution_count": 77,
   "metadata": {},
   "outputs": [
    {
     "name": "stdout",
     "output_type": "stream",
     "text": [
      "train_path: s3://dante-sagemaker/adult-income-classification/input/train/train.recordio\n",
      "val_path: s3://dante-sagemaker/adult-income-classification/input/val/val.recordio\n",
      "test_path: s3://dante-sagemaker/adult-income-classification/input/test/test.csv\n",
      "model_path: s3://dante-sagemaker/adult-income-classification/model\n",
      "asset_path: s3://dante-sagemaker/adult-income-classification/asset\n",
      "checkpoint_path: s3://dante-sagemaker/adult-income-classification/checkpoints\n",
      "script_path: s3://dante-sagemaker/adult-income-classification/script\n",
      "pca_path: s3://dante-sagemaker/adult-income-classification/pca\n"
     ]
    }
   ],
   "source": [
    "input_path = f's3://{bucket_name}/{project_name}/input'\n",
    "output_path = f's3://{bucket_name}/{project_name}/output'\n",
    "model_path = f's3://{bucket_name}/{project_name}/model'\n",
    "asset_path = f's3://{bucket_name}/{project_name}/asset'\n",
    "script_path = f's3://{bucket_name}/{project_name}/script'\n",
    "checkpoint_path = f's3://{bucket_name}/{project_name}/checkpoints'\n",
    "pca_path = f's3://{bucket_name}/{project_name}/pca'\n",
    "\n",
    "train_path = f'{input_path}/train/train.recordio'\n",
    "val_path = f'{input_path}/val/val.recordio'\n",
    "test_path = f'{input_path}/test/test.csv'\n",
    "\n",
    "print('train_path:', train_path)\n",
    "print('val_path:', val_path)\n",
    "print('test_path:', test_path)\n",
    "print('model_path:', model_path)\n",
    "print('asset_path:', asset_path)\n",
    "print('checkpoint_path:', checkpoint_path)\n",
    "print('script_path:', script_path)\n",
    "print('pca_path:', pca_path)"
   ]
  },
  {
   "cell_type": "markdown",
   "metadata": {},
   "source": [
    "테스트 데이터 분리 및 S3 업로드"
   ]
  },
  {
   "cell_type": "code",
   "execution_count": 37,
   "metadata": {},
   "outputs": [],
   "source": [
    "X_tmp, X_test, y_tmp, y_test = train_test_split(X, y, test_size = 0.1, random_state = 2024)"
   ]
  },
  {
   "cell_type": "code",
   "execution_count": 42,
   "metadata": {},
   "outputs": [
    {
     "data": {
      "text/plain": [
       "{'paths': ['s3://dante-sagemaker/adult-income-classification/input/test/test.csv'],\n",
       " 'partitions_values': {}}"
      ]
     },
     "execution_count": 42,
     "metadata": {},
     "output_type": "execute_result"
    }
   ],
   "source": [
    "test_df = pd.concat([y_test, X_test], axis=1)\n",
    "wr.s3.to_csv(test_df, test_path, index=False, boto3_session=boto3_session)"
   ]
  },
  {
   "cell_type": "markdown",
   "metadata": {},
   "source": [
    "데이터 전처리"
   ]
  },
  {
   "cell_type": "code",
   "execution_count": 43,
   "metadata": {},
   "outputs": [],
   "source": [
    "# '?' 값을 NaN으로 대체\n",
    "X_tmp[X_tmp == '?'] = np.nan"
   ]
  },
  {
   "cell_type": "code",
   "execution_count": 44,
   "metadata": {},
   "outputs": [
    {
     "data": {
      "text/plain": [
       "Index(['workclass', 'education', 'marital-status', 'occupation',\n",
       "       'relationship', 'race', 'sex', 'native-country'],\n",
       "      dtype='object')"
      ]
     },
     "execution_count": 44,
     "metadata": {},
     "output_type": "execute_result"
    }
   ],
   "source": [
    "# 범주형(object) 데이터 열 이름 확인\n",
    "X_tmp.select_dtypes(include=['object']).columns"
   ]
  },
  {
   "cell_type": "code",
   "execution_count": 46,
   "metadata": {},
   "outputs": [
    {
     "name": "stdout",
     "output_type": "stream",
     "text": [
      "<class 'pandas.core.frame.DataFrame'>\n",
      "Index: 43957 entries, 25825 to 7816\n",
      "Data columns (total 14 columns):\n",
      " #   Column          Non-Null Count  Dtype \n",
      "---  ------          --------------  ----- \n",
      " 0   age             43957 non-null  int64 \n",
      " 1   workclass       43957 non-null  object\n",
      " 2   fnlwgt          43957 non-null  int64 \n",
      " 3   education       43957 non-null  object\n",
      " 4   education-num   43957 non-null  int64 \n",
      " 5   marital-status  43957 non-null  object\n",
      " 6   occupation      43957 non-null  object\n",
      " 7   relationship    43957 non-null  object\n",
      " 8   race            43957 non-null  object\n",
      " 9   sex             43957 non-null  object\n",
      " 10  capital-gain    43957 non-null  int64 \n",
      " 11  capital-loss    43957 non-null  int64 \n",
      " 12  hours-per-week  43957 non-null  int64 \n",
      " 13  native-country  43957 non-null  object\n",
      "dtypes: int64(6), object(8)\n",
      "memory usage: 5.0+ MB\n"
     ]
    }
   ],
   "source": [
    "# workclass, occupation, native-country 열은 결측치가 존재하기 때문에 이를 최빈값을 보간합니다.\n",
    "X_tmp['workclass'].fillna(X_tmp['workclass'].mode()[0], inplace=True)\n",
    "X_tmp['occupation'].fillna(X_tmp['occupation'].mode()[0], inplace=True)\n",
    "X_tmp['native-country'].fillna(X_tmp['native-country'].mode()[0], inplace=True)\n",
    "X_tmp.info()"
   ]
  },
  {
   "cell_type": "code",
   "execution_count": 47,
   "metadata": {},
   "outputs": [
    {
     "data": {
      "text/plain": [
       "income\n",
       "0         33456\n",
       "1         10501\n",
       "Name: count, dtype: int64"
      ]
     },
     "execution_count": 47,
     "metadata": {},
     "output_type": "execute_result"
    }
   ],
   "source": [
    "# 타겟 변수 'y'를 이진 분류를 위해 숫자로 변환\n",
    "# '<=50K'와 '<=50K.'는 0으로, '>50K'와 '>50K.'는 1로 변환\n",
    "y_tmp = y_tmp.replace({\n",
    "    '<=50K': 0,\n",
    "    '<=50K.': 0,\n",
    "    '>50K': 1,\n",
    "    '>50K.': 1\n",
    "})\n",
    "y_tmp.value_counts()"
   ]
  },
  {
   "cell_type": "code",
   "execution_count": 48,
   "metadata": {},
   "outputs": [],
   "source": [
    "X_train, X_val, y_train, y_val = train_test_split(X_tmp, y_tmp, test_size = 0.3, random_state = 2024)"
   ]
  },
  {
   "cell_type": "code",
   "execution_count": 49,
   "metadata": {},
   "outputs": [],
   "source": [
    "# 범주형 변수를 인코딩하기 위한 딕셔너리 생성\n",
    "feature_encoders = {}\n",
    "\n",
    "# 범주형(object) 데이터 열 선택\n",
    "categorical_cols = X.select_dtypes(include=['object']).columns\n",
    "\n",
    "# 각 범주형 열에 대해 레이블 인코딩 수행\n",
    "for col in categorical_cols:\n",
    "    # LabelEncoder 객체 생성\n",
    "    encoder = LabelEncoder()\n",
    "    \n",
    "    # 훈련 데이터에 대해 인코더를 학습하고 변환\n",
    "    X_train[col] = encoder.fit_transform(X_train[col])\n",
    "    \n",
    "    # 인코더를 딕셔너리에 저장\n",
    "    feature_encoders[col] = encoder\n",
    "    \n",
    "    # 검증 데이터와 테스트 데이터에 대해 학습된 인코더로 변환\n",
    "    X_val[col] = encoder.transform(X_val[col])"
   ]
  },
  {
   "cell_type": "code",
   "execution_count": 50,
   "metadata": {},
   "outputs": [],
   "source": [
    "# StandardScaler를 사용하여 특성 스케일링 수행\n",
    "scaler = StandardScaler()\n",
    "\n",
    "# 훈련 데이터에 대해 스케일러를 학습하고 변환\n",
    "X_train = pd.DataFrame(scaler.fit_transform(X_train), columns=X_train.columns)\n",
    "\n",
    "# 검증 데이터와 테스트 데이터에 대해 학습된 스케일러로 변환\n",
    "X_val = pd.DataFrame(scaler.transform(X_val), columns=X_val.columns)"
   ]
  },
  {
   "cell_type": "code",
   "execution_count": 51,
   "metadata": {},
   "outputs": [
    {
     "name": "stdout",
     "output_type": "stream",
     "text": [
      "<class 'pandas.core.frame.DataFrame'>\n",
      "RangeIndex: 30769 entries, 0 to 30768\n",
      "Data columns (total 14 columns):\n",
      " #   Column          Non-Null Count  Dtype  \n",
      "---  ------          --------------  -----  \n",
      " 0   age             30769 non-null  float64\n",
      " 1   workclass       30769 non-null  float64\n",
      " 2   fnlwgt          30769 non-null  float64\n",
      " 3   education       30769 non-null  float64\n",
      " 4   education-num   30769 non-null  float64\n",
      " 5   marital-status  30769 non-null  float64\n",
      " 6   occupation      30769 non-null  float64\n",
      " 7   relationship    30769 non-null  float64\n",
      " 8   race            30769 non-null  float64\n",
      " 9   sex             30769 non-null  float64\n",
      " 10  capital-gain    30769 non-null  float64\n",
      " 11  capital-loss    30769 non-null  float64\n",
      " 12  hours-per-week  30769 non-null  float64\n",
      " 13  native-country  30769 non-null  float64\n",
      "dtypes: float64(14)\n",
      "memory usage: 3.3 MB\n"
     ]
    }
   ],
   "source": [
    "# 숫자형 데이터로 모두 변환되었는지 확인\n",
    "X_train.info()"
   ]
  },
  {
   "cell_type": "code",
   "execution_count": 53,
   "metadata": {},
   "outputs": [
    {
     "data": {
      "text/html": [
       "<div>\n",
       "<style scoped>\n",
       "    .dataframe tbody tr th:only-of-type {\n",
       "        vertical-align: middle;\n",
       "    }\n",
       "\n",
       "    .dataframe tbody tr th {\n",
       "        vertical-align: top;\n",
       "    }\n",
       "\n",
       "    .dataframe thead th {\n",
       "        text-align: right;\n",
       "    }\n",
       "</style>\n",
       "<table border=\"1\" class=\"dataframe\">\n",
       "  <thead>\n",
       "    <tr style=\"text-align: right;\">\n",
       "      <th></th>\n",
       "      <th>age</th>\n",
       "      <th>workclass</th>\n",
       "      <th>fnlwgt</th>\n",
       "      <th>education</th>\n",
       "      <th>education-num</th>\n",
       "      <th>marital-status</th>\n",
       "      <th>occupation</th>\n",
       "      <th>relationship</th>\n",
       "      <th>race</th>\n",
       "      <th>sex</th>\n",
       "      <th>capital-gain</th>\n",
       "      <th>capital-loss</th>\n",
       "      <th>hours-per-week</th>\n",
       "      <th>native-country</th>\n",
       "    </tr>\n",
       "  </thead>\n",
       "  <tbody>\n",
       "    <tr>\n",
       "      <th>0</th>\n",
       "      <td>-1.360951</td>\n",
       "      <td>-0.093884</td>\n",
       "      <td>-0.150088</td>\n",
       "      <td>1.214871</td>\n",
       "      <td>-0.027163</td>\n",
       "      <td>0.912707</td>\n",
       "      <td>-0.290514</td>\n",
       "      <td>0.971772</td>\n",
       "      <td>0.391761</td>\n",
       "      <td>0.704144</td>\n",
       "      <td>-0.145479</td>\n",
       "      <td>-0.215481</td>\n",
       "      <td>-1.649635</td>\n",
       "      <td>0.260168</td>\n",
       "    </tr>\n",
       "    <tr>\n",
       "      <th>1</th>\n",
       "      <td>1.044307</td>\n",
       "      <td>-0.093884</td>\n",
       "      <td>-1.514669</td>\n",
       "      <td>0.184108</td>\n",
       "      <td>-0.415719</td>\n",
       "      <td>-0.411967</td>\n",
       "      <td>-1.046313</td>\n",
       "      <td>-0.901651</td>\n",
       "      <td>0.391761</td>\n",
       "      <td>0.704144</td>\n",
       "      <td>-0.145479</td>\n",
       "      <td>-0.215481</td>\n",
       "      <td>-0.033765</td>\n",
       "      <td>0.260168</td>\n",
       "    </tr>\n",
       "    <tr>\n",
       "      <th>2</th>\n",
       "      <td>2.064719</td>\n",
       "      <td>2.600820</td>\n",
       "      <td>0.678506</td>\n",
       "      <td>-1.362036</td>\n",
       "      <td>-2.358501</td>\n",
       "      <td>-0.411967</td>\n",
       "      <td>1.724950</td>\n",
       "      <td>-0.901651</td>\n",
       "      <td>0.391761</td>\n",
       "      <td>0.704144</td>\n",
       "      <td>-0.145479</td>\n",
       "      <td>-0.215481</td>\n",
       "      <td>-0.437733</td>\n",
       "      <td>0.260168</td>\n",
       "    </tr>\n",
       "    <tr>\n",
       "      <th>3</th>\n",
       "      <td>-1.433838</td>\n",
       "      <td>-0.093884</td>\n",
       "      <td>0.288244</td>\n",
       "      <td>1.214871</td>\n",
       "      <td>-0.027163</td>\n",
       "      <td>0.912707</td>\n",
       "      <td>-0.542447</td>\n",
       "      <td>0.971772</td>\n",
       "      <td>0.391761</td>\n",
       "      <td>0.704144</td>\n",
       "      <td>-0.145479</td>\n",
       "      <td>-0.215481</td>\n",
       "      <td>0.774170</td>\n",
       "      <td>0.260168</td>\n",
       "    </tr>\n",
       "    <tr>\n",
       "      <th>4</th>\n",
       "      <td>-1.288065</td>\n",
       "      <td>-0.093884</td>\n",
       "      <td>-0.676139</td>\n",
       "      <td>1.214871</td>\n",
       "      <td>-0.027163</td>\n",
       "      <td>0.912707</td>\n",
       "      <td>1.221084</td>\n",
       "      <td>0.971772</td>\n",
       "      <td>-1.981795</td>\n",
       "      <td>-1.420164</td>\n",
       "      <td>-0.145479</td>\n",
       "      <td>-0.215481</td>\n",
       "      <td>-1.649635</td>\n",
       "      <td>0.260168</td>\n",
       "    </tr>\n",
       "  </tbody>\n",
       "</table>\n",
       "</div>"
      ],
      "text/plain": [
       "        age  workclass    fnlwgt  education  education-num  marital-status  \\\n",
       "0 -1.360951  -0.093884 -0.150088   1.214871      -0.027163        0.912707   \n",
       "1  1.044307  -0.093884 -1.514669   0.184108      -0.415719       -0.411967   \n",
       "2  2.064719   2.600820  0.678506  -1.362036      -2.358501       -0.411967   \n",
       "3 -1.433838  -0.093884  0.288244   1.214871      -0.027163        0.912707   \n",
       "4 -1.288065  -0.093884 -0.676139   1.214871      -0.027163        0.912707   \n",
       "\n",
       "   occupation  relationship      race       sex  capital-gain  capital-loss  \\\n",
       "0   -0.290514      0.971772  0.391761  0.704144     -0.145479     -0.215481   \n",
       "1   -1.046313     -0.901651  0.391761  0.704144     -0.145479     -0.215481   \n",
       "2    1.724950     -0.901651  0.391761  0.704144     -0.145479     -0.215481   \n",
       "3   -0.542447      0.971772  0.391761  0.704144     -0.145479     -0.215481   \n",
       "4    1.221084      0.971772 -1.981795 -1.420164     -0.145479     -0.215481   \n",
       "\n",
       "   hours-per-week  native-country  \n",
       "0       -1.649635        0.260168  \n",
       "1       -0.033765        0.260168  \n",
       "2       -0.437733        0.260168  \n",
       "3        0.774170        0.260168  \n",
       "4       -1.649635        0.260168  "
      ]
     },
     "execution_count": 53,
     "metadata": {},
     "output_type": "execute_result"
    }
   ],
   "source": [
    "X_train.head()"
   ]
  },
  {
   "cell_type": "code",
   "execution_count": 52,
   "metadata": {},
   "outputs": [],
   "source": [
    "# 추후 테스트를 위해 인코더, 스케일러를 파일로 저장\n",
    "os.makedirs('dataset', exist_ok=True)\n",
    "with open('dataset/adult_encoders.pkl', 'wb') as f:\n",
    "    pickle.dump(feature_encoders, f)\n",
    "with open('dataset/adult_scaler.pkl', 'wb') as f:\n",
    "    pickle.dump(scaler, f)"
   ]
  },
  {
   "cell_type": "code",
   "execution_count": null,
   "metadata": {},
   "outputs": [],
   "source": [
    "# 인코더 업로드\n",
    "encoders_s3_path = os.path.join(asset_path, 'adult_encoders.pkl')\n",
    "wr.s3.upload('dataset/adult_encoders.pkl', encoders_s3_path, boto3_session=boto3_session)\n",
    "# 스케일러 업로드\n",
    "scaler_s3_path = os.path.join(asset_path, 'adult_scaler.pkl')\n",
    "wr.s3.upload('dataset/adult_scaler.pkl', scaler_s3_path, boto3_session=boto3_session)"
   ]
  },
  {
   "cell_type": "markdown",
   "metadata": {},
   "source": [
    "### 로컬 모드\n",
    "---"
   ]
  },
  {
   "cell_type": "markdown",
   "metadata": {},
   "source": [
    "차원 축소"
   ]
  },
  {
   "cell_type": "code",
   "execution_count": 54,
   "metadata": {},
   "outputs": [],
   "source": [
    "pca = PCA(n_components=0.9)\n",
    "X_train_pca = pca.fit_transform(X_train)\n",
    "X_val_pca = pca.transform(X_val)"
   ]
  },
  {
   "cell_type": "code",
   "execution_count": 55,
   "metadata": {},
   "outputs": [
    {
     "data": {
      "text/plain": [
       "array([0.14650695, 0.10236428, 0.08092191, 0.07883121, 0.07453303,\n",
       "       0.07323439, 0.07035841, 0.06760339, 0.06498243, 0.06107142,\n",
       "       0.06064704, 0.04896272])"
      ]
     },
     "execution_count": 55,
     "metadata": {},
     "output_type": "execute_result"
    }
   ],
   "source": [
    "pca.explained_variance_ratio_"
   ]
  },
  {
   "cell_type": "code",
   "execution_count": 56,
   "metadata": {},
   "outputs": [
    {
     "name": "stdout",
     "output_type": "stream",
     "text": [
      "차원축소 : (30769, 14) -> (30769, 12)\n",
      "차원축소 : (13188, 14) -> (13188, 12)\n"
     ]
    }
   ],
   "source": [
    "print(f\"차원축소 : {X_train.shape} -> {X_train_pca.shape}\")\n",
    "print(f\"차원축소 : {X_val.shape} -> {X_val_pca.shape}\")"
   ]
  },
  {
   "cell_type": "markdown",
   "metadata": {},
   "source": [
    "모델 훈련"
   ]
  },
  {
   "cell_type": "code",
   "execution_count": 57,
   "metadata": {},
   "outputs": [
    {
     "name": "stdout",
     "output_type": "stream",
     "text": [
      "XGBoost 모델의 정확도: 0.8396\n"
     ]
    }
   ],
   "source": [
    "# XGBoost 모델 생성 및 학습\n",
    "xgb_model = XGBClassifier(random_state=2024)\n",
    "xgb_model.fit(X_train_pca, y_train)\n",
    "\n",
    "# 검증 세트에 대한 예측\n",
    "y_val_pred = xgb_model.predict(X_val_pca)\n",
    "\n",
    "# 모델 성능 평가\n",
    "accuracy = accuracy_score(y_val, y_val_pred)\n",
    "print(f\"XGBoost 모델의 정확도: {accuracy:.4f}\")"
   ]
  },
  {
   "cell_type": "markdown",
   "metadata": {},
   "source": [
    "시각화"
   ]
  },
  {
   "cell_type": "code",
   "execution_count": 61,
   "metadata": {},
   "outputs": [
    {
     "data": {
      "application/vnd.plotly.v1+json": {
       "config": {
        "plotlyServerURL": "https://plot.ly"
       },
       "data": [
        {
         "colorscale": [
          [
           0,
           "#440154"
          ],
          [
           0.1111111111111111,
           "#482878"
          ],
          [
           0.2222222222222222,
           "#3e4989"
          ],
          [
           0.3333333333333333,
           "#31688e"
          ],
          [
           0.4444444444444444,
           "#26828e"
          ],
          [
           0.5555555555555556,
           "#1f9e89"
          ],
          [
           0.6666666666666666,
           "#35b779"
          ],
          [
           0.7777777777777778,
           "#6ece58"
          ],
          [
           0.8888888888888888,
           "#b5de2b"
          ],
          [
           1,
           "#fde725"
          ]
         ],
         "type": "heatmap",
         "x": [
          0,
          1
         ],
         "y": [
          0,
          1
         ],
         "z": [
          [
           9208,
           817
          ],
          [
           1299,
           1864
          ]
         ]
        }
       ],
       "layout": {
        "annotations": [
         {
          "font": {
           "color": "black"
          },
          "showarrow": false,
          "text": "9208",
          "x": 0,
          "y": 0
         },
         {
          "font": {
           "color": "white"
          },
          "showarrow": false,
          "text": "817",
          "x": 1,
          "y": 0
         },
         {
          "font": {
           "color": "white"
          },
          "showarrow": false,
          "text": "1299",
          "x": 0,
          "y": 1
         },
         {
          "font": {
           "color": "white"
          },
          "showarrow": false,
          "text": "1864",
          "x": 1,
          "y": 1
         }
        ],
        "template": {
         "data": {
          "bar": [
           {
            "error_x": {
             "color": "#2a3f5f"
            },
            "error_y": {
             "color": "#2a3f5f"
            },
            "marker": {
             "line": {
              "color": "#E5ECF6",
              "width": 0.5
             },
             "pattern": {
              "fillmode": "overlay",
              "size": 10,
              "solidity": 0.2
             }
            },
            "type": "bar"
           }
          ],
          "barpolar": [
           {
            "marker": {
             "line": {
              "color": "#E5ECF6",
              "width": 0.5
             },
             "pattern": {
              "fillmode": "overlay",
              "size": 10,
              "solidity": 0.2
             }
            },
            "type": "barpolar"
           }
          ],
          "carpet": [
           {
            "aaxis": {
             "endlinecolor": "#2a3f5f",
             "gridcolor": "white",
             "linecolor": "white",
             "minorgridcolor": "white",
             "startlinecolor": "#2a3f5f"
            },
            "baxis": {
             "endlinecolor": "#2a3f5f",
             "gridcolor": "white",
             "linecolor": "white",
             "minorgridcolor": "white",
             "startlinecolor": "#2a3f5f"
            },
            "type": "carpet"
           }
          ],
          "choropleth": [
           {
            "colorbar": {
             "outlinewidth": 0,
             "ticks": ""
            },
            "type": "choropleth"
           }
          ],
          "contour": [
           {
            "colorbar": {
             "outlinewidth": 0,
             "ticks": ""
            },
            "colorscale": [
             [
              0,
              "#0d0887"
             ],
             [
              0.1111111111111111,
              "#46039f"
             ],
             [
              0.2222222222222222,
              "#7201a8"
             ],
             [
              0.3333333333333333,
              "#9c179e"
             ],
             [
              0.4444444444444444,
              "#bd3786"
             ],
             [
              0.5555555555555556,
              "#d8576b"
             ],
             [
              0.6666666666666666,
              "#ed7953"
             ],
             [
              0.7777777777777778,
              "#fb9f3a"
             ],
             [
              0.8888888888888888,
              "#fdca26"
             ],
             [
              1,
              "#f0f921"
             ]
            ],
            "type": "contour"
           }
          ],
          "contourcarpet": [
           {
            "colorbar": {
             "outlinewidth": 0,
             "ticks": ""
            },
            "type": "contourcarpet"
           }
          ],
          "heatmap": [
           {
            "colorbar": {
             "outlinewidth": 0,
             "ticks": ""
            },
            "colorscale": [
             [
              0,
              "#0d0887"
             ],
             [
              0.1111111111111111,
              "#46039f"
             ],
             [
              0.2222222222222222,
              "#7201a8"
             ],
             [
              0.3333333333333333,
              "#9c179e"
             ],
             [
              0.4444444444444444,
              "#bd3786"
             ],
             [
              0.5555555555555556,
              "#d8576b"
             ],
             [
              0.6666666666666666,
              "#ed7953"
             ],
             [
              0.7777777777777778,
              "#fb9f3a"
             ],
             [
              0.8888888888888888,
              "#fdca26"
             ],
             [
              1,
              "#f0f921"
             ]
            ],
            "type": "heatmap"
           }
          ],
          "heatmapgl": [
           {
            "colorbar": {
             "outlinewidth": 0,
             "ticks": ""
            },
            "colorscale": [
             [
              0,
              "#0d0887"
             ],
             [
              0.1111111111111111,
              "#46039f"
             ],
             [
              0.2222222222222222,
              "#7201a8"
             ],
             [
              0.3333333333333333,
              "#9c179e"
             ],
             [
              0.4444444444444444,
              "#bd3786"
             ],
             [
              0.5555555555555556,
              "#d8576b"
             ],
             [
              0.6666666666666666,
              "#ed7953"
             ],
             [
              0.7777777777777778,
              "#fb9f3a"
             ],
             [
              0.8888888888888888,
              "#fdca26"
             ],
             [
              1,
              "#f0f921"
             ]
            ],
            "type": "heatmapgl"
           }
          ],
          "histogram": [
           {
            "marker": {
             "pattern": {
              "fillmode": "overlay",
              "size": 10,
              "solidity": 0.2
             }
            },
            "type": "histogram"
           }
          ],
          "histogram2d": [
           {
            "colorbar": {
             "outlinewidth": 0,
             "ticks": ""
            },
            "colorscale": [
             [
              0,
              "#0d0887"
             ],
             [
              0.1111111111111111,
              "#46039f"
             ],
             [
              0.2222222222222222,
              "#7201a8"
             ],
             [
              0.3333333333333333,
              "#9c179e"
             ],
             [
              0.4444444444444444,
              "#bd3786"
             ],
             [
              0.5555555555555556,
              "#d8576b"
             ],
             [
              0.6666666666666666,
              "#ed7953"
             ],
             [
              0.7777777777777778,
              "#fb9f3a"
             ],
             [
              0.8888888888888888,
              "#fdca26"
             ],
             [
              1,
              "#f0f921"
             ]
            ],
            "type": "histogram2d"
           }
          ],
          "histogram2dcontour": [
           {
            "colorbar": {
             "outlinewidth": 0,
             "ticks": ""
            },
            "colorscale": [
             [
              0,
              "#0d0887"
             ],
             [
              0.1111111111111111,
              "#46039f"
             ],
             [
              0.2222222222222222,
              "#7201a8"
             ],
             [
              0.3333333333333333,
              "#9c179e"
             ],
             [
              0.4444444444444444,
              "#bd3786"
             ],
             [
              0.5555555555555556,
              "#d8576b"
             ],
             [
              0.6666666666666666,
              "#ed7953"
             ],
             [
              0.7777777777777778,
              "#fb9f3a"
             ],
             [
              0.8888888888888888,
              "#fdca26"
             ],
             [
              1,
              "#f0f921"
             ]
            ],
            "type": "histogram2dcontour"
           }
          ],
          "mesh3d": [
           {
            "colorbar": {
             "outlinewidth": 0,
             "ticks": ""
            },
            "type": "mesh3d"
           }
          ],
          "parcoords": [
           {
            "line": {
             "colorbar": {
              "outlinewidth": 0,
              "ticks": ""
             }
            },
            "type": "parcoords"
           }
          ],
          "pie": [
           {
            "automargin": true,
            "type": "pie"
           }
          ],
          "scatter": [
           {
            "fillpattern": {
             "fillmode": "overlay",
             "size": 10,
             "solidity": 0.2
            },
            "type": "scatter"
           }
          ],
          "scatter3d": [
           {
            "line": {
             "colorbar": {
              "outlinewidth": 0,
              "ticks": ""
             }
            },
            "marker": {
             "colorbar": {
              "outlinewidth": 0,
              "ticks": ""
             }
            },
            "type": "scatter3d"
           }
          ],
          "scattercarpet": [
           {
            "marker": {
             "colorbar": {
              "outlinewidth": 0,
              "ticks": ""
             }
            },
            "type": "scattercarpet"
           }
          ],
          "scattergeo": [
           {
            "marker": {
             "colorbar": {
              "outlinewidth": 0,
              "ticks": ""
             }
            },
            "type": "scattergeo"
           }
          ],
          "scattergl": [
           {
            "marker": {
             "colorbar": {
              "outlinewidth": 0,
              "ticks": ""
             }
            },
            "type": "scattergl"
           }
          ],
          "scattermapbox": [
           {
            "marker": {
             "colorbar": {
              "outlinewidth": 0,
              "ticks": ""
             }
            },
            "type": "scattermapbox"
           }
          ],
          "scatterpolar": [
           {
            "marker": {
             "colorbar": {
              "outlinewidth": 0,
              "ticks": ""
             }
            },
            "type": "scatterpolar"
           }
          ],
          "scatterpolargl": [
           {
            "marker": {
             "colorbar": {
              "outlinewidth": 0,
              "ticks": ""
             }
            },
            "type": "scatterpolargl"
           }
          ],
          "scatterternary": [
           {
            "marker": {
             "colorbar": {
              "outlinewidth": 0,
              "ticks": ""
             }
            },
            "type": "scatterternary"
           }
          ],
          "surface": [
           {
            "colorbar": {
             "outlinewidth": 0,
             "ticks": ""
            },
            "colorscale": [
             [
              0,
              "#0d0887"
             ],
             [
              0.1111111111111111,
              "#46039f"
             ],
             [
              0.2222222222222222,
              "#7201a8"
             ],
             [
              0.3333333333333333,
              "#9c179e"
             ],
             [
              0.4444444444444444,
              "#bd3786"
             ],
             [
              0.5555555555555556,
              "#d8576b"
             ],
             [
              0.6666666666666666,
              "#ed7953"
             ],
             [
              0.7777777777777778,
              "#fb9f3a"
             ],
             [
              0.8888888888888888,
              "#fdca26"
             ],
             [
              1,
              "#f0f921"
             ]
            ],
            "type": "surface"
           }
          ],
          "table": [
           {
            "cells": {
             "fill": {
              "color": "#EBF0F8"
             },
             "line": {
              "color": "white"
             }
            },
            "header": {
             "fill": {
              "color": "#C8D4E3"
             },
             "line": {
              "color": "white"
             }
            },
            "type": "table"
           }
          ]
         },
         "layout": {
          "annotationdefaults": {
           "arrowcolor": "#2a3f5f",
           "arrowhead": 0,
           "arrowwidth": 1
          },
          "autotypenumbers": "strict",
          "coloraxis": {
           "colorbar": {
            "outlinewidth": 0,
            "ticks": ""
           }
          },
          "colorscale": {
           "diverging": [
            [
             0,
             "#8e0152"
            ],
            [
             0.1,
             "#c51b7d"
            ],
            [
             0.2,
             "#de77ae"
            ],
            [
             0.3,
             "#f1b6da"
            ],
            [
             0.4,
             "#fde0ef"
            ],
            [
             0.5,
             "#f7f7f7"
            ],
            [
             0.6,
             "#e6f5d0"
            ],
            [
             0.7,
             "#b8e186"
            ],
            [
             0.8,
             "#7fbc41"
            ],
            [
             0.9,
             "#4d9221"
            ],
            [
             1,
             "#276419"
            ]
           ],
           "sequential": [
            [
             0,
             "#0d0887"
            ],
            [
             0.1111111111111111,
             "#46039f"
            ],
            [
             0.2222222222222222,
             "#7201a8"
            ],
            [
             0.3333333333333333,
             "#9c179e"
            ],
            [
             0.4444444444444444,
             "#bd3786"
            ],
            [
             0.5555555555555556,
             "#d8576b"
            ],
            [
             0.6666666666666666,
             "#ed7953"
            ],
            [
             0.7777777777777778,
             "#fb9f3a"
            ],
            [
             0.8888888888888888,
             "#fdca26"
            ],
            [
             1,
             "#f0f921"
            ]
           ],
           "sequentialminus": [
            [
             0,
             "#0d0887"
            ],
            [
             0.1111111111111111,
             "#46039f"
            ],
            [
             0.2222222222222222,
             "#7201a8"
            ],
            [
             0.3333333333333333,
             "#9c179e"
            ],
            [
             0.4444444444444444,
             "#bd3786"
            ],
            [
             0.5555555555555556,
             "#d8576b"
            ],
            [
             0.6666666666666666,
             "#ed7953"
            ],
            [
             0.7777777777777778,
             "#fb9f3a"
            ],
            [
             0.8888888888888888,
             "#fdca26"
            ],
            [
             1,
             "#f0f921"
            ]
           ]
          },
          "colorway": [
           "#636efa",
           "#EF553B",
           "#00cc96",
           "#ab63fa",
           "#FFA15A",
           "#19d3f3",
           "#FF6692",
           "#B6E880",
           "#FF97FF",
           "#FECB52"
          ],
          "font": {
           "color": "#2a3f5f"
          },
          "geo": {
           "bgcolor": "white",
           "lakecolor": "white",
           "landcolor": "#E5ECF6",
           "showlakes": true,
           "showland": true,
           "subunitcolor": "white"
          },
          "hoverlabel": {
           "align": "left"
          },
          "hovermode": "closest",
          "mapbox": {
           "style": "light"
          },
          "paper_bgcolor": "white",
          "plot_bgcolor": "#E5ECF6",
          "polar": {
           "angularaxis": {
            "gridcolor": "white",
            "linecolor": "white",
            "ticks": ""
           },
           "bgcolor": "#E5ECF6",
           "radialaxis": {
            "gridcolor": "white",
            "linecolor": "white",
            "ticks": ""
           }
          },
          "scene": {
           "xaxis": {
            "backgroundcolor": "#E5ECF6",
            "gridcolor": "white",
            "gridwidth": 2,
            "linecolor": "white",
            "showbackground": true,
            "ticks": "",
            "zerolinecolor": "white"
           },
           "yaxis": {
            "backgroundcolor": "#E5ECF6",
            "gridcolor": "white",
            "gridwidth": 2,
            "linecolor": "white",
            "showbackground": true,
            "ticks": "",
            "zerolinecolor": "white"
           },
           "zaxis": {
            "backgroundcolor": "#E5ECF6",
            "gridcolor": "white",
            "gridwidth": 2,
            "linecolor": "white",
            "showbackground": true,
            "ticks": "",
            "zerolinecolor": "white"
           }
          },
          "shapedefaults": {
           "line": {
            "color": "#2a3f5f"
           }
          },
          "ternary": {
           "aaxis": {
            "gridcolor": "white",
            "linecolor": "white",
            "ticks": ""
           },
           "baxis": {
            "gridcolor": "white",
            "linecolor": "white",
            "ticks": ""
           },
           "bgcolor": "#E5ECF6",
           "caxis": {
            "gridcolor": "white",
            "linecolor": "white",
            "ticks": ""
           }
          },
          "title": {
           "x": 0.05
          },
          "xaxis": {
           "automargin": true,
           "gridcolor": "white",
           "linecolor": "white",
           "ticks": "",
           "title": {
            "standoff": 15
           },
           "zerolinecolor": "white",
           "zerolinewidth": 2
          },
          "yaxis": {
           "automargin": true,
           "gridcolor": "white",
           "linecolor": "white",
           "ticks": "",
           "title": {
            "standoff": 15
           },
           "zerolinecolor": "white",
           "zerolinewidth": 2
          }
         }
        },
        "title": {
         "text": "혼동 행렬"
        },
        "xaxis": {
         "title": {
          "text": "예측 값"
         }
        },
        "yaxis": {
         "title": {
          "text": "실제 값"
         }
        }
       }
      },
      "text/html": [
       "<div>                            <div id=\"08bb6fed-3399-43d5-8a11-a67370bca4da\" class=\"plotly-graph-div\" style=\"height:525px; width:100%;\"></div>            <script type=\"text/javascript\">                require([\"plotly\"], function(Plotly) {                    window.PLOTLYENV=window.PLOTLYENV || {};                                    if (document.getElementById(\"08bb6fed-3399-43d5-8a11-a67370bca4da\")) {                    Plotly.newPlot(                        \"08bb6fed-3399-43d5-8a11-a67370bca4da\",                        [{\"colorscale\":[[0.0,\"#440154\"],[0.1111111111111111,\"#482878\"],[0.2222222222222222,\"#3e4989\"],[0.3333333333333333,\"#31688e\"],[0.4444444444444444,\"#26828e\"],[0.5555555555555556,\"#1f9e89\"],[0.6666666666666666,\"#35b779\"],[0.7777777777777778,\"#6ece58\"],[0.8888888888888888,\"#b5de2b\"],[1.0,\"#fde725\"]],\"x\":[0,1],\"y\":[0,1],\"z\":[[9208,817],[1299,1864]],\"type\":\"heatmap\"}],                        {\"template\":{\"data\":{\"histogram2dcontour\":[{\"type\":\"histogram2dcontour\",\"colorbar\":{\"outlinewidth\":0,\"ticks\":\"\"},\"colorscale\":[[0.0,\"#0d0887\"],[0.1111111111111111,\"#46039f\"],[0.2222222222222222,\"#7201a8\"],[0.3333333333333333,\"#9c179e\"],[0.4444444444444444,\"#bd3786\"],[0.5555555555555556,\"#d8576b\"],[0.6666666666666666,\"#ed7953\"],[0.7777777777777778,\"#fb9f3a\"],[0.8888888888888888,\"#fdca26\"],[1.0,\"#f0f921\"]]}],\"choropleth\":[{\"type\":\"choropleth\",\"colorbar\":{\"outlinewidth\":0,\"ticks\":\"\"}}],\"histogram2d\":[{\"type\":\"histogram2d\",\"colorbar\":{\"outlinewidth\":0,\"ticks\":\"\"},\"colorscale\":[[0.0,\"#0d0887\"],[0.1111111111111111,\"#46039f\"],[0.2222222222222222,\"#7201a8\"],[0.3333333333333333,\"#9c179e\"],[0.4444444444444444,\"#bd3786\"],[0.5555555555555556,\"#d8576b\"],[0.6666666666666666,\"#ed7953\"],[0.7777777777777778,\"#fb9f3a\"],[0.8888888888888888,\"#fdca26\"],[1.0,\"#f0f921\"]]}],\"heatmap\":[{\"type\":\"heatmap\",\"colorbar\":{\"outlinewidth\":0,\"ticks\":\"\"},\"colorscale\":[[0.0,\"#0d0887\"],[0.1111111111111111,\"#46039f\"],[0.2222222222222222,\"#7201a8\"],[0.3333333333333333,\"#9c179e\"],[0.4444444444444444,\"#bd3786\"],[0.5555555555555556,\"#d8576b\"],[0.6666666666666666,\"#ed7953\"],[0.7777777777777778,\"#fb9f3a\"],[0.8888888888888888,\"#fdca26\"],[1.0,\"#f0f921\"]]}],\"heatmapgl\":[{\"type\":\"heatmapgl\",\"colorbar\":{\"outlinewidth\":0,\"ticks\":\"\"},\"colorscale\":[[0.0,\"#0d0887\"],[0.1111111111111111,\"#46039f\"],[0.2222222222222222,\"#7201a8\"],[0.3333333333333333,\"#9c179e\"],[0.4444444444444444,\"#bd3786\"],[0.5555555555555556,\"#d8576b\"],[0.6666666666666666,\"#ed7953\"],[0.7777777777777778,\"#fb9f3a\"],[0.8888888888888888,\"#fdca26\"],[1.0,\"#f0f921\"]]}],\"contourcarpet\":[{\"type\":\"contourcarpet\",\"colorbar\":{\"outlinewidth\":0,\"ticks\":\"\"}}],\"contour\":[{\"type\":\"contour\",\"colorbar\":{\"outlinewidth\":0,\"ticks\":\"\"},\"colorscale\":[[0.0,\"#0d0887\"],[0.1111111111111111,\"#46039f\"],[0.2222222222222222,\"#7201a8\"],[0.3333333333333333,\"#9c179e\"],[0.4444444444444444,\"#bd3786\"],[0.5555555555555556,\"#d8576b\"],[0.6666666666666666,\"#ed7953\"],[0.7777777777777778,\"#fb9f3a\"],[0.8888888888888888,\"#fdca26\"],[1.0,\"#f0f921\"]]}],\"surface\":[{\"type\":\"surface\",\"colorbar\":{\"outlinewidth\":0,\"ticks\":\"\"},\"colorscale\":[[0.0,\"#0d0887\"],[0.1111111111111111,\"#46039f\"],[0.2222222222222222,\"#7201a8\"],[0.3333333333333333,\"#9c179e\"],[0.4444444444444444,\"#bd3786\"],[0.5555555555555556,\"#d8576b\"],[0.6666666666666666,\"#ed7953\"],[0.7777777777777778,\"#fb9f3a\"],[0.8888888888888888,\"#fdca26\"],[1.0,\"#f0f921\"]]}],\"mesh3d\":[{\"type\":\"mesh3d\",\"colorbar\":{\"outlinewidth\":0,\"ticks\":\"\"}}],\"scatter\":[{\"fillpattern\":{\"fillmode\":\"overlay\",\"size\":10,\"solidity\":0.2},\"type\":\"scatter\"}],\"parcoords\":[{\"type\":\"parcoords\",\"line\":{\"colorbar\":{\"outlinewidth\":0,\"ticks\":\"\"}}}],\"scatterpolargl\":[{\"type\":\"scatterpolargl\",\"marker\":{\"colorbar\":{\"outlinewidth\":0,\"ticks\":\"\"}}}],\"bar\":[{\"error_x\":{\"color\":\"#2a3f5f\"},\"error_y\":{\"color\":\"#2a3f5f\"},\"marker\":{\"line\":{\"color\":\"#E5ECF6\",\"width\":0.5},\"pattern\":{\"fillmode\":\"overlay\",\"size\":10,\"solidity\":0.2}},\"type\":\"bar\"}],\"scattergeo\":[{\"type\":\"scattergeo\",\"marker\":{\"colorbar\":{\"outlinewidth\":0,\"ticks\":\"\"}}}],\"scatterpolar\":[{\"type\":\"scatterpolar\",\"marker\":{\"colorbar\":{\"outlinewidth\":0,\"ticks\":\"\"}}}],\"histogram\":[{\"marker\":{\"pattern\":{\"fillmode\":\"overlay\",\"size\":10,\"solidity\":0.2}},\"type\":\"histogram\"}],\"scattergl\":[{\"type\":\"scattergl\",\"marker\":{\"colorbar\":{\"outlinewidth\":0,\"ticks\":\"\"}}}],\"scatter3d\":[{\"type\":\"scatter3d\",\"line\":{\"colorbar\":{\"outlinewidth\":0,\"ticks\":\"\"}},\"marker\":{\"colorbar\":{\"outlinewidth\":0,\"ticks\":\"\"}}}],\"scattermapbox\":[{\"type\":\"scattermapbox\",\"marker\":{\"colorbar\":{\"outlinewidth\":0,\"ticks\":\"\"}}}],\"scatterternary\":[{\"type\":\"scatterternary\",\"marker\":{\"colorbar\":{\"outlinewidth\":0,\"ticks\":\"\"}}}],\"scattercarpet\":[{\"type\":\"scattercarpet\",\"marker\":{\"colorbar\":{\"outlinewidth\":0,\"ticks\":\"\"}}}],\"carpet\":[{\"aaxis\":{\"endlinecolor\":\"#2a3f5f\",\"gridcolor\":\"white\",\"linecolor\":\"white\",\"minorgridcolor\":\"white\",\"startlinecolor\":\"#2a3f5f\"},\"baxis\":{\"endlinecolor\":\"#2a3f5f\",\"gridcolor\":\"white\",\"linecolor\":\"white\",\"minorgridcolor\":\"white\",\"startlinecolor\":\"#2a3f5f\"},\"type\":\"carpet\"}],\"table\":[{\"cells\":{\"fill\":{\"color\":\"#EBF0F8\"},\"line\":{\"color\":\"white\"}},\"header\":{\"fill\":{\"color\":\"#C8D4E3\"},\"line\":{\"color\":\"white\"}},\"type\":\"table\"}],\"barpolar\":[{\"marker\":{\"line\":{\"color\":\"#E5ECF6\",\"width\":0.5},\"pattern\":{\"fillmode\":\"overlay\",\"size\":10,\"solidity\":0.2}},\"type\":\"barpolar\"}],\"pie\":[{\"automargin\":true,\"type\":\"pie\"}]},\"layout\":{\"autotypenumbers\":\"strict\",\"colorway\":[\"#636efa\",\"#EF553B\",\"#00cc96\",\"#ab63fa\",\"#FFA15A\",\"#19d3f3\",\"#FF6692\",\"#B6E880\",\"#FF97FF\",\"#FECB52\"],\"font\":{\"color\":\"#2a3f5f\"},\"hovermode\":\"closest\",\"hoverlabel\":{\"align\":\"left\"},\"paper_bgcolor\":\"white\",\"plot_bgcolor\":\"#E5ECF6\",\"polar\":{\"bgcolor\":\"#E5ECF6\",\"angularaxis\":{\"gridcolor\":\"white\",\"linecolor\":\"white\",\"ticks\":\"\"},\"radialaxis\":{\"gridcolor\":\"white\",\"linecolor\":\"white\",\"ticks\":\"\"}},\"ternary\":{\"bgcolor\":\"#E5ECF6\",\"aaxis\":{\"gridcolor\":\"white\",\"linecolor\":\"white\",\"ticks\":\"\"},\"baxis\":{\"gridcolor\":\"white\",\"linecolor\":\"white\",\"ticks\":\"\"},\"caxis\":{\"gridcolor\":\"white\",\"linecolor\":\"white\",\"ticks\":\"\"}},\"coloraxis\":{\"colorbar\":{\"outlinewidth\":0,\"ticks\":\"\"}},\"colorscale\":{\"sequential\":[[0.0,\"#0d0887\"],[0.1111111111111111,\"#46039f\"],[0.2222222222222222,\"#7201a8\"],[0.3333333333333333,\"#9c179e\"],[0.4444444444444444,\"#bd3786\"],[0.5555555555555556,\"#d8576b\"],[0.6666666666666666,\"#ed7953\"],[0.7777777777777778,\"#fb9f3a\"],[0.8888888888888888,\"#fdca26\"],[1.0,\"#f0f921\"]],\"sequentialminus\":[[0.0,\"#0d0887\"],[0.1111111111111111,\"#46039f\"],[0.2222222222222222,\"#7201a8\"],[0.3333333333333333,\"#9c179e\"],[0.4444444444444444,\"#bd3786\"],[0.5555555555555556,\"#d8576b\"],[0.6666666666666666,\"#ed7953\"],[0.7777777777777778,\"#fb9f3a\"],[0.8888888888888888,\"#fdca26\"],[1.0,\"#f0f921\"]],\"diverging\":[[0,\"#8e0152\"],[0.1,\"#c51b7d\"],[0.2,\"#de77ae\"],[0.3,\"#f1b6da\"],[0.4,\"#fde0ef\"],[0.5,\"#f7f7f7\"],[0.6,\"#e6f5d0\"],[0.7,\"#b8e186\"],[0.8,\"#7fbc41\"],[0.9,\"#4d9221\"],[1,\"#276419\"]]},\"xaxis\":{\"gridcolor\":\"white\",\"linecolor\":\"white\",\"ticks\":\"\",\"title\":{\"standoff\":15},\"zerolinecolor\":\"white\",\"automargin\":true,\"zerolinewidth\":2},\"yaxis\":{\"gridcolor\":\"white\",\"linecolor\":\"white\",\"ticks\":\"\",\"title\":{\"standoff\":15},\"zerolinecolor\":\"white\",\"automargin\":true,\"zerolinewidth\":2},\"scene\":{\"xaxis\":{\"backgroundcolor\":\"#E5ECF6\",\"gridcolor\":\"white\",\"linecolor\":\"white\",\"showbackground\":true,\"ticks\":\"\",\"zerolinecolor\":\"white\",\"gridwidth\":2},\"yaxis\":{\"backgroundcolor\":\"#E5ECF6\",\"gridcolor\":\"white\",\"linecolor\":\"white\",\"showbackground\":true,\"ticks\":\"\",\"zerolinecolor\":\"white\",\"gridwidth\":2},\"zaxis\":{\"backgroundcolor\":\"#E5ECF6\",\"gridcolor\":\"white\",\"linecolor\":\"white\",\"showbackground\":true,\"ticks\":\"\",\"zerolinecolor\":\"white\",\"gridwidth\":2}},\"shapedefaults\":{\"line\":{\"color\":\"#2a3f5f\"}},\"annotationdefaults\":{\"arrowcolor\":\"#2a3f5f\",\"arrowhead\":0,\"arrowwidth\":1},\"geo\":{\"bgcolor\":\"white\",\"landcolor\":\"#E5ECF6\",\"subunitcolor\":\"white\",\"showland\":true,\"showlakes\":true,\"lakecolor\":\"white\"},\"title\":{\"x\":0.05},\"mapbox\":{\"style\":\"light\"}}},\"title\":{\"text\":\"\\ud63c\\ub3d9 \\ud589\\ub82c\"},\"xaxis\":{\"title\":{\"text\":\"\\uc608\\uce21 \\uac12\"}},\"yaxis\":{\"title\":{\"text\":\"\\uc2e4\\uc81c \\uac12\"}},\"annotations\":[{\"font\":{\"color\":\"black\"},\"showarrow\":false,\"text\":\"9208\",\"x\":0,\"y\":0},{\"font\":{\"color\":\"white\"},\"showarrow\":false,\"text\":\"817\",\"x\":1,\"y\":0},{\"font\":{\"color\":\"white\"},\"showarrow\":false,\"text\":\"1299\",\"x\":0,\"y\":1},{\"font\":{\"color\":\"white\"},\"showarrow\":false,\"text\":\"1864\",\"x\":1,\"y\":1}]},                        {\"responsive\": true}                    ).then(function(){\n",
       "                            \n",
       "var gd = document.getElementById('08bb6fed-3399-43d5-8a11-a67370bca4da');\n",
       "var x = new MutationObserver(function (mutations, observer) {{\n",
       "        var display = window.getComputedStyle(gd).display;\n",
       "        if (!display || display === 'none') {{\n",
       "            console.log([gd, 'removed!']);\n",
       "            Plotly.purge(gd);\n",
       "            observer.disconnect();\n",
       "        }}\n",
       "}});\n",
       "\n",
       "// Listen for the removal of the full notebook cells\n",
       "var notebookContainer = gd.closest('#notebook-container');\n",
       "if (notebookContainer) {{\n",
       "    x.observe(notebookContainer, {childList: true});\n",
       "}}\n",
       "\n",
       "// Listen for the clearing of the current output cell\n",
       "var outputEl = gd.closest('.output');\n",
       "if (outputEl) {{\n",
       "    x.observe(outputEl, {childList: true});\n",
       "}}\n",
       "\n",
       "                        })                };                });            </script>        </div>"
      ]
     },
     "metadata": {},
     "output_type": "display_data"
    }
   ],
   "source": [
    "# plotly를 사용하여 결과 시각화\n",
    "import plotly.graph_objects as go\n",
    "import numpy as np\n",
    "\n",
    "# 실제 값과 예측 값 비교\n",
    "y_val_flat = y_val.values.flatten()  # 1차원으로 변환\n",
    "y_val_pred_flat = y_val_pred.flatten()  # 1차원으로 변환\n",
    "confusion_matrix = pd.crosstab(y_val_flat, y_val_pred_flat, rownames=['실제'], colnames=['예측'])\n",
    "\n",
    "# 히트맵 생성\n",
    "fig = go.Figure(data=go.Heatmap(\n",
    "                z=confusion_matrix.values,\n",
    "                x=confusion_matrix.columns,\n",
    "                y=confusion_matrix.index,\n",
    "                colorscale='Viridis'))\n",
    "\n",
    "# 레이아웃 설정\n",
    "fig.update_layout(\n",
    "    title='혼동 행렬',\n",
    "    xaxis_title='예측 값',\n",
    "    yaxis_title='실제 값'\n",
    ")\n",
    "\n",
    "# 각 셀에 텍스트 추가\n",
    "annotations = []\n",
    "for i, row in enumerate(confusion_matrix.values):\n",
    "    for j, value in enumerate(row):\n",
    "        annotations.append(\n",
    "            dict(\n",
    "                x=confusion_matrix.columns[j],\n",
    "                y=confusion_matrix.index[i],\n",
    "                text=str(value),\n",
    "                showarrow=False,\n",
    "                font=dict(color='white' if value < confusion_matrix.values.max() / 2 else 'black')\n",
    "            )\n",
    "        )\n",
    "fig.update_layout(annotations=annotations)\n",
    "\n",
    "# 그래프 표시\n",
    "fig.show()"
   ]
  },
  {
   "cell_type": "code",
   "execution_count": 62,
   "metadata": {},
   "outputs": [
    {
     "data": {
      "application/vnd.plotly.v1+json": {
       "config": {
        "plotlyServerURL": "https://plot.ly"
       },
       "data": [
        {
         "orientation": "h",
         "type": "bar",
         "x": [
          0.04133002087473869,
          0.04155231639742851,
          0.04255932196974754,
          0.04291152581572533,
          0.0469849668443203,
          0.04999901354312897,
          0.05859468877315521,
          0.06046932563185692,
          0.06689219921827316,
          0.08371148258447647,
          0.10921718180179596,
          0.3557778596878052
         ],
         "y": [
          "PC11",
          "PC7",
          "PC6",
          "PC10",
          "PC8",
          "PC5",
          "PC3",
          "PC12",
          "PC9",
          "PC4",
          "PC2",
          "PC1"
         ]
        }
       ],
       "layout": {
        "height": 600,
        "template": {
         "data": {
          "bar": [
           {
            "error_x": {
             "color": "#2a3f5f"
            },
            "error_y": {
             "color": "#2a3f5f"
            },
            "marker": {
             "line": {
              "color": "#E5ECF6",
              "width": 0.5
             },
             "pattern": {
              "fillmode": "overlay",
              "size": 10,
              "solidity": 0.2
             }
            },
            "type": "bar"
           }
          ],
          "barpolar": [
           {
            "marker": {
             "line": {
              "color": "#E5ECF6",
              "width": 0.5
             },
             "pattern": {
              "fillmode": "overlay",
              "size": 10,
              "solidity": 0.2
             }
            },
            "type": "barpolar"
           }
          ],
          "carpet": [
           {
            "aaxis": {
             "endlinecolor": "#2a3f5f",
             "gridcolor": "white",
             "linecolor": "white",
             "minorgridcolor": "white",
             "startlinecolor": "#2a3f5f"
            },
            "baxis": {
             "endlinecolor": "#2a3f5f",
             "gridcolor": "white",
             "linecolor": "white",
             "minorgridcolor": "white",
             "startlinecolor": "#2a3f5f"
            },
            "type": "carpet"
           }
          ],
          "choropleth": [
           {
            "colorbar": {
             "outlinewidth": 0,
             "ticks": ""
            },
            "type": "choropleth"
           }
          ],
          "contour": [
           {
            "colorbar": {
             "outlinewidth": 0,
             "ticks": ""
            },
            "colorscale": [
             [
              0,
              "#0d0887"
             ],
             [
              0.1111111111111111,
              "#46039f"
             ],
             [
              0.2222222222222222,
              "#7201a8"
             ],
             [
              0.3333333333333333,
              "#9c179e"
             ],
             [
              0.4444444444444444,
              "#bd3786"
             ],
             [
              0.5555555555555556,
              "#d8576b"
             ],
             [
              0.6666666666666666,
              "#ed7953"
             ],
             [
              0.7777777777777778,
              "#fb9f3a"
             ],
             [
              0.8888888888888888,
              "#fdca26"
             ],
             [
              1,
              "#f0f921"
             ]
            ],
            "type": "contour"
           }
          ],
          "contourcarpet": [
           {
            "colorbar": {
             "outlinewidth": 0,
             "ticks": ""
            },
            "type": "contourcarpet"
           }
          ],
          "heatmap": [
           {
            "colorbar": {
             "outlinewidth": 0,
             "ticks": ""
            },
            "colorscale": [
             [
              0,
              "#0d0887"
             ],
             [
              0.1111111111111111,
              "#46039f"
             ],
             [
              0.2222222222222222,
              "#7201a8"
             ],
             [
              0.3333333333333333,
              "#9c179e"
             ],
             [
              0.4444444444444444,
              "#bd3786"
             ],
             [
              0.5555555555555556,
              "#d8576b"
             ],
             [
              0.6666666666666666,
              "#ed7953"
             ],
             [
              0.7777777777777778,
              "#fb9f3a"
             ],
             [
              0.8888888888888888,
              "#fdca26"
             ],
             [
              1,
              "#f0f921"
             ]
            ],
            "type": "heatmap"
           }
          ],
          "heatmapgl": [
           {
            "colorbar": {
             "outlinewidth": 0,
             "ticks": ""
            },
            "colorscale": [
             [
              0,
              "#0d0887"
             ],
             [
              0.1111111111111111,
              "#46039f"
             ],
             [
              0.2222222222222222,
              "#7201a8"
             ],
             [
              0.3333333333333333,
              "#9c179e"
             ],
             [
              0.4444444444444444,
              "#bd3786"
             ],
             [
              0.5555555555555556,
              "#d8576b"
             ],
             [
              0.6666666666666666,
              "#ed7953"
             ],
             [
              0.7777777777777778,
              "#fb9f3a"
             ],
             [
              0.8888888888888888,
              "#fdca26"
             ],
             [
              1,
              "#f0f921"
             ]
            ],
            "type": "heatmapgl"
           }
          ],
          "histogram": [
           {
            "marker": {
             "pattern": {
              "fillmode": "overlay",
              "size": 10,
              "solidity": 0.2
             }
            },
            "type": "histogram"
           }
          ],
          "histogram2d": [
           {
            "colorbar": {
             "outlinewidth": 0,
             "ticks": ""
            },
            "colorscale": [
             [
              0,
              "#0d0887"
             ],
             [
              0.1111111111111111,
              "#46039f"
             ],
             [
              0.2222222222222222,
              "#7201a8"
             ],
             [
              0.3333333333333333,
              "#9c179e"
             ],
             [
              0.4444444444444444,
              "#bd3786"
             ],
             [
              0.5555555555555556,
              "#d8576b"
             ],
             [
              0.6666666666666666,
              "#ed7953"
             ],
             [
              0.7777777777777778,
              "#fb9f3a"
             ],
             [
              0.8888888888888888,
              "#fdca26"
             ],
             [
              1,
              "#f0f921"
             ]
            ],
            "type": "histogram2d"
           }
          ],
          "histogram2dcontour": [
           {
            "colorbar": {
             "outlinewidth": 0,
             "ticks": ""
            },
            "colorscale": [
             [
              0,
              "#0d0887"
             ],
             [
              0.1111111111111111,
              "#46039f"
             ],
             [
              0.2222222222222222,
              "#7201a8"
             ],
             [
              0.3333333333333333,
              "#9c179e"
             ],
             [
              0.4444444444444444,
              "#bd3786"
             ],
             [
              0.5555555555555556,
              "#d8576b"
             ],
             [
              0.6666666666666666,
              "#ed7953"
             ],
             [
              0.7777777777777778,
              "#fb9f3a"
             ],
             [
              0.8888888888888888,
              "#fdca26"
             ],
             [
              1,
              "#f0f921"
             ]
            ],
            "type": "histogram2dcontour"
           }
          ],
          "mesh3d": [
           {
            "colorbar": {
             "outlinewidth": 0,
             "ticks": ""
            },
            "type": "mesh3d"
           }
          ],
          "parcoords": [
           {
            "line": {
             "colorbar": {
              "outlinewidth": 0,
              "ticks": ""
             }
            },
            "type": "parcoords"
           }
          ],
          "pie": [
           {
            "automargin": true,
            "type": "pie"
           }
          ],
          "scatter": [
           {
            "fillpattern": {
             "fillmode": "overlay",
             "size": 10,
             "solidity": 0.2
            },
            "type": "scatter"
           }
          ],
          "scatter3d": [
           {
            "line": {
             "colorbar": {
              "outlinewidth": 0,
              "ticks": ""
             }
            },
            "marker": {
             "colorbar": {
              "outlinewidth": 0,
              "ticks": ""
             }
            },
            "type": "scatter3d"
           }
          ],
          "scattercarpet": [
           {
            "marker": {
             "colorbar": {
              "outlinewidth": 0,
              "ticks": ""
             }
            },
            "type": "scattercarpet"
           }
          ],
          "scattergeo": [
           {
            "marker": {
             "colorbar": {
              "outlinewidth": 0,
              "ticks": ""
             }
            },
            "type": "scattergeo"
           }
          ],
          "scattergl": [
           {
            "marker": {
             "colorbar": {
              "outlinewidth": 0,
              "ticks": ""
             }
            },
            "type": "scattergl"
           }
          ],
          "scattermapbox": [
           {
            "marker": {
             "colorbar": {
              "outlinewidth": 0,
              "ticks": ""
             }
            },
            "type": "scattermapbox"
           }
          ],
          "scatterpolar": [
           {
            "marker": {
             "colorbar": {
              "outlinewidth": 0,
              "ticks": ""
             }
            },
            "type": "scatterpolar"
           }
          ],
          "scatterpolargl": [
           {
            "marker": {
             "colorbar": {
              "outlinewidth": 0,
              "ticks": ""
             }
            },
            "type": "scatterpolargl"
           }
          ],
          "scatterternary": [
           {
            "marker": {
             "colorbar": {
              "outlinewidth": 0,
              "ticks": ""
             }
            },
            "type": "scatterternary"
           }
          ],
          "surface": [
           {
            "colorbar": {
             "outlinewidth": 0,
             "ticks": ""
            },
            "colorscale": [
             [
              0,
              "#0d0887"
             ],
             [
              0.1111111111111111,
              "#46039f"
             ],
             [
              0.2222222222222222,
              "#7201a8"
             ],
             [
              0.3333333333333333,
              "#9c179e"
             ],
             [
              0.4444444444444444,
              "#bd3786"
             ],
             [
              0.5555555555555556,
              "#d8576b"
             ],
             [
              0.6666666666666666,
              "#ed7953"
             ],
             [
              0.7777777777777778,
              "#fb9f3a"
             ],
             [
              0.8888888888888888,
              "#fdca26"
             ],
             [
              1,
              "#f0f921"
             ]
            ],
            "type": "surface"
           }
          ],
          "table": [
           {
            "cells": {
             "fill": {
              "color": "#EBF0F8"
             },
             "line": {
              "color": "white"
             }
            },
            "header": {
             "fill": {
              "color": "#C8D4E3"
             },
             "line": {
              "color": "white"
             }
            },
            "type": "table"
           }
          ]
         },
         "layout": {
          "annotationdefaults": {
           "arrowcolor": "#2a3f5f",
           "arrowhead": 0,
           "arrowwidth": 1
          },
          "autotypenumbers": "strict",
          "coloraxis": {
           "colorbar": {
            "outlinewidth": 0,
            "ticks": ""
           }
          },
          "colorscale": {
           "diverging": [
            [
             0,
             "#8e0152"
            ],
            [
             0.1,
             "#c51b7d"
            ],
            [
             0.2,
             "#de77ae"
            ],
            [
             0.3,
             "#f1b6da"
            ],
            [
             0.4,
             "#fde0ef"
            ],
            [
             0.5,
             "#f7f7f7"
            ],
            [
             0.6,
             "#e6f5d0"
            ],
            [
             0.7,
             "#b8e186"
            ],
            [
             0.8,
             "#7fbc41"
            ],
            [
             0.9,
             "#4d9221"
            ],
            [
             1,
             "#276419"
            ]
           ],
           "sequential": [
            [
             0,
             "#0d0887"
            ],
            [
             0.1111111111111111,
             "#46039f"
            ],
            [
             0.2222222222222222,
             "#7201a8"
            ],
            [
             0.3333333333333333,
             "#9c179e"
            ],
            [
             0.4444444444444444,
             "#bd3786"
            ],
            [
             0.5555555555555556,
             "#d8576b"
            ],
            [
             0.6666666666666666,
             "#ed7953"
            ],
            [
             0.7777777777777778,
             "#fb9f3a"
            ],
            [
             0.8888888888888888,
             "#fdca26"
            ],
            [
             1,
             "#f0f921"
            ]
           ],
           "sequentialminus": [
            [
             0,
             "#0d0887"
            ],
            [
             0.1111111111111111,
             "#46039f"
            ],
            [
             0.2222222222222222,
             "#7201a8"
            ],
            [
             0.3333333333333333,
             "#9c179e"
            ],
            [
             0.4444444444444444,
             "#bd3786"
            ],
            [
             0.5555555555555556,
             "#d8576b"
            ],
            [
             0.6666666666666666,
             "#ed7953"
            ],
            [
             0.7777777777777778,
             "#fb9f3a"
            ],
            [
             0.8888888888888888,
             "#fdca26"
            ],
            [
             1,
             "#f0f921"
            ]
           ]
          },
          "colorway": [
           "#636efa",
           "#EF553B",
           "#00cc96",
           "#ab63fa",
           "#FFA15A",
           "#19d3f3",
           "#FF6692",
           "#B6E880",
           "#FF97FF",
           "#FECB52"
          ],
          "font": {
           "color": "#2a3f5f"
          },
          "geo": {
           "bgcolor": "white",
           "lakecolor": "white",
           "landcolor": "#E5ECF6",
           "showlakes": true,
           "showland": true,
           "subunitcolor": "white"
          },
          "hoverlabel": {
           "align": "left"
          },
          "hovermode": "closest",
          "mapbox": {
           "style": "light"
          },
          "paper_bgcolor": "white",
          "plot_bgcolor": "#E5ECF6",
          "polar": {
           "angularaxis": {
            "gridcolor": "white",
            "linecolor": "white",
            "ticks": ""
           },
           "bgcolor": "#E5ECF6",
           "radialaxis": {
            "gridcolor": "white",
            "linecolor": "white",
            "ticks": ""
           }
          },
          "scene": {
           "xaxis": {
            "backgroundcolor": "#E5ECF6",
            "gridcolor": "white",
            "gridwidth": 2,
            "linecolor": "white",
            "showbackground": true,
            "ticks": "",
            "zerolinecolor": "white"
           },
           "yaxis": {
            "backgroundcolor": "#E5ECF6",
            "gridcolor": "white",
            "gridwidth": 2,
            "linecolor": "white",
            "showbackground": true,
            "ticks": "",
            "zerolinecolor": "white"
           },
           "zaxis": {
            "backgroundcolor": "#E5ECF6",
            "gridcolor": "white",
            "gridwidth": 2,
            "linecolor": "white",
            "showbackground": true,
            "ticks": "",
            "zerolinecolor": "white"
           }
          },
          "shapedefaults": {
           "line": {
            "color": "#2a3f5f"
           }
          },
          "ternary": {
           "aaxis": {
            "gridcolor": "white",
            "linecolor": "white",
            "ticks": ""
           },
           "baxis": {
            "gridcolor": "white",
            "linecolor": "white",
            "ticks": ""
           },
           "bgcolor": "#E5ECF6",
           "caxis": {
            "gridcolor": "white",
            "linecolor": "white",
            "ticks": ""
           }
          },
          "title": {
           "x": 0.05
          },
          "xaxis": {
           "automargin": true,
           "gridcolor": "white",
           "linecolor": "white",
           "ticks": "",
           "title": {
            "standoff": 15
           },
           "zerolinecolor": "white",
           "zerolinewidth": 2
          },
          "yaxis": {
           "automargin": true,
           "gridcolor": "white",
           "linecolor": "white",
           "ticks": "",
           "title": {
            "standoff": 15
           },
           "zerolinecolor": "white",
           "zerolinewidth": 2
          }
         }
        },
        "title": {
         "text": "XGBoost 모델의 특성 중요도"
        },
        "width": 800,
        "xaxis": {
         "title": {
          "text": "중요도"
         }
        },
        "yaxis": {
         "title": {
          "text": "주성분"
         }
        }
       }
      },
      "text/html": [
       "<div>                            <div id=\"d427999d-88e3-400e-85da-56c39897b26e\" class=\"plotly-graph-div\" style=\"height:600px; width:800px;\"></div>            <script type=\"text/javascript\">                require([\"plotly\"], function(Plotly) {                    window.PLOTLYENV=window.PLOTLYENV || {};                                    if (document.getElementById(\"d427999d-88e3-400e-85da-56c39897b26e\")) {                    Plotly.newPlot(                        \"d427999d-88e3-400e-85da-56c39897b26e\",                        [{\"orientation\":\"h\",\"x\":[0.04133002087473869,0.04155231639742851,0.04255932196974754,0.04291152581572533,0.0469849668443203,0.04999901354312897,0.05859468877315521,0.06046932563185692,0.06689219921827316,0.08371148258447647,0.10921718180179596,0.3557778596878052],\"y\":[\"PC11\",\"PC7\",\"PC6\",\"PC10\",\"PC8\",\"PC5\",\"PC3\",\"PC12\",\"PC9\",\"PC4\",\"PC2\",\"PC1\"],\"type\":\"bar\"}],                        {\"template\":{\"data\":{\"histogram2dcontour\":[{\"type\":\"histogram2dcontour\",\"colorbar\":{\"outlinewidth\":0,\"ticks\":\"\"},\"colorscale\":[[0.0,\"#0d0887\"],[0.1111111111111111,\"#46039f\"],[0.2222222222222222,\"#7201a8\"],[0.3333333333333333,\"#9c179e\"],[0.4444444444444444,\"#bd3786\"],[0.5555555555555556,\"#d8576b\"],[0.6666666666666666,\"#ed7953\"],[0.7777777777777778,\"#fb9f3a\"],[0.8888888888888888,\"#fdca26\"],[1.0,\"#f0f921\"]]}],\"choropleth\":[{\"type\":\"choropleth\",\"colorbar\":{\"outlinewidth\":0,\"ticks\":\"\"}}],\"histogram2d\":[{\"type\":\"histogram2d\",\"colorbar\":{\"outlinewidth\":0,\"ticks\":\"\"},\"colorscale\":[[0.0,\"#0d0887\"],[0.1111111111111111,\"#46039f\"],[0.2222222222222222,\"#7201a8\"],[0.3333333333333333,\"#9c179e\"],[0.4444444444444444,\"#bd3786\"],[0.5555555555555556,\"#d8576b\"],[0.6666666666666666,\"#ed7953\"],[0.7777777777777778,\"#fb9f3a\"],[0.8888888888888888,\"#fdca26\"],[1.0,\"#f0f921\"]]}],\"heatmap\":[{\"type\":\"heatmap\",\"colorbar\":{\"outlinewidth\":0,\"ticks\":\"\"},\"colorscale\":[[0.0,\"#0d0887\"],[0.1111111111111111,\"#46039f\"],[0.2222222222222222,\"#7201a8\"],[0.3333333333333333,\"#9c179e\"],[0.4444444444444444,\"#bd3786\"],[0.5555555555555556,\"#d8576b\"],[0.6666666666666666,\"#ed7953\"],[0.7777777777777778,\"#fb9f3a\"],[0.8888888888888888,\"#fdca26\"],[1.0,\"#f0f921\"]]}],\"heatmapgl\":[{\"type\":\"heatmapgl\",\"colorbar\":{\"outlinewidth\":0,\"ticks\":\"\"},\"colorscale\":[[0.0,\"#0d0887\"],[0.1111111111111111,\"#46039f\"],[0.2222222222222222,\"#7201a8\"],[0.3333333333333333,\"#9c179e\"],[0.4444444444444444,\"#bd3786\"],[0.5555555555555556,\"#d8576b\"],[0.6666666666666666,\"#ed7953\"],[0.7777777777777778,\"#fb9f3a\"],[0.8888888888888888,\"#fdca26\"],[1.0,\"#f0f921\"]]}],\"contourcarpet\":[{\"type\":\"contourcarpet\",\"colorbar\":{\"outlinewidth\":0,\"ticks\":\"\"}}],\"contour\":[{\"type\":\"contour\",\"colorbar\":{\"outlinewidth\":0,\"ticks\":\"\"},\"colorscale\":[[0.0,\"#0d0887\"],[0.1111111111111111,\"#46039f\"],[0.2222222222222222,\"#7201a8\"],[0.3333333333333333,\"#9c179e\"],[0.4444444444444444,\"#bd3786\"],[0.5555555555555556,\"#d8576b\"],[0.6666666666666666,\"#ed7953\"],[0.7777777777777778,\"#fb9f3a\"],[0.8888888888888888,\"#fdca26\"],[1.0,\"#f0f921\"]]}],\"surface\":[{\"type\":\"surface\",\"colorbar\":{\"outlinewidth\":0,\"ticks\":\"\"},\"colorscale\":[[0.0,\"#0d0887\"],[0.1111111111111111,\"#46039f\"],[0.2222222222222222,\"#7201a8\"],[0.3333333333333333,\"#9c179e\"],[0.4444444444444444,\"#bd3786\"],[0.5555555555555556,\"#d8576b\"],[0.6666666666666666,\"#ed7953\"],[0.7777777777777778,\"#fb9f3a\"],[0.8888888888888888,\"#fdca26\"],[1.0,\"#f0f921\"]]}],\"mesh3d\":[{\"type\":\"mesh3d\",\"colorbar\":{\"outlinewidth\":0,\"ticks\":\"\"}}],\"scatter\":[{\"fillpattern\":{\"fillmode\":\"overlay\",\"size\":10,\"solidity\":0.2},\"type\":\"scatter\"}],\"parcoords\":[{\"type\":\"parcoords\",\"line\":{\"colorbar\":{\"outlinewidth\":0,\"ticks\":\"\"}}}],\"scatterpolargl\":[{\"type\":\"scatterpolargl\",\"marker\":{\"colorbar\":{\"outlinewidth\":0,\"ticks\":\"\"}}}],\"bar\":[{\"error_x\":{\"color\":\"#2a3f5f\"},\"error_y\":{\"color\":\"#2a3f5f\"},\"marker\":{\"line\":{\"color\":\"#E5ECF6\",\"width\":0.5},\"pattern\":{\"fillmode\":\"overlay\",\"size\":10,\"solidity\":0.2}},\"type\":\"bar\"}],\"scattergeo\":[{\"type\":\"scattergeo\",\"marker\":{\"colorbar\":{\"outlinewidth\":0,\"ticks\":\"\"}}}],\"scatterpolar\":[{\"type\":\"scatterpolar\",\"marker\":{\"colorbar\":{\"outlinewidth\":0,\"ticks\":\"\"}}}],\"histogram\":[{\"marker\":{\"pattern\":{\"fillmode\":\"overlay\",\"size\":10,\"solidity\":0.2}},\"type\":\"histogram\"}],\"scattergl\":[{\"type\":\"scattergl\",\"marker\":{\"colorbar\":{\"outlinewidth\":0,\"ticks\":\"\"}}}],\"scatter3d\":[{\"type\":\"scatter3d\",\"line\":{\"colorbar\":{\"outlinewidth\":0,\"ticks\":\"\"}},\"marker\":{\"colorbar\":{\"outlinewidth\":0,\"ticks\":\"\"}}}],\"scattermapbox\":[{\"type\":\"scattermapbox\",\"marker\":{\"colorbar\":{\"outlinewidth\":0,\"ticks\":\"\"}}}],\"scatterternary\":[{\"type\":\"scatterternary\",\"marker\":{\"colorbar\":{\"outlinewidth\":0,\"ticks\":\"\"}}}],\"scattercarpet\":[{\"type\":\"scattercarpet\",\"marker\":{\"colorbar\":{\"outlinewidth\":0,\"ticks\":\"\"}}}],\"carpet\":[{\"aaxis\":{\"endlinecolor\":\"#2a3f5f\",\"gridcolor\":\"white\",\"linecolor\":\"white\",\"minorgridcolor\":\"white\",\"startlinecolor\":\"#2a3f5f\"},\"baxis\":{\"endlinecolor\":\"#2a3f5f\",\"gridcolor\":\"white\",\"linecolor\":\"white\",\"minorgridcolor\":\"white\",\"startlinecolor\":\"#2a3f5f\"},\"type\":\"carpet\"}],\"table\":[{\"cells\":{\"fill\":{\"color\":\"#EBF0F8\"},\"line\":{\"color\":\"white\"}},\"header\":{\"fill\":{\"color\":\"#C8D4E3\"},\"line\":{\"color\":\"white\"}},\"type\":\"table\"}],\"barpolar\":[{\"marker\":{\"line\":{\"color\":\"#E5ECF6\",\"width\":0.5},\"pattern\":{\"fillmode\":\"overlay\",\"size\":10,\"solidity\":0.2}},\"type\":\"barpolar\"}],\"pie\":[{\"automargin\":true,\"type\":\"pie\"}]},\"layout\":{\"autotypenumbers\":\"strict\",\"colorway\":[\"#636efa\",\"#EF553B\",\"#00cc96\",\"#ab63fa\",\"#FFA15A\",\"#19d3f3\",\"#FF6692\",\"#B6E880\",\"#FF97FF\",\"#FECB52\"],\"font\":{\"color\":\"#2a3f5f\"},\"hovermode\":\"closest\",\"hoverlabel\":{\"align\":\"left\"},\"paper_bgcolor\":\"white\",\"plot_bgcolor\":\"#E5ECF6\",\"polar\":{\"bgcolor\":\"#E5ECF6\",\"angularaxis\":{\"gridcolor\":\"white\",\"linecolor\":\"white\",\"ticks\":\"\"},\"radialaxis\":{\"gridcolor\":\"white\",\"linecolor\":\"white\",\"ticks\":\"\"}},\"ternary\":{\"bgcolor\":\"#E5ECF6\",\"aaxis\":{\"gridcolor\":\"white\",\"linecolor\":\"white\",\"ticks\":\"\"},\"baxis\":{\"gridcolor\":\"white\",\"linecolor\":\"white\",\"ticks\":\"\"},\"caxis\":{\"gridcolor\":\"white\",\"linecolor\":\"white\",\"ticks\":\"\"}},\"coloraxis\":{\"colorbar\":{\"outlinewidth\":0,\"ticks\":\"\"}},\"colorscale\":{\"sequential\":[[0.0,\"#0d0887\"],[0.1111111111111111,\"#46039f\"],[0.2222222222222222,\"#7201a8\"],[0.3333333333333333,\"#9c179e\"],[0.4444444444444444,\"#bd3786\"],[0.5555555555555556,\"#d8576b\"],[0.6666666666666666,\"#ed7953\"],[0.7777777777777778,\"#fb9f3a\"],[0.8888888888888888,\"#fdca26\"],[1.0,\"#f0f921\"]],\"sequentialminus\":[[0.0,\"#0d0887\"],[0.1111111111111111,\"#46039f\"],[0.2222222222222222,\"#7201a8\"],[0.3333333333333333,\"#9c179e\"],[0.4444444444444444,\"#bd3786\"],[0.5555555555555556,\"#d8576b\"],[0.6666666666666666,\"#ed7953\"],[0.7777777777777778,\"#fb9f3a\"],[0.8888888888888888,\"#fdca26\"],[1.0,\"#f0f921\"]],\"diverging\":[[0,\"#8e0152\"],[0.1,\"#c51b7d\"],[0.2,\"#de77ae\"],[0.3,\"#f1b6da\"],[0.4,\"#fde0ef\"],[0.5,\"#f7f7f7\"],[0.6,\"#e6f5d0\"],[0.7,\"#b8e186\"],[0.8,\"#7fbc41\"],[0.9,\"#4d9221\"],[1,\"#276419\"]]},\"xaxis\":{\"gridcolor\":\"white\",\"linecolor\":\"white\",\"ticks\":\"\",\"title\":{\"standoff\":15},\"zerolinecolor\":\"white\",\"automargin\":true,\"zerolinewidth\":2},\"yaxis\":{\"gridcolor\":\"white\",\"linecolor\":\"white\",\"ticks\":\"\",\"title\":{\"standoff\":15},\"zerolinecolor\":\"white\",\"automargin\":true,\"zerolinewidth\":2},\"scene\":{\"xaxis\":{\"backgroundcolor\":\"#E5ECF6\",\"gridcolor\":\"white\",\"linecolor\":\"white\",\"showbackground\":true,\"ticks\":\"\",\"zerolinecolor\":\"white\",\"gridwidth\":2},\"yaxis\":{\"backgroundcolor\":\"#E5ECF6\",\"gridcolor\":\"white\",\"linecolor\":\"white\",\"showbackground\":true,\"ticks\":\"\",\"zerolinecolor\":\"white\",\"gridwidth\":2},\"zaxis\":{\"backgroundcolor\":\"#E5ECF6\",\"gridcolor\":\"white\",\"linecolor\":\"white\",\"showbackground\":true,\"ticks\":\"\",\"zerolinecolor\":\"white\",\"gridwidth\":2}},\"shapedefaults\":{\"line\":{\"color\":\"#2a3f5f\"}},\"annotationdefaults\":{\"arrowcolor\":\"#2a3f5f\",\"arrowhead\":0,\"arrowwidth\":1},\"geo\":{\"bgcolor\":\"white\",\"landcolor\":\"#E5ECF6\",\"subunitcolor\":\"white\",\"showland\":true,\"showlakes\":true,\"lakecolor\":\"white\"},\"title\":{\"x\":0.05},\"mapbox\":{\"style\":\"light\"}}},\"title\":{\"text\":\"XGBoost \\ubaa8\\ub378\\uc758 \\ud2b9\\uc131 \\uc911\\uc694\\ub3c4\"},\"xaxis\":{\"title\":{\"text\":\"\\uc911\\uc694\\ub3c4\"}},\"yaxis\":{\"title\":{\"text\":\"\\uc8fc\\uc131\\ubd84\"}},\"height\":600,\"width\":800},                        {\"responsive\": true}                    ).then(function(){\n",
       "                            \n",
       "var gd = document.getElementById('d427999d-88e3-400e-85da-56c39897b26e');\n",
       "var x = new MutationObserver(function (mutations, observer) {{\n",
       "        var display = window.getComputedStyle(gd).display;\n",
       "        if (!display || display === 'none') {{\n",
       "            console.log([gd, 'removed!']);\n",
       "            Plotly.purge(gd);\n",
       "            observer.disconnect();\n",
       "        }}\n",
       "}});\n",
       "\n",
       "// Listen for the removal of the full notebook cells\n",
       "var notebookContainer = gd.closest('#notebook-container');\n",
       "if (notebookContainer) {{\n",
       "    x.observe(notebookContainer, {childList: true});\n",
       "}}\n",
       "\n",
       "// Listen for the clearing of the current output cell\n",
       "var outputEl = gd.closest('.output');\n",
       "if (outputEl) {{\n",
       "    x.observe(outputEl, {childList: true});\n",
       "}}\n",
       "\n",
       "                        })                };                });            </script>        </div>"
      ]
     },
     "metadata": {},
     "output_type": "display_data"
    }
   ],
   "source": [
    "# 특성 중요도 시각화\n",
    "feature_importance = xgb_model.feature_importances_\n",
    "feature_names = [f'PC{i+1}' for i in range(len(feature_importance))]\n",
    "\n",
    "# 특성 중요도를 내림차순으로 정렬\n",
    "sorted_idx = np.argsort(feature_importance)\n",
    "sorted_feature_names = [feature_names[i] for i in sorted_idx]\n",
    "sorted_feature_importance = feature_importance[sorted_idx]\n",
    "\n",
    "# 막대 그래프 생성\n",
    "fig = go.Figure(go.Bar(\n",
    "    x=sorted_feature_importance,\n",
    "    y=sorted_feature_names,\n",
    "    orientation='h'\n",
    "))\n",
    "\n",
    "# 레이아웃 설정\n",
    "fig.update_layout(\n",
    "    title='XGBoost 모델의 특성 중요도',\n",
    "    xaxis_title='중요도',\n",
    "    yaxis_title='주성분',\n",
    "    height=600,\n",
    "    width=800\n",
    ")\n",
    "\n",
    "# 그래프 표시\n",
    "fig.show()\n"
   ]
  },
  {
   "cell_type": "markdown",
   "metadata": {},
   "source": [
    "### SageMaker 클라우드 모드\n",
    "---"
   ]
  },
  {
   "cell_type": "markdown",
   "metadata": {},
   "source": [
    "데이터 업로드"
   ]
  },
  {
   "cell_type": "code",
   "execution_count": null,
   "metadata": {},
   "outputs": [],
   "source": [
    "# import io\n",
    "# import numpy as np\n",
    "# import sagemaker.amazon.common as smac\n",
    "# import boto3\n",
    "\n",
    "# def numpy_to_recordio_protobuf(array):\n",
    "#     buffer = io.BytesIO()\n",
    "#     smac.write_numpy_to_dense_tensor(buffer, array)\n",
    "#     return buffer.getvalue()\n",
    "\n",
    "# # S3 클라이언트 생성\n",
    "# s3_client = boto3.client('s3')\n",
    "\n",
    "# # 버킷 이름과 파일 키(경로) 설정\n",
    "# bucket_name = 'your-bucket-name'\n",
    "# train_key = 'path/to/train_data.recordio'\n",
    "# val_key = 'path/to/val_data.recordio'\n",
    "\n",
    "# # 데이터를 RecordIO-protobuf 형식으로 변환\n",
    "# train_data_recordio = numpy_to_recordio_protobuf(X_train.values)\n",
    "# val_data_recordio = numpy_to_recordio_protobuf(X_val.values)\n",
    "\n",
    "# # S3에 업로드\n",
    "# s3_client.put_object(Body=train_data_recordio, Bucket=bucket_name, Key=train_key)\n",
    "# s3_client.put_object(Body=val_data_recordio, Bucket=bucket_name, Key=val_key)"
   ]
  },
  {
   "cell_type": "code",
   "execution_count": 78,
   "metadata": {},
   "outputs": [],
   "source": [
    "from sagemaker.serializers import RecordSerializer\n",
    "serializer = RecordSerializer()\n",
    "wr.s3.upload(serializer.serialize(X_train.values), train_path, boto3_session=boto3_session)\n",
    "wr.s3.upload(serializer.serialize(X_val.values), val_path, boto3_session=boto3_session)"
   ]
  },
  {
   "cell_type": "markdown",
   "metadata": {},
   "source": [
    "PCA 빌트인 모델 및 하이퍼파라미터 설정"
   ]
  },
  {
   "cell_type": "code",
   "execution_count": 69,
   "metadata": {},
   "outputs": [],
   "source": [
    "container = sagemaker.image_uris.retrieve('pca', sagemaker_session.boto_region_name)\n",
    "use_spot_instances = True\n",
    "max_run = 60 * 60 # 1시간\n",
    "max_wait = 60 * 60 # 1시간\n",
    "training_instance_type = \"ml.m5.xlarge\"\n",
    "content_type = 'text/csv'"
   ]
  },
  {
   "cell_type": "code",
   "execution_count": 85,
   "metadata": {},
   "outputs": [],
   "source": [
    "from sagemaker.utils import name_from_base\n",
    "\n",
    "pca_estimator =  sagemaker.estimator.Estimator(\n",
    "    container,\n",
    "    role, \n",
    "    sagemaker_session=sagemaker_session,\n",
    "    instance_count=1, \n",
    "    instance_type=training_instance_type,\n",
    "    output_path=output_path,\n",
    "    base_job_name = name_from_base(project_name),\n",
    "    use_spot_instances=use_spot_instances,\n",
    "    max_run=max_run,\n",
    "    max_wait=max_wait,\n",
    ")"
   ]
  },
  {
   "cell_type": "code",
   "execution_count": 86,
   "metadata": {},
   "outputs": [],
   "source": [
    "# https://docs.aws.amazon.com/ko_kr/sagemaker/latest/dg/PCA-reference.html\n",
    "pca_estimator.set_hyperparameters(\n",
    "    feature_dim=14,\n",
    "    num_components=12,\n",
    "    subtract_mean=False,\n",
    "    algorithm_mode='regular',\n",
    "    mini_batch_size=200\n",
    ")"
   ]
  },
  {
   "cell_type": "code",
   "execution_count": 87,
   "metadata": {},
   "outputs": [
    {
     "name": "stderr",
     "output_type": "stream",
     "text": [
      "INFO:sagemaker:Creating training-job with name: adult-income-classification-2024-08-01--2024-08-01-02-28-15-411\n"
     ]
    },
    {
     "name": "stdout",
     "output_type": "stream",
     "text": [
      "2024-08-01 02:28:33 Starting - Starting the training job...\n",
      "2024-08-01 02:28:48 Starting - Preparing the instances for training...\n",
      "2024-08-01 02:29:28 Downloading - Downloading the training image........Docker entrypoint called with argument(s): train\n",
      "Running default environment configuration script\n",
      "/opt/amazon/lib/python3.8/site-packages/mxnet/model.py:97: SyntaxWarning: \"is\" with a literal. Did you mean \"==\"?\n",
      "  if num_device is 1 and 'dist' not in kvstore:\n",
      "[08/01/2024 02:30:48 INFO 140444590286656] Reading default configuration from /opt/amazon/lib/python3.8/site-packages/algorithm/resources/default-conf.json: {'algorithm_mode': 'regular', 'subtract_mean': 'true', 'extra_components': '-1', 'force_dense': 'true', 'epochs': 1, '_log_level': 'info', '_kvstore': 'dist_sync', '_num_kv_servers': 'auto', '_num_gpus': 'auto'}\n",
      "[08/01/2024 02:30:48 INFO 140444590286656] Merging with provided configuration from /opt/ml/input/config/hyperparameters.json: {'algorithm_mode': 'regular', 'feature_dim': '14', 'mini_batch_size': '200', 'num_components': '12', 'subtract_mean': 'False'}\n",
      "[08/01/2024 02:30:48 INFO 140444590286656] Final configuration: {'algorithm_mode': 'regular', 'subtract_mean': 'False', 'extra_components': '-1', 'force_dense': 'true', 'epochs': 1, '_log_level': 'info', '_kvstore': 'dist_sync', '_num_kv_servers': 'auto', '_num_gpus': 'auto', 'feature_dim': '14', 'mini_batch_size': '200', 'num_components': '12'}\n",
      "[08/01/2024 02:30:48 WARNING 140444590286656] Loggers have already been setup.\n",
      "[08/01/2024 02:30:48 INFO 140444590286656] Launching parameter server for role scheduler\n",
      "[08/01/2024 02:30:48 INFO 140444590286656] {'ENVROOT': '/opt/amazon', 'PROTOCOL_BUFFERS_PYTHON_IMPLEMENTATION': 'cpp', 'HOSTNAME': 'ip-10-0-97-93.ap-northeast-2.compute.internal', 'TRAINING_JOB_NAME': 'adult-income-classification-2024-08-01--2024-08-01-02-28-15-411', 'NVIDIA_REQUIRE_CUDA': 'cuda>=9.0', 'TRAINING_JOB_ARN': 'arn:aws:sagemaker:ap-northeast-2:905418381372:training-job/adult-income-classification-2024-08-01--2024-08-01-02-28-15-411', 'AWS_CONTAINER_CREDENTIALS_RELATIVE_URI': '/v2/credentials/proxy-72dc76435bb6edb05bfd1c00358d16f4e50361af1ad84e6dab42d1e23d576a22-customer', 'CANONICAL_ENVROOT': '/opt/amazon', 'PYTHONUNBUFFERED': 'TRUE', 'NVIDIA_VISIBLE_DEVICES': 'all', 'LD_LIBRARY_PATH': '/opt/amazon/lib/python3.8/site-packages/cv2/../../../../lib:/usr/local/nvidia/lib64:/opt/amazon/lib', 'NVIDIA_DRIVER_CAPABILITIES': 'compute,utility', 'SAGEMAKER_MANAGED_WARMPOOL_CACHE_DIRECTORY': '/opt/ml/sagemaker/warmpoolcache', 'PATH': '/opt/amazon/bin:/usr/local/nvidia/bin:/usr/local/sbin:/usr/local/bin:/usr/sbin:/usr/bin:/sbin:/bin', 'PWD': '/', 'LANG': 'en_US.utf8', 'AWS_REGION': 'ap-northeast-2', 'CUDA_VERSION': '11.1', 'HOME': '/root', 'SHLVL': '1', 'CUDA_COMPAT_NDRIVER_SUPPORTED_VERSION': '455.32.00', 'PROTOCOL_BUFFERS_PYTHON_IMPLEMENTATION_VERSION': '2', 'OMP_NUM_THREADS': '2', 'DMLC_INTERFACE': 'eth0', 'SAGEMAKER_HTTP_PORT': '8080', 'SAGEMAKER_DATA_PATH': '/opt/ml'}\n",
      "[08/01/2024 02:30:48 INFO 140444590286656] envs={'ENVROOT': '/opt/amazon', 'PROTOCOL_BUFFERS_PYTHON_IMPLEMENTATION': 'cpp', 'HOSTNAME': 'ip-10-0-97-93.ap-northeast-2.compute.internal', 'TRAINING_JOB_NAME': 'adult-income-classification-2024-08-01--2024-08-01-02-28-15-411', 'NVIDIA_REQUIRE_CUDA': 'cuda>=9.0', 'TRAINING_JOB_ARN': 'arn:aws:sagemaker:ap-northeast-2:905418381372:training-job/adult-income-classification-2024-08-01--2024-08-01-02-28-15-411', 'AWS_CONTAINER_CREDENTIALS_RELATIVE_URI': '/v2/credentials/proxy-72dc76435bb6edb05bfd1c00358d16f4e50361af1ad84e6dab42d1e23d576a22-customer', 'CANONICAL_ENVROOT': '/opt/amazon', 'PYTHONUNBUFFERED': 'TRUE', 'NVIDIA_VISIBLE_DEVICES': 'all', 'LD_LIBRARY_PATH': '/opt/amazon/lib/python3.8/site-packages/cv2/../../../../lib:/usr/local/nvidia/lib64:/opt/amazon/lib', 'NVIDIA_DRIVER_CAPABILITIES': 'compute,utility', 'SAGEMAKER_MANAGED_WARMPOOL_CACHE_DIRECTORY': '/opt/ml/sagemaker/warmpoolcache', 'PATH': '/opt/amazon/bin:/usr/local/nvidia/bin:/usr/local/sbin:/usr/local/bin:/usr/sbin:/usr/bin:/sbin:/bin', 'PWD': '/', 'LANG': 'en_US.utf8', 'AWS_REGION': 'ap-northeast-2', 'CUDA_VERSION': '11.1', 'HOME': '/root', 'SHLVL': '1', 'CUDA_COMPAT_NDRIVER_SUPPORTED_VERSION': '455.32.00', 'PROTOCOL_BUFFERS_PYTHON_IMPLEMENTATION_VERSION': '2', 'OMP_NUM_THREADS': '2', 'DMLC_INTERFACE': 'eth0', 'SAGEMAKER_HTTP_PORT': '8080', 'SAGEMAKER_DATA_PATH': '/opt/ml', 'DMLC_ROLE': 'scheduler', 'DMLC_PS_ROOT_URI': '10.0.97.93', 'DMLC_PS_ROOT_PORT': '9000', 'DMLC_NUM_SERVER': '1', 'DMLC_NUM_WORKER': '1'}\n",
      "[08/01/2024 02:30:48 INFO 140444590286656] Launching parameter server for role server\n",
      "[08/01/2024 02:30:48 INFO 140444590286656] {'ENVROOT': '/opt/amazon', 'PROTOCOL_BUFFERS_PYTHON_IMPLEMENTATION': 'cpp', 'HOSTNAME': 'ip-10-0-97-93.ap-northeast-2.compute.internal', 'TRAINING_JOB_NAME': 'adult-income-classification-2024-08-01--2024-08-01-02-28-15-411', 'NVIDIA_REQUIRE_CUDA': 'cuda>=9.0', 'TRAINING_JOB_ARN': 'arn:aws:sagemaker:ap-northeast-2:905418381372:training-job/adult-income-classification-2024-08-01--2024-08-01-02-28-15-411', 'AWS_CONTAINER_CREDENTIALS_RELATIVE_URI': '/v2/credentials/proxy-72dc76435bb6edb05bfd1c00358d16f4e50361af1ad84e6dab42d1e23d576a22-customer', 'CANONICAL_ENVROOT': '/opt/amazon', 'PYTHONUNBUFFERED': 'TRUE', 'NVIDIA_VISIBLE_DEVICES': 'all', 'LD_LIBRARY_PATH': '/opt/amazon/lib/python3.8/site-packages/cv2/../../../../lib:/usr/local/nvidia/lib64:/opt/amazon/lib', 'NVIDIA_DRIVER_CAPABILITIES': 'compute,utility', 'SAGEMAKER_MANAGED_WARMPOOL_CACHE_DIRECTORY': '/opt/ml/sagemaker/warmpoolcache', 'PATH': '/opt/amazon/bin:/usr/local/nvidia/bin:/usr/local/sbin:/usr/local/bin:/usr/sbin:/usr/bin:/sbin:/bin', 'PWD': '/', 'LANG': 'en_US.utf8', 'AWS_REGION': 'ap-northeast-2', 'CUDA_VERSION': '11.1', 'HOME': '/root', 'SHLVL': '1', 'CUDA_COMPAT_NDRIVER_SUPPORTED_VERSION': '455.32.00', 'PROTOCOL_BUFFERS_PYTHON_IMPLEMENTATION_VERSION': '2', 'OMP_NUM_THREADS': '2', 'DMLC_INTERFACE': 'eth0', 'SAGEMAKER_HTTP_PORT': '8080', 'SAGEMAKER_DATA_PATH': '/opt/ml'}\n",
      "[08/01/2024 02:30:48 INFO 140444590286656] envs={'ENVROOT': '/opt/amazon', 'PROTOCOL_BUFFERS_PYTHON_IMPLEMENTATION': 'cpp', 'HOSTNAME': 'ip-10-0-97-93.ap-northeast-2.compute.internal', 'TRAINING_JOB_NAME': 'adult-income-classification-2024-08-01--2024-08-01-02-28-15-411', 'NVIDIA_REQUIRE_CUDA': 'cuda>=9.0', 'TRAINING_JOB_ARN': 'arn:aws:sagemaker:ap-northeast-2:905418381372:training-job/adult-income-classification-2024-08-01--2024-08-01-02-28-15-411', 'AWS_CONTAINER_CREDENTIALS_RELATIVE_URI': '/v2/credentials/proxy-72dc76435bb6edb05bfd1c00358d16f4e50361af1ad84e6dab42d1e23d576a22-customer', 'CANONICAL_ENVROOT': '/opt/amazon', 'PYTHONUNBUFFERED': 'TRUE', 'NVIDIA_VISIBLE_DEVICES': 'all', 'LD_LIBRARY_PATH': '/opt/amazon/lib/python3.8/site-packages/cv2/../../../../lib:/usr/local/nvidia/lib64:/opt/amazon/lib', 'NVIDIA_DRIVER_CAPABILITIES': 'compute,utility', 'SAGEMAKER_MANAGED_WARMPOOL_CACHE_DIRECTORY': '/opt/ml/sagemaker/warmpoolcache', 'PATH': '/opt/amazon/bin:/usr/local/nvidia/bin:/usr/local/sbin:/usr/local/bin:/usr/sbin:/usr/bin:/sbin:/bin', 'PWD': '/', 'LANG': 'en_US.utf8', 'AWS_REGION': 'ap-northeast-2', 'CUDA_VERSION': '11.1', 'HOME': '/root', 'SHLVL': '1', 'CUDA_COMPAT_NDRIVER_SUPPORTED_VERSION': '455.32.00', 'PROTOCOL_BUFFERS_PYTHON_IMPLEMENTATION_VERSION': '2', 'OMP_NUM_THREADS': '2', 'DMLC_INTERFACE': 'eth0', 'SAGEMAKER_HTTP_PORT': '8080', 'SAGEMAKER_DATA_PATH': '/opt/ml', 'DMLC_ROLE': 'server', 'DMLC_PS_ROOT_URI': '10.0.97.93', 'DMLC_PS_ROOT_PORT': '9000', 'DMLC_NUM_SERVER': '1', 'DMLC_NUM_WORKER': '1'}\n",
      "[08/01/2024 02:30:48 INFO 140444590286656] Environment: {'ENVROOT': '/opt/amazon', 'PROTOCOL_BUFFERS_PYTHON_IMPLEMENTATION': 'cpp', 'HOSTNAME': 'ip-10-0-97-93.ap-northeast-2.compute.internal', 'TRAINING_JOB_NAME': 'adult-income-classification-2024-08-01--2024-08-01-02-28-15-411', 'NVIDIA_REQUIRE_CUDA': 'cuda>=9.0', 'TRAINING_JOB_ARN': 'arn:aws:sagemaker:ap-northeast-2:905418381372:training-job/adult-income-classification-2024-08-01--2024-08-01-02-28-15-411', 'AWS_CONTAINER_CREDENTIALS_RELATIVE_URI': '/v2/credentials/proxy-72dc76435bb6edb05bfd1c00358d16f4e50361af1ad84e6dab42d1e23d576a22-customer', 'CANONICAL_ENVROOT': '/opt/amazon', 'PYTHONUNBUFFERED': 'TRUE', 'NVIDIA_VISIBLE_DEVICES': 'all', 'LD_LIBRARY_PATH': '/opt/amazon/lib/python3.8/site-packages/cv2/../../../../lib:/usr/local/nvidia/lib64:/opt/amazon/lib', 'NVIDIA_DRIVER_CAPABILITIES': 'compute,utility', 'SAGEMAKER_MANAGED_WARMPOOL_CACHE_DIRECTORY': '/opt/ml/sagemaker/warmpoolcache', 'PATH': '/opt/amazon/bin:/usr/local/nvidia/bin:/usr/local/sbin:/usr/local/bin:/usr/sbin:/usr/bin:/sbin:/bin', 'PWD': '/', 'LANG': 'en_US.utf8', 'AWS_REGION': 'ap-northeast-2', 'CUDA_VERSION': '11.1', 'HOME': '/root', 'SHLVL': '1', 'CUDA_COMPAT_NDRIVER_SUPPORTED_VERSION': '455.32.00', 'PROTOCOL_BUFFERS_PYTHON_IMPLEMENTATION_VERSION': '2', 'OMP_NUM_THREADS': '2', 'DMLC_INTERFACE': 'eth0', 'SAGEMAKER_HTTP_PORT': '8080', 'SAGEMAKER_DATA_PATH': '/opt/ml', 'DMLC_ROLE': 'worker', 'DMLC_PS_ROOT_URI': '10.0.97.93', 'DMLC_PS_ROOT_PORT': '9000', 'DMLC_NUM_SERVER': '1', 'DMLC_NUM_WORKER': '1'}\n",
      "Process 34 is a shell:scheduler.\n",
      "Process 43 is a shell:server.\n",
      "Process 7 is a worker.\n",
      "[08/01/2024 02:30:48 INFO 140444590286656] Using default worker.\n",
      "[08/01/2024 02:30:48 INFO 140444590286656] Loaded iterator creator application/x-labeled-vector-protobuf for content type ('application/x-labeled-vector-protobuf', '1.0')\n",
      "[08/01/2024 02:30:48 INFO 140444590286656] Loaded iterator creator application/x-recordio-protobuf for content type ('application/x-recordio-protobuf', '1.0')\n",
      "[08/01/2024 02:30:48 INFO 140444590286656] Loaded iterator creator protobuf for content type ('protobuf', '1.0')\n",
      "[08/01/2024 02:30:48 INFO 140444590286656] Checkpoint loading and saving are disabled.\n",
      "[08/01/2024 02:30:48 INFO 140444590286656] Create Store: dist_sync\n",
      "/opt/amazon/python3.8/lib/python3.8/subprocess.py:848: RuntimeWarning: line buffering (buffering=1) isn't supported in binary mode, the default buffer size will be used\n",
      "  self.stdout = io.open(c2pread, 'rb', bufsize)\n",
      "[08/01/2024 02:30:49 INFO 140444590286656] nvidia-smi: took 0.030 seconds to run.\n",
      "[08/01/2024 02:30:49 INFO 140444590286656] nvidia-smi identified 0 GPUs.\n",
      "[08/01/2024 02:30:49 INFO 140444590286656] Number of GPUs being used: 0\n",
      "[08/01/2024 02:30:49 INFO 140444590286656] The default executor is <PCAExecutor on cpu(0)>.\n",
      "[08/01/2024 02:30:49 INFO 140444590286656] 14 feature(s) found in 'data'.\n",
      "[08/01/2024 02:30:49 INFO 140444590286656] <PCAExecutor on cpu(0)> is assigned to batch slice from 0 to 199.\n",
      "#metrics {\"StartTime\": 1722479448.4624581, \"EndTime\": 1722479449.2183568, \"Dimensions\": {\"Algorithm\": \"PCA\", \"Host\": \"algo-1\", \"Operation\": \"training\"}, \"Metrics\": {\"initialize.time\": {\"sum\": 737.9534244537354, \"count\": 1, \"min\": 737.9534244537354, \"max\": 737.9534244537354}}}\n",
      "#metrics {\"StartTime\": 1722479449.2185295, \"EndTime\": 1722479449.2185674, \"Dimensions\": {\"Algorithm\": \"PCA\", \"Host\": \"algo-1\", \"Operation\": \"training\", \"Meta\": \"init_train_data_iter\"}, \"Metrics\": {\"Total Records Seen\": {\"sum\": 0.0, \"count\": 1, \"min\": 0, \"max\": 0}, \"Total Batches Seen\": {\"sum\": 0.0, \"count\": 1, \"min\": 0, \"max\": 0}, \"Max Records Seen Between Resets\": {\"sum\": 0.0, \"count\": 1, \"min\": 0, \"max\": 0}, \"Max Batches Seen Between Resets\": {\"sum\": 0.0, \"count\": 1, \"min\": 0, \"max\": 0}, \"Reset Count\": {\"sum\": 0.0, \"count\": 1, \"min\": 0, \"max\": 0}, \"Number of Records Since Last Reset\": {\"sum\": 0.0, \"count\": 1, \"min\": 0, \"max\": 0}, \"Number of Batches Since Last Reset\": {\"sum\": 0.0, \"count\": 1, \"min\": 0, \"max\": 0}}}\n",
      "[2024-08-01 02:30:49.219] [tensorio] [info] epoch_stats={\"data_pipeline\": \"/opt/ml/input/data/train\", \"epoch\": 0, \"duration\": 756, \"num_examples\": 1, \"num_bytes\": 27200}\n",
      "[2024-08-01 02:30:49.299] [tensorio] [info] epoch_stats={\"data_pipeline\": \"/opt/ml/input/data/train\", \"epoch\": 1, \"duration\": 75, \"num_examples\": 154, \"num_bytes\": 4184584}\n",
      "#metrics {\"StartTime\": 1722479449.2184668, \"EndTime\": 1722479449.2997637, \"Dimensions\": {\"Algorithm\": \"PCA\", \"Host\": \"algo-1\", \"Operation\": \"training\"}, \"Metrics\": {\"epochs\": {\"sum\": 1.0, \"count\": 1, \"min\": 1, \"max\": 1}, \"update.time\": {\"sum\": 80.59430122375488, \"count\": 1, \"min\": 80.59430122375488, \"max\": 80.59430122375488}}}\n",
      "[08/01/2024 02:30:49 INFO 140444590286656] #progress_metric: host=algo-1, completed 100.0 % of epochs\n",
      "#metrics {\"StartTime\": 1722479449.2191331, \"EndTime\": 1722479449.3002486, \"Dimensions\": {\"Algorithm\": \"PCA\", \"Host\": \"algo-1\", \"Operation\": \"training\", \"epoch\": 0, \"Meta\": \"training_data_iter\"}, \"Metrics\": {\"Total Records Seen\": {\"sum\": 30769.0, \"count\": 1, \"min\": 30769, \"max\": 30769}, \"Total Batches Seen\": {\"sum\": 154.0, \"count\": 1, \"min\": 154, \"max\": 154}, \"Max Records Seen Between Resets\": {\"sum\": 30769.0, \"count\": 1, \"min\": 30769, \"max\": 30769}, \"Max Batches Seen Between Resets\": {\"sum\": 154.0, \"count\": 1, \"min\": 154, \"max\": 154}, \"Reset Count\": {\"sum\": 1.0, \"count\": 1, \"min\": 1, \"max\": 1}, \"Number of Records Since Last Reset\": {\"sum\": 30769.0, \"count\": 1, \"min\": 30769, \"max\": 30769}, \"Number of Batches Since Last Reset\": {\"sum\": 154.0, \"count\": 1, \"min\": 154, \"max\": 154}}}\n",
      "[08/01/2024 02:30:49 INFO 140444590286656] #throughput_metric: host=algo-1, train throughput=378864.5904736742 records/second\n",
      "#metrics {\"StartTime\": 1722479449.2998738, \"EndTime\": 1722479449.301938, \"Dimensions\": {\"Algorithm\": \"PCA\", \"Host\": \"algo-1\", \"Operation\": \"training\"}, \"Metrics\": {\"finalize.time\": {\"sum\": 1.3246536254882812, \"count\": 1, \"min\": 1.3246536254882812, \"max\": 1.3246536254882812}}}\n",
      "[08/01/2024 02:30:49 INFO 140444590286656] Test data is not provided.\n",
      "#metrics {\"StartTime\": 1722479449.3020103, \"EndTime\": 1722479449.3024929, \"Dimensions\": {\"Algorithm\": \"PCA\", \"Host\": \"algo-1\", \"Operation\": \"training\"}, \"Metrics\": {\"setuptime\": {\"sum\": 20.234107971191406, \"count\": 1, \"min\": 20.234107971191406, \"max\": 20.234107971191406}, \"totaltime\": {\"sum\": 943.1660175323486, \"count\": 1, \"min\": 943.1660175323486, \"max\": 943.1660175323486}}}\n",
      "\n",
      "2024-08-01 02:30:54 Training - Training image download completed. Training in progress.\n",
      "2024-08-01 02:30:54 Uploading - Uploading generated training model\n",
      "2024-08-01 02:31:06 Completed - Training job completed\n",
      "Training seconds: 113\n",
      "Billable seconds: 31\n",
      "Managed Spot Training savings: 72.6%\n"
     ]
    }
   ],
   "source": [
    "pca_estimator.fit({'train': train_path})"
   ]
  },
  {
   "cell_type": "markdown",
   "metadata": {},
   "source": [
    "차원축소 엔드포인트 생성"
   ]
  },
  {
   "cell_type": "code",
   "execution_count": 107,
   "metadata": {},
   "outputs": [
    {
     "name": "stderr",
     "output_type": "stream",
     "text": [
      "INFO:sagemaker:Creating model with name: adult-income-classification-2024-08-01--2024-08-01-03-11-46-170\n",
      "INFO:sagemaker:Creating endpoint-config with name adult-income-classification-pca-2024-08-01-03-11-46-170\n",
      "INFO:sagemaker:Creating endpoint with name adult-income-classification-pca-2024-08-01-03-11-46-170\n"
     ]
    },
    {
     "name": "stdout",
     "output_type": "stream",
     "text": [
      "-------!"
     ]
    }
   ],
   "source": [
    "from sagemaker.serializers import CSVSerializer\n",
    "from sagemaker.deserializers import JSONDeserializer\n",
    "import pandas as pd\n",
    "\n",
    "class CustomJSONDeserializer(JSONDeserializer):\n",
    "    def deserialize(self, data, content_type):\n",
    "        result = super().deserialize(data, content_type)\n",
    "        projections = [proj['projection'] for proj in result['projections']]\n",
    "        return pd.DataFrame(projections, columns=[f'PC{i+1}' for i in range(len(projections[0]))])\n",
    "\n",
    "\n",
    "pca_predictor = pca_estimator.deploy(\n",
    "    initial_instance_count=1, \n",
    "    instance_type=training_instance_type,\n",
    "    endpoint_name=name_from_base(project_name + '-pca'),\n",
    "    serializer=CSVSerializer(),\n",
    "    deserializer=CustomJSONDeserializer()\n",
    ")"
   ]
  },
  {
   "cell_type": "markdown",
   "metadata": {},
   "source": [
    "차원축소 실행"
   ]
  },
  {
   "cell_type": "markdown",
   "metadata": {},
   "source": [
    "* 훈련, 검증 데이터셋"
   ]
  },
  {
   "cell_type": "code",
   "execution_count": 135,
   "metadata": {},
   "outputs": [],
   "source": [
    "# 데이터를 배치로 나누어 처리\n",
    "batch_size = 10000  # 적절한 배치 크기 설정\n",
    "\n",
    "X_train_pca = []\n",
    "for i in range(0, len(X_train), batch_size):\n",
    "    batch = X_train.iloc[i:i+batch_size].values\n",
    "    batch_pca = pca_predictor.predict(batch)\n",
    "    X_train_pca.append(batch_pca)\n",
    "X_train_pca = pd.concat(X_train_pca, ignore_index=True)\n",
    "\n",
    "X_val_pca = []\n",
    "for i in range(0, len(X_val), batch_size):\n",
    "    batch = X_val.iloc[i:i+batch_size].values\n",
    "    batch_pca = pca_predictor.predict(batch)\n",
    "    X_val_pca.append(batch_pca)\n",
    "X_val_pca = pd.concat(X_val_pca, ignore_index=True)"
   ]
  },
  {
   "cell_type": "markdown",
   "metadata": {},
   "source": [
    "* 테스트 데이터셋"
   ]
  },
  {
   "cell_type": "code",
   "execution_count": 123,
   "metadata": {},
   "outputs": [],
   "source": [
    "# 데이터 다운로드\n",
    "test_df = wr.s3.read_csv(test_path, boto3_session=boto3_session)\n",
    "X_test = test_df.iloc[:, 1:]\n",
    "y_test = test_df.iloc[:, 0]"
   ]
  },
  {
   "cell_type": "code",
   "execution_count": 124,
   "metadata": {},
   "outputs": [],
   "source": [
    "wr.s3.download(os.path.join(asset_path, 'adult_encoders.pkl'), 'dataset/adult_encoders.pkl', boto3_session=boto3_session)\n",
    "wr.s3.download(os.path.join(asset_path, 'adult_scaler.pkl'), 'dataset/adult_scaler.pkl', boto3_session=boto3_session)\n",
    "with open('dataset/adult_encoders.pkl', 'rb') as f:\n",
    "    feature_encoders = pickle.load(f)\n",
    "with open('dataset/adult_scaler.pkl', 'rb') as f:\n",
    "    scaler = pickle.load(f)"
   ]
  },
  {
   "cell_type": "code",
   "execution_count": 125,
   "metadata": {},
   "outputs": [],
   "source": [
    "# 전처리\n",
    "# '?' 값을 NaN으로 대체\n",
    "X_test[X_test == '?'] = np.nan\n",
    "# workclass, occupation, native-country 열은 결측치가 존재하기 때문에 이를 최빈값을 보간합니다.\n",
    "X_test['workclass'].fillna(X_test['workclass'].mode()[0], inplace=True)\n",
    "X_test['occupation'].fillna(X_test['occupation'].mode()[0], inplace=True)\n",
    "X_test['native-country'].fillna(X_test['native-country'].mode()[0], inplace=True)\n",
    "# 타겟 변수 'y'를 이진 분류를 위해 숫자로 변환\n",
    "# '<=50K'와 '<=50K.'는 0으로, '>50K'와 '>50K.'는 1로 변환\n",
    "y_test = y_test.replace({\n",
    "    '<=50K': 0,\n",
    "    '<=50K.': 0,\n",
    "    '>50K': 1,\n",
    "    '>50K.': 1\n",
    "})"
   ]
  },
  {
   "cell_type": "code",
   "execution_count": 126,
   "metadata": {},
   "outputs": [
    {
     "name": "stdout",
     "output_type": "stream",
     "text": [
      "X_test shape: (4885, 14)\n",
      "y_test shape: (4885,)\n"
     ]
    }
   ],
   "source": [
    "# 인코딩 / 스케일링\n",
    "X_test_encoded = X_test.copy()\n",
    "# 로드한 레이블 인코더를 사용하여 범주형 변수 인코딩\n",
    "for col in feature_encoders.keys():\n",
    "    X_test_encoded[col] = feature_encoders[col].transform(X_test_encoded[col])\n",
    "\n",
    "# 수치형 변수 정규화\n",
    "scaler = StandardScaler()\n",
    "X_test_scaled = scaler.fit_transform(X_test_encoded)\n",
    "\n",
    "# 전처리된 데이터를 DataFrame으로 변환\n",
    "X_test_processed = pd.DataFrame(X_test_scaled, columns=X_test_encoded.columns)\n",
    "\n",
    "print(\"X_test shape:\", X_test_processed.shape)\n",
    "print(\"y_test shape:\", y_test.shape)\n"
   ]
  },
  {
   "cell_type": "code",
   "execution_count": 127,
   "metadata": {},
   "outputs": [
    {
     "data": {
      "text/html": [
       "<div>\n",
       "<style scoped>\n",
       "    .dataframe tbody tr th:only-of-type {\n",
       "        vertical-align: middle;\n",
       "    }\n",
       "\n",
       "    .dataframe tbody tr th {\n",
       "        vertical-align: top;\n",
       "    }\n",
       "\n",
       "    .dataframe thead th {\n",
       "        text-align: right;\n",
       "    }\n",
       "</style>\n",
       "<table border=\"1\" class=\"dataframe\">\n",
       "  <thead>\n",
       "    <tr style=\"text-align: right;\">\n",
       "      <th></th>\n",
       "      <th>PC1</th>\n",
       "      <th>PC2</th>\n",
       "      <th>PC3</th>\n",
       "      <th>PC4</th>\n",
       "      <th>PC5</th>\n",
       "      <th>PC6</th>\n",
       "      <th>PC7</th>\n",
       "      <th>PC8</th>\n",
       "      <th>PC9</th>\n",
       "      <th>PC10</th>\n",
       "      <th>PC11</th>\n",
       "      <th>PC12</th>\n",
       "    </tr>\n",
       "  </thead>\n",
       "  <tbody>\n",
       "    <tr>\n",
       "      <th>0</th>\n",
       "      <td>-0.400681</td>\n",
       "      <td>-0.248274</td>\n",
       "      <td>1.410914</td>\n",
       "      <td>-0.566368</td>\n",
       "      <td>0.528291</td>\n",
       "      <td>-1.953698</td>\n",
       "      <td>1.015369</td>\n",
       "      <td>-0.556811</td>\n",
       "      <td>-0.372890</td>\n",
       "      <td>1.044067</td>\n",
       "      <td>0.076347</td>\n",
       "      <td>-1.685163</td>\n",
       "    </tr>\n",
       "    <tr>\n",
       "      <th>1</th>\n",
       "      <td>0.243265</td>\n",
       "      <td>0.955879</td>\n",
       "      <td>-0.746418</td>\n",
       "      <td>-0.298004</td>\n",
       "      <td>0.990592</td>\n",
       "      <td>0.901442</td>\n",
       "      <td>-0.278644</td>\n",
       "      <td>-0.138798</td>\n",
       "      <td>-0.165864</td>\n",
       "      <td>1.995885</td>\n",
       "      <td>1.862311</td>\n",
       "      <td>0.306411</td>\n",
       "    </tr>\n",
       "    <tr>\n",
       "      <th>2</th>\n",
       "      <td>0.108381</td>\n",
       "      <td>-0.538403</td>\n",
       "      <td>-0.215819</td>\n",
       "      <td>0.504827</td>\n",
       "      <td>-0.544073</td>\n",
       "      <td>-0.636575</td>\n",
       "      <td>1.237220</td>\n",
       "      <td>0.503979</td>\n",
       "      <td>-0.613568</td>\n",
       "      <td>0.153113</td>\n",
       "      <td>-1.543314</td>\n",
       "      <td>1.950426</td>\n",
       "    </tr>\n",
       "    <tr>\n",
       "      <th>3</th>\n",
       "      <td>0.573499</td>\n",
       "      <td>-0.028669</td>\n",
       "      <td>1.772056</td>\n",
       "      <td>-0.052553</td>\n",
       "      <td>-0.122334</td>\n",
       "      <td>-0.554232</td>\n",
       "      <td>0.905194</td>\n",
       "      <td>0.806614</td>\n",
       "      <td>0.928657</td>\n",
       "      <td>-0.465596</td>\n",
       "      <td>-1.182949</td>\n",
       "      <td>2.758097</td>\n",
       "    </tr>\n",
       "    <tr>\n",
       "      <th>4</th>\n",
       "      <td>0.722200</td>\n",
       "      <td>-0.435175</td>\n",
       "      <td>0.185395</td>\n",
       "      <td>0.466918</td>\n",
       "      <td>-0.150126</td>\n",
       "      <td>-0.240334</td>\n",
       "      <td>0.872045</td>\n",
       "      <td>0.201350</td>\n",
       "      <td>-1.030158</td>\n",
       "      <td>-0.975625</td>\n",
       "      <td>0.003399</td>\n",
       "      <td>1.344921</td>\n",
       "    </tr>\n",
       "  </tbody>\n",
       "</table>\n",
       "</div>"
      ],
      "text/plain": [
       "        PC1       PC2       PC3       PC4       PC5       PC6       PC7  \\\n",
       "0 -0.400681 -0.248274  1.410914 -0.566368  0.528291 -1.953698  1.015369   \n",
       "1  0.243265  0.955879 -0.746418 -0.298004  0.990592  0.901442 -0.278644   \n",
       "2  0.108381 -0.538403 -0.215819  0.504827 -0.544073 -0.636575  1.237220   \n",
       "3  0.573499 -0.028669  1.772056 -0.052553 -0.122334 -0.554232  0.905194   \n",
       "4  0.722200 -0.435175  0.185395  0.466918 -0.150126 -0.240334  0.872045   \n",
       "\n",
       "        PC8       PC9      PC10      PC11      PC12  \n",
       "0 -0.556811 -0.372890  1.044067  0.076347 -1.685163  \n",
       "1 -0.138798 -0.165864  1.995885  1.862311  0.306411  \n",
       "2  0.503979 -0.613568  0.153113 -1.543314  1.950426  \n",
       "3  0.806614  0.928657 -0.465596 -1.182949  2.758097  \n",
       "4  0.201350 -1.030158 -0.975625  0.003399  1.344921  "
      ]
     },
     "execution_count": 127,
     "metadata": {},
     "output_type": "execute_result"
    }
   ],
   "source": [
    "X_test_pca = pca_predictor.predict(X_test_processed.values)\n",
    "X_test_pca.head()"
   ]
  },
  {
   "cell_type": "code",
   "execution_count": 136,
   "metadata": {},
   "outputs": [
    {
     "name": "stderr",
     "output_type": "stream",
     "text": [
      "INFO:sagemaker:Deleting endpoint configuration with name: adult-income-classification-pca-2024-08-01-03-11-46-170\n",
      "INFO:sagemaker:Deleting endpoint with name: adult-income-classification-pca-2024-08-01-03-11-46-170\n"
     ]
    }
   ],
   "source": [
    "pca_predictor.delete_endpoint()"
   ]
  },
  {
   "cell_type": "markdown",
   "metadata": {},
   "source": [
    "차원축소 데이터 S3 업로드"
   ]
  },
  {
   "cell_type": "code",
   "execution_count": 137,
   "metadata": {},
   "outputs": [],
   "source": [
    "import io\n",
    "import pickle\n",
    "import numpy as np\n",
    "from sagemaker.amazon.common import write_numpy_to_dense_tensor\n",
    "\n",
    "# RecordIO 형식으로 데이터를 변환하고 S3에 저장하는 헬퍼 함수\n",
    "def convert_to_recordio_protobuf(feature_values : np.ndarray, target_values : np.ndarray, s3_path : str):\n",
    "\n",
    "    # RecordIO-Protobuf 형식으로 변환\n",
    "    buf = io.BytesIO()\n",
    "    write_numpy_to_dense_tensor(buf, feature_values, target_values)\n",
    "    buf.seek(0)\n",
    "    \n",
    "    # S3에 업로드\n",
    "    wr.s3.upload(local_file=buf, path=s3_path, boto3_session=boto3_session)\n",
    "    print(f\"데이터가 {s3_path}에 RecordIO-Protobuf 형식으로 저장되었습니다.\")"
   ]
  },
  {
   "cell_type": "code",
   "execution_count": 149,
   "metadata": {},
   "outputs": [
    {
     "name": "stdout",
     "output_type": "stream",
     "text": [
      "데이터가 s3://dante-sagemaker/adult-income-classification/pca/train/train-pca.recordio에 RecordIO-Protobuf 형식으로 저장되었습니다.\n",
      "데이터가 s3://dante-sagemaker/adult-income-classification/pca/val/val-pca.recordio에 RecordIO-Protobuf 형식으로 저장되었습니다.\n",
      "데이터가 s3://dante-sagemaker/adult-income-classification/pca/test/test-pca.recordio에 RecordIO-Protobuf 형식으로 저장되었습니다.\n"
     ]
    }
   ],
   "source": [
    "convert_to_recordio_protobuf(X_train_pca.values, y_train.values.flatten(), os.path.join(pca_path, 'train/train-pca.recordio'))\n",
    "convert_to_recordio_protobuf(X_val_pca.values, y_val.values.flatten(), os.path.join(pca_path, 'val/val-pca.recordio'))\n",
    "convert_to_recordio_protobuf(X_test_pca.values, y_test.values.flatten(), os.path.join(pca_path, 'test/test-pca.recordio'))"
   ]
  },
  {
   "cell_type": "markdown",
   "metadata": {},
   "source": [
    "XGBoost 빌트인 모델 및 하이퍼파라미터 설정"
   ]
  },
  {
   "cell_type": "code",
   "execution_count": 150,
   "metadata": {},
   "outputs": [
    {
     "name": "stderr",
     "output_type": "stream",
     "text": [
      "INFO:sagemaker.image_uris:Ignoring unnecessary instance type: None.\n"
     ]
    }
   ],
   "source": [
    "container = sagemaker.image_uris.retrieve(\"xgboost\",sagemaker_session.boto_region_name,version=\"1.7-1\")"
   ]
  },
  {
   "cell_type": "code",
   "execution_count": 151,
   "metadata": {},
   "outputs": [],
   "source": [
    "xgb_estimator = sagemaker.estimator.Estimator(\n",
    "    image_uri=container,  # 사용할 Docker 이미지의 URI\n",
    "    role=role,  # IAM 역할 ARN\n",
    "    sagemaker_session=sagemaker_session,  # SageMaker 세션 객체\n",
    "    instance_count=1,  # 사용할 인스턴스 수\n",
    "    instance_type=training_instance_type,  # 사용할 인스턴스 유형\n",
    "    max_run=max_run,  # 최대 실행 시간 (초)\n",
    "    use_spot_instances=use_spot_instances,  # 스팟 인스턴스 사용 여부\n",
    "    max_wait=max_wait,  # 스팟 인스턴스 대기 최대 시간 (초)\n",
    "    output_path=output_path,  # 모델 아티팩트 저장 경로\n",
    "    base_job_name=project_name,  # 훈련 작업 이름의 기본 접두사\n",
    ")"
   ]
  },
  {
   "cell_type": "code",
   "execution_count": 152,
   "metadata": {},
   "outputs": [],
   "source": [
    "xgb_estimator.set_hyperparameters(\n",
    "    max_depth=5,\n",
    "    eta=0.1,\n",
    "    gamma=4,\n",
    "    min_child_weight=6,\n",
    "    subsample=0.8,\n",
    "    objective='binary:logistic',\n",
    "    num_round=200,\n",
    "    early_stopping_rounds=10,\n",
    "    eval_metric='logloss'\n",
    ")"
   ]
  },
  {
   "cell_type": "code",
   "execution_count": 153,
   "metadata": {},
   "outputs": [
    {
     "name": "stderr",
     "output_type": "stream",
     "text": [
      "INFO:sagemaker:Creating training-job with name: adult-income-classification-2024-08-01-03-32-59-239\n"
     ]
    },
    {
     "name": "stdout",
     "output_type": "stream",
     "text": [
      "2024-08-01 03:32:59 Starting - Starting the training job...\n",
      "2024-08-01 03:33:13 Starting - Preparing the instances for training...\n",
      "2024-08-01 03:33:55 Downloading - Downloading the training image......\n",
      "2024-08-01 03:34:56 Training - Training image download completed. Training in progress...[2024-08-01 03:35:02.923 ip-10-0-243-133.ap-northeast-2.compute.internal:7 INFO utils.py:28] RULE_JOB_STOP_SIGNAL_FILENAME: None\n",
      "[2024-08-01 03:35:02.948 ip-10-0-243-133.ap-northeast-2.compute.internal:7 INFO profiler_config_parser.py:111] User has disabled profiler.\n",
      "[2024-08-01:03:35:03:INFO] Imported framework sagemaker_xgboost_container.training\n",
      "[2024-08-01:03:35:03:INFO] Failed to parse hyperparameter eval_metric value logloss to Json.\n",
      "Returning the value itself\n",
      "[2024-08-01:03:35:03:INFO] Failed to parse hyperparameter objective value binary:logistic to Json.\n",
      "Returning the value itself\n",
      "[2024-08-01:03:35:03:INFO] No GPUs detected (normal if no gpus installed)\n",
      "[2024-08-01:03:35:03:INFO] Running XGBoost Sagemaker in algorithm mode\n",
      "[2024-08-01:03:35:03:INFO] Determined 0 GPU(s) available on the instance.\n",
      "[2024-08-01:03:35:03:INFO] File path /opt/ml/input/data/train of input files\n",
      "[2024-08-01:03:35:03:INFO] Making smlinks from folder /opt/ml/input/data/train to folder /tmp/sagemaker_xgboost_input_data\n",
      "[2024-08-01:03:35:03:INFO] creating symlink between Path /opt/ml/input/data/train/train-pca.recordio and destination /tmp/sagemaker_xgboost_input_data/train-pca.recordio5176676287309619381\n",
      "[2024-08-01:03:35:03:INFO] files path: /tmp/sagemaker_xgboost_input_data\n",
      "[2024-08-01:03:35:03:INFO] File path /opt/ml/input/data/validation of input files\n",
      "[2024-08-01:03:35:03:INFO] Making smlinks from folder /opt/ml/input/data/validation to folder /tmp/sagemaker_xgboost_input_data\n",
      "[2024-08-01:03:35:03:INFO] creating symlink between Path /opt/ml/input/data/validation/val-pca.recordio and destination /tmp/sagemaker_xgboost_input_data/val-pca.recordio-7041627087732820733\n",
      "[2024-08-01:03:35:03:INFO] files path: /tmp/sagemaker_xgboost_input_data\n",
      "[2024-08-01:03:35:03:INFO] Single node training.\n",
      "[2024-08-01:03:35:03:INFO] Train matrix has 30769 rows and 12 columns\n",
      "[2024-08-01:03:35:03:INFO] Validation matrix has 13188 rows\n",
      "[2024-08-01 03:35:03.472 ip-10-0-243-133.ap-northeast-2.compute.internal:7 INFO json_config.py:92] Creating hook from json_config at /opt/ml/input/config/debughookconfig.json.\n",
      "[2024-08-01 03:35:03.473 ip-10-0-243-133.ap-northeast-2.compute.internal:7 INFO hook.py:206] tensorboard_dir has not been set for the hook. SMDebug will not be exporting tensorboard summaries.\n",
      "[2024-08-01 03:35:03.474 ip-10-0-243-133.ap-northeast-2.compute.internal:7 INFO hook.py:259] Saving to /opt/ml/output/tensors\n",
      "[2024-08-01 03:35:03.474 ip-10-0-243-133.ap-northeast-2.compute.internal:7 INFO state_store.py:77] The checkpoint config file /opt/ml/input/config/checkpointconfig.json does not exist.\n",
      "[2024-08-01:03:35:03:INFO] Debug hook created from config\n",
      "[0]#011train-logloss:0.64519#011validation-logloss:0.64566\n",
      "[2024-08-01 03:35:03.519 ip-10-0-243-133.ap-northeast-2.compute.internal:7 INFO hook.py:427] Monitoring the collections: metrics\n",
      "[2024-08-01 03:35:03.522 ip-10-0-243-133.ap-northeast-2.compute.internal:7 INFO hook.py:491] Hook is writing from the hook with pid: 7\n",
      "[1]#011train-logloss:0.60571#011validation-logloss:0.60655\n",
      "[2]#011train-logloss:0.57245#011validation-logloss:0.57405\n",
      "[3]#011train-logloss:0.54422#011validation-logloss:0.54652\n",
      "[4]#011train-logloss:0.52033#011validation-logloss:0.52298\n",
      "[5]#011train-logloss:0.49966#011validation-logloss:0.50297\n",
      "[6]#011train-logloss:0.48154#011validation-logloss:0.48538\n",
      "[7]#011train-logloss:0.46595#011validation-logloss:0.47065\n",
      "[8]#011train-logloss:0.45238#011validation-logloss:0.45763\n",
      "[9]#011train-logloss:0.44026#011validation-logloss:0.44602\n",
      "[10]#011train-logloss:0.42948#011validation-logloss:0.43585\n",
      "[11]#011train-logloss:0.41993#011validation-logloss:0.42672\n",
      "[12]#011train-logloss:0.41116#011validation-logloss:0.41856\n",
      "[13]#011train-logloss:0.40358#011validation-logloss:0.41167\n",
      "[14]#011train-logloss:0.39683#011validation-logloss:0.40541\n",
      "[15]#011train-logloss:0.39075#011validation-logloss:0.39973\n",
      "[16]#011train-logloss:0.38514#011validation-logloss:0.39454\n",
      "[17]#011train-logloss:0.37992#011validation-logloss:0.38988\n",
      "[18]#011train-logloss:0.37554#011validation-logloss:0.38574\n",
      "[19]#011train-logloss:0.37150#011validation-logloss:0.38218\n",
      "[20]#011train-logloss:0.36786#011validation-logloss:0.37901\n",
      "[21]#011train-logloss:0.36408#011validation-logloss:0.37594\n",
      "[22]#011train-logloss:0.36041#011validation-logloss:0.37286\n",
      "[23]#011train-logloss:0.35769#011validation-logloss:0.37045\n",
      "[24]#011train-logloss:0.35503#011validation-logloss:0.36835\n",
      "[25]#011train-logloss:0.35219#011validation-logloss:0.36609\n",
      "[26]#011train-logloss:0.34960#011validation-logloss:0.36420\n",
      "[27]#011train-logloss:0.34699#011validation-logloss:0.36217\n",
      "[28]#011train-logloss:0.34511#011validation-logloss:0.36080\n",
      "[29]#011train-logloss:0.34341#011validation-logloss:0.35936\n",
      "[30]#011train-logloss:0.34105#011validation-logloss:0.35760\n",
      "[31]#011train-logloss:0.33947#011validation-logloss:0.35644\n",
      "[32]#011train-logloss:0.33741#011validation-logloss:0.35478\n",
      "[33]#011train-logloss:0.33605#011validation-logloss:0.35380\n",
      "[34]#011train-logloss:0.33432#011validation-logloss:0.35256\n",
      "[35]#011train-logloss:0.33310#011validation-logloss:0.35152\n",
      "[36]#011train-logloss:0.33199#011validation-logloss:0.35078\n",
      "[37]#011train-logloss:0.33099#011validation-logloss:0.35009\n",
      "[38]#011train-logloss:0.32984#011validation-logloss:0.34941\n",
      "[39]#011train-logloss:0.32907#011validation-logloss:0.34888\n",
      "[40]#011train-logloss:0.32805#011validation-logloss:0.34808\n",
      "[41]#011train-logloss:0.32704#011validation-logloss:0.34746\n",
      "[42]#011train-logloss:0.32628#011validation-logloss:0.34694\n",
      "[43]#011train-logloss:0.32504#011validation-logloss:0.34622\n",
      "[44]#011train-logloss:0.32387#011validation-logloss:0.34540\n",
      "[45]#011train-logloss:0.32300#011validation-logloss:0.34482\n",
      "[46]#011train-logloss:0.32202#011validation-logloss:0.34420\n",
      "[47]#011train-logloss:0.32095#011validation-logloss:0.34359\n",
      "[48]#011train-logloss:0.32028#011validation-logloss:0.34317\n",
      "[49]#011train-logloss:0.31943#011validation-logloss:0.34244\n",
      "[50]#011train-logloss:0.31877#011validation-logloss:0.34214\n",
      "[51]#011train-logloss:0.31774#011validation-logloss:0.34151\n",
      "[52]#011train-logloss:0.31707#011validation-logloss:0.34113\n",
      "[53]#011train-logloss:0.31641#011validation-logloss:0.34082\n",
      "[54]#011train-logloss:0.31580#011validation-logloss:0.34048\n",
      "[55]#011train-logloss:0.31493#011validation-logloss:0.34009\n",
      "[56]#011train-logloss:0.31442#011validation-logloss:0.33976\n",
      "[57]#011train-logloss:0.31384#011validation-logloss:0.33931\n",
      "[58]#011train-logloss:0.31330#011validation-logloss:0.33900\n",
      "[59]#011train-logloss:0.31273#011validation-logloss:0.33878\n",
      "[60]#011train-logloss:0.31213#011validation-logloss:0.33845\n",
      "[61]#011train-logloss:0.31182#011validation-logloss:0.33825\n",
      "[62]#011train-logloss:0.31118#011validation-logloss:0.33803\n",
      "[63]#011train-logloss:0.31016#011validation-logloss:0.33758\n",
      "[64]#011train-logloss:0.30971#011validation-logloss:0.33745\n",
      "[65]#011train-logloss:0.30930#011validation-logloss:0.33724\n",
      "[66]#011train-logloss:0.30910#011validation-logloss:0.33709\n",
      "[67]#011train-logloss:0.30851#011validation-logloss:0.33688\n",
      "[68]#011train-logloss:0.30817#011validation-logloss:0.33669\n",
      "[69]#011train-logloss:0.30748#011validation-logloss:0.33633\n",
      "[70]#011train-logloss:0.30693#011validation-logloss:0.33612\n",
      "[71]#011train-logloss:0.30605#011validation-logloss:0.33563\n",
      "[72]#011train-logloss:0.30558#011validation-logloss:0.33540\n",
      "[73]#011train-logloss:0.30483#011validation-logloss:0.33497\n",
      "[74]#011train-logloss:0.30458#011validation-logloss:0.33486\n",
      "[75]#011train-logloss:0.30377#011validation-logloss:0.33459\n",
      "[76]#011train-logloss:0.30342#011validation-logloss:0.33440\n",
      "[77]#011train-logloss:0.30326#011validation-logloss:0.33442\n",
      "[78]#011train-logloss:0.30294#011validation-logloss:0.33443\n",
      "[79]#011train-logloss:0.30250#011validation-logloss:0.33434\n",
      "[80]#011train-logloss:0.30196#011validation-logloss:0.33410\n",
      "[81]#011train-logloss:0.30162#011validation-logloss:0.33403\n",
      "[82]#011train-logloss:0.30132#011validation-logloss:0.33397\n",
      "[83]#011train-logloss:0.30099#011validation-logloss:0.33383\n",
      "[84]#011train-logloss:0.30067#011validation-logloss:0.33373\n",
      "[85]#011train-logloss:0.30056#011validation-logloss:0.33374\n",
      "[86]#011train-logloss:0.30029#011validation-logloss:0.33360\n",
      "[87]#011train-logloss:0.30000#011validation-logloss:0.33356\n",
      "[88]#011train-logloss:0.29970#011validation-logloss:0.33347\n",
      "[89]#011train-logloss:0.29938#011validation-logloss:0.33348\n",
      "[90]#011train-logloss:0.29909#011validation-logloss:0.33337\n",
      "[91]#011train-logloss:0.29865#011validation-logloss:0.33319\n",
      "[92]#011train-logloss:0.29814#011validation-logloss:0.33302\n",
      "[93]#011train-logloss:0.29788#011validation-logloss:0.33299\n",
      "[94]#011train-logloss:0.29755#011validation-logloss:0.33288\n",
      "[95]#011train-logloss:0.29689#011validation-logloss:0.33276\n",
      "[96]#011train-logloss:0.29663#011validation-logloss:0.33271\n",
      "[97]#011train-logloss:0.29623#011validation-logloss:0.33253\n",
      "[98]#011train-logloss:0.29608#011validation-logloss:0.33247\n",
      "[99]#011train-logloss:0.29567#011validation-logloss:0.33237\n",
      "[100]#011train-logloss:0.29556#011validation-logloss:0.33242\n",
      "[101]#011train-logloss:0.29531#011validation-logloss:0.33238\n",
      "[102]#011train-logloss:0.29489#011validation-logloss:0.33220\n",
      "[103]#011train-logloss:0.29437#011validation-logloss:0.33199\n",
      "[104]#011train-logloss:0.29394#011validation-logloss:0.33195\n",
      "[105]#011train-logloss:0.29365#011validation-logloss:0.33190\n",
      "[106]#011train-logloss:0.29314#011validation-logloss:0.33173\n",
      "[107]#011train-logloss:0.29307#011validation-logloss:0.33171\n",
      "[108]#011train-logloss:0.29264#011validation-logloss:0.33164\n",
      "[109]#011train-logloss:0.29210#011validation-logloss:0.33142\n",
      "[110]#011train-logloss:0.29152#011validation-logloss:0.33110\n",
      "[111]#011train-logloss:0.29128#011validation-logloss:0.33109\n",
      "[112]#011train-logloss:0.29096#011validation-logloss:0.33104\n",
      "[113]#011train-logloss:0.29047#011validation-logloss:0.33101\n",
      "[114]#011train-logloss:0.28993#011validation-logloss:0.33078\n",
      "[115]#011train-logloss:0.28982#011validation-logloss:0.33077\n",
      "[116]#011train-logloss:0.28943#011validation-logloss:0.33070\n",
      "[117]#011train-logloss:0.28929#011validation-logloss:0.33068\n",
      "[118]#011train-logloss:0.28901#011validation-logloss:0.33063\n",
      "[119]#011train-logloss:0.28877#011validation-logloss:0.33062\n",
      "[120]#011train-logloss:0.28867#011validation-logloss:0.33054\n",
      "[121]#011train-logloss:0.28829#011validation-logloss:0.33050\n",
      "[122]#011train-logloss:0.28794#011validation-logloss:0.33041\n",
      "[123]#011train-logloss:0.28774#011validation-logloss:0.33034\n",
      "[124]#011train-logloss:0.28743#011validation-logloss:0.33033\n",
      "[125]#011train-logloss:0.28724#011validation-logloss:0.33034\n",
      "[126]#011train-logloss:0.28691#011validation-logloss:0.33032\n",
      "[127]#011train-logloss:0.28665#011validation-logloss:0.33021\n",
      "[128]#011train-logloss:0.28632#011validation-logloss:0.33010\n",
      "[129]#011train-logloss:0.28612#011validation-logloss:0.33005\n",
      "[130]#011train-logloss:0.28599#011validation-logloss:0.33007\n",
      "[131]#011train-logloss:0.28583#011validation-logloss:0.33001\n",
      "[132]#011train-logloss:0.28556#011validation-logloss:0.33005\n",
      "[133]#011train-logloss:0.28538#011validation-logloss:0.33002\n",
      "[134]#011train-logloss:0.28497#011validation-logloss:0.32990\n",
      "[135]#011train-logloss:0.28469#011validation-logloss:0.32989\n",
      "[136]#011train-logloss:0.28446#011validation-logloss:0.32986\n",
      "[137]#011train-logloss:0.28418#011validation-logloss:0.32982\n",
      "[138]#011train-logloss:0.28395#011validation-logloss:0.32984\n",
      "[139]#011train-logloss:0.28384#011validation-logloss:0.32981\n",
      "[140]#011train-logloss:0.28355#011validation-logloss:0.32982\n",
      "[141]#011train-logloss:0.28333#011validation-logloss:0.32977\n",
      "[142]#011train-logloss:0.28294#011validation-logloss:0.32958\n",
      "[143]#011train-logloss:0.28268#011validation-logloss:0.32944\n",
      "[144]#011train-logloss:0.28258#011validation-logloss:0.32945\n",
      "[145]#011train-logloss:0.28241#011validation-logloss:0.32938\n",
      "[146]#011train-logloss:0.28220#011validation-logloss:0.32942\n",
      "[147]#011train-logloss:0.28193#011validation-logloss:0.32942\n",
      "[148]#011train-logloss:0.28177#011validation-logloss:0.32938\n",
      "[149]#011train-logloss:0.28155#011validation-logloss:0.32934\n",
      "[150]#011train-logloss:0.28142#011validation-logloss:0.32934\n",
      "[151]#011train-logloss:0.28108#011validation-logloss:0.32930\n",
      "[152]#011train-logloss:0.28078#011validation-logloss:0.32928\n",
      "[153]#011train-logloss:0.28069#011validation-logloss:0.32936\n",
      "[154]#011train-logloss:0.28061#011validation-logloss:0.32938\n",
      "[155]#011train-logloss:0.28030#011validation-logloss:0.32939\n",
      "[156]#011train-logloss:0.28011#011validation-logloss:0.32935\n",
      "[157]#011train-logloss:0.27985#011validation-logloss:0.32921\n",
      "[158]#011train-logloss:0.27956#011validation-logloss:0.32920\n",
      "[159]#011train-logloss:0.27925#011validation-logloss:0.32899\n",
      "[160]#011train-logloss:0.27888#011validation-logloss:0.32887\n",
      "[161]#011train-logloss:0.27868#011validation-logloss:0.32889\n",
      "[162]#011train-logloss:0.27851#011validation-logloss:0.32891\n",
      "[163]#011train-logloss:0.27835#011validation-logloss:0.32888\n",
      "[164]#011train-logloss:0.27818#011validation-logloss:0.32876\n",
      "[165]#011train-logloss:0.27780#011validation-logloss:0.32869\n",
      "[166]#011train-logloss:0.27763#011validation-logloss:0.32869\n",
      "[167]#011train-logloss:0.27728#011validation-logloss:0.32862\n",
      "[168]#011train-logloss:0.27706#011validation-logloss:0.32859\n",
      "[169]#011train-logloss:0.27681#011validation-logloss:0.32863\n",
      "[170]#011train-logloss:0.27651#011validation-logloss:0.32860\n",
      "[171]#011train-logloss:0.27625#011validation-logloss:0.32856\n",
      "[172]#011train-logloss:0.27595#011validation-logloss:0.32843\n",
      "[173]#011train-logloss:0.27574#011validation-logloss:0.32835\n",
      "[174]#011train-logloss:0.27553#011validation-logloss:0.32843\n",
      "[175]#011train-logloss:0.27523#011validation-logloss:0.32837\n",
      "[176]#011train-logloss:0.27520#011validation-logloss:0.32834\n",
      "[177]#011train-logloss:0.27499#011validation-logloss:0.32840\n",
      "[178]#011train-logloss:0.27478#011validation-logloss:0.32834\n",
      "[179]#011train-logloss:0.27461#011validation-logloss:0.32836\n",
      "[180]#011train-logloss:0.27419#011validation-logloss:0.32838\n",
      "[181]#011train-logloss:0.27389#011validation-logloss:0.32838\n",
      "[182]#011train-logloss:0.27375#011validation-logloss:0.32841\n",
      "[183]#011train-logloss:0.27360#011validation-logloss:0.32848\n",
      "[184]#011train-logloss:0.27345#011validation-logloss:0.32843\n",
      "[185]#011train-logloss:0.27331#011validation-logloss:0.32839\n",
      "[186]#011train-logloss:0.27289#011validation-logloss:0.32841\n",
      "[187]#011train-logloss:0.27270#011validation-logloss:0.32836\n",
      "\n",
      "2024-08-01 03:35:24 Uploading - Uploading generated training model\n",
      "2024-08-01 03:35:24 Completed - Training job completed\n",
      "Training seconds: 109\n",
      "Billable seconds: 23\n",
      "Managed Spot Training savings: 78.9%\n"
     ]
    }
   ],
   "source": [
    "training_input_config = sagemaker.session.TrainingInput(\n",
    "    s3_data=os.path.join(pca_path, 'train'),\n",
    "    content_type='application/x-recordio-protobuf',\n",
    ")\n",
    "\n",
    "validation_input_config = sagemaker.session.TrainingInput(\n",
    "    s3_data=os.path.join(pca_path, 'val'),\n",
    "    content_type='application/x-recordio-protobuf',\n",
    ")\n",
    "\n",
    "data_channels = {'train': training_input_config, 'validation': validation_input_config}\n",
    "\n",
    "xgb_estimator.fit(inputs=data_channels, logs=True)"
   ]
  },
  {
   "cell_type": "code",
   "execution_count": 154,
   "metadata": {},
   "outputs": [
    {
     "name": "stderr",
     "output_type": "stream",
     "text": [
      "INFO:sagemaker:Creating model with name: adult-income-classification-2024-08-01-05-04-42-748\n",
      "INFO:sagemaker:Creating endpoint-config with name adult-income-classification-xgb-2024-08-01-05-04-42-748\n",
      "INFO:sagemaker:Creating endpoint with name adult-income-classification-xgb-2024-08-01-05-04-42-748\n"
     ]
    },
    {
     "name": "stdout",
     "output_type": "stream",
     "text": [
      "-------!"
     ]
    }
   ],
   "source": [
    "from sagemaker.serializers import CSVSerializer\n",
    "from sagemaker.deserializers import CSVDeserializer\n",
    "import numpy as np\n",
    "\n",
    "class CustomCSVDeserializer(CSVDeserializer):\n",
    "    def deserialize(self, stream, content_type):\n",
    "        result = super().deserialize(stream, content_type)\n",
    "        return np.array([float(item[0]) for item in result])\n",
    "    \n",
    "    \n",
    "xgb_predictor = xgb_estimator.deploy(\n",
    "    initial_instance_count=1,\n",
    "    instance_type='ml.m5.xlarge',\n",
    "    endpoint_name = name_from_base(project_name + \"-xgb\"),\n",
    "    serialize = CSVSerializer(),\n",
    "    deserializer = CustomCSVDeserializer()\n",
    ")"
   ]
  },
  {
   "cell_type": "code",
   "execution_count": 160,
   "metadata": {},
   "outputs": [],
   "source": [
    "y_preds = xgb_predictor.predict(X_test_pca)\n",
    "y_preds = [1 if pred > 0.5 else 0 for pred in y_preds] # 확률값 0.5기준으로 바이너리화"
   ]
  },
  {
   "cell_type": "code",
   "execution_count": 165,
   "metadata": {},
   "outputs": [
    {
     "name": "stdout",
     "output_type": "stream",
     "text": [
      "분류 보고서:\n",
      "              precision    recall  f1-score   support\n",
      "\n",
      "           0       0.86      0.93      0.90      3699\n",
      "           1       0.73      0.54      0.62      1186\n",
      "\n",
      "    accuracy                           0.84      4885\n",
      "   macro avg       0.80      0.74      0.76      4885\n",
      "weighted avg       0.83      0.84      0.83      4885\n",
      "\n"
     ]
    }
   ],
   "source": [
    "from sklearn.metrics import classification_report\n",
    "\n",
    "# 분류 보고서 생성\n",
    "report = classification_report(y_test, y_preds)\n",
    "\n",
    "print(\"분류 보고서:\")\n",
    "print(report)\n"
   ]
  },
  {
   "cell_type": "code",
   "execution_count": 166,
   "metadata": {},
   "outputs": [
    {
     "name": "stderr",
     "output_type": "stream",
     "text": [
      "INFO:sagemaker:Deleting endpoint configuration with name: adult-income-classification-xgb-2024-08-01-05-04-42-748\n",
      "INFO:sagemaker:Deleting endpoint with name: adult-income-classification-xgb-2024-08-01-05-04-42-748\n"
     ]
    }
   ],
   "source": [
    "xgb_predictor.delete_endpoint()"
   ]
  }
 ],
 "metadata": {
  "kernelspec": {
   "display_name": "Python 3",
   "language": "python",
   "name": "python3"
  },
  "language_info": {
   "codemirror_mode": {
    "name": "ipython",
    "version": 3
   },
   "file_extension": ".py",
   "mimetype": "text/x-python",
   "name": "python",
   "nbconvert_exporter": "python",
   "pygments_lexer": "ipython3",
   "version": "3.12.4"
  }
 },
 "nbformat": 4,
 "nbformat_minor": 2
}
