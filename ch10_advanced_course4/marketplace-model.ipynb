{
 "cells": [
  {
   "cell_type": "markdown",
   "metadata": {},
   "source": [
    "## 마켓플레이스 모델 구독"
   ]
  },
  {
   "cell_type": "markdown",
   "metadata": {},
   "source": [
    "라이브러리"
   ]
  },
  {
   "cell_type": "code",
   "execution_count": 1,
   "metadata": {},
   "outputs": [
    {
     "name": "stdout",
     "output_type": "stream",
     "text": [
      "sagemaker.config INFO - Not applying SDK defaults from location: /Library/Application Support/sagemaker/config.yaml\n",
      "sagemaker.config INFO - Not applying SDK defaults from location: /Users/dante/Library/Application Support/sagemaker/config.yaml\n"
     ]
    },
    {
     "data": {
      "text/plain": [
       "True"
      ]
     },
     "execution_count": 1,
     "metadata": {},
     "output_type": "execute_result"
    }
   ],
   "source": [
    "# AWS 관련\n",
    "import sagemaker\n",
    "import boto3\n",
    "\n",
    "# 시각화 및 이미지 관련\n",
    "import plotly.graph_objects as go\n",
    "from io import BytesIO\n",
    "from PIL import Image\n",
    "\n",
    "# 기타 유틸리티\n",
    "import requests\n",
    "import os\n",
    "import json\n",
    "from dotenv import load_dotenv\n",
    "load_dotenv()"
   ]
  },
  {
   "cell_type": "markdown",
   "metadata": {},
   "source": [
    "SDK 클라이언트 설정"
   ]
  },
  {
   "cell_type": "code",
   "execution_count": 6,
   "metadata": {},
   "outputs": [],
   "source": [
    "boto3_session = boto3.Session(profile_name='awstutor')\n",
    "sagemaker_session = sagemaker.Session(boto_session=boto3_session)\n",
    "role = os.environ.get('SAGEMAKER_EXECUTION_ROLE_ARN')\n",
    "sm_runtime = boto3_session.client(service_name='sagemaker-runtime')"
   ]
  },
  {
   "cell_type": "markdown",
   "metadata": {},
   "source": [
    "헬퍼 함수 정의"
   ]
  },
  {
   "cell_type": "code",
   "execution_count": 7,
   "metadata": {},
   "outputs": [],
   "source": [
    "# 이미지 URL을 인코딩하는 함수\n",
    "def encode_image_url(image_url):\n",
    "    response = requests.get(image_url)\n",
    "    image_content = response.content\n",
    "    return image_content"
   ]
  },
  {
   "cell_type": "code",
   "execution_count": 8,
   "metadata": {},
   "outputs": [],
   "source": [
    "# 결과 시각화\n",
    "def visualize_detection_results(encoded_image, result):\n",
    "    # 이미지 로드\n",
    "    image = Image.open(BytesIO(encoded_image))\n",
    "\n",
    "    # 이미지를 plotly 형식으로 변환\n",
    "    fig = go.Figure()\n",
    "\n",
    "    fig.add_trace(go.Image(z=image))\n",
    "\n",
    "    # 검출된 객체에 대한 바운딩 박스 그리기\n",
    "    for obj in result:\n",
    "        fig.add_shape(\n",
    "            type=\"rect\",\n",
    "            x0=obj['left'], y0=obj['top'],\n",
    "            x1=obj['right'], y1=obj['bottom'],\n",
    "            line=dict(color=\"red\", width=2),\n",
    "            fillcolor=\"rgba(255,0,0,0.1)\"\n",
    "        )\n",
    "        fig.add_annotation(\n",
    "            x=obj['left'], y=obj['top'],\n",
    "            text=f\"{obj['id']}: {obj['score']:.2f}\",\n",
    "            showarrow=False,\n",
    "            font=dict(color=\"white\", size=10),\n",
    "            bgcolor=\"red\",\n",
    "            opacity=0.7\n",
    "        )\n",
    "\n",
    "    # 레이아웃 설정\n",
    "    fig.update_layout(\n",
    "        showlegend=False,\n",
    "        width=800,\n",
    "        height=600,\n",
    "        margin=dict(l=0, r=0, t=0, b=0)\n",
    "    )\n",
    "\n",
    "    # 축 숨기기\n",
    "    fig.update_xaxes(visible=False, range=[0, image.width])\n",
    "    fig.update_yaxes(visible=False, range=[image.height, 0])\n",
    "    fig.show()\n",
    "    return fig"
   ]
  },
  {
   "cell_type": "code",
   "execution_count": null,
   "metadata": {},
   "outputs": [],
   "source": [
    "# 객체 검출 함수\n",
    "def detect_object(img_url):\n",
    "    # 이미지 인코딩\n",
    "    encoded_image = encode_image_url(img_url)\n",
    "    # 엔드포인트 호출\n",
    "    response = sm_runtime.invoke_endpoint(\n",
    "        EndpointName='dante-yolov3-obj-detector-endpoint',\n",
    "        ContentType=\"image/jpeg\",\n",
    "        Body=encoded_image,\n",
    "        CustomAttributes='{\"threshold\": 0.2}',\n",
    "        Accept='application/json'\n",
    "    )\n",
    "    # 결과 파싱\n",
    "    result = json.loads(response['Body'].read().decode())\n",
    "    # 결과 시각화\n",
    "    visualize_detection_results(encoded_image, result)"
   ]
  },
  {
   "cell_type": "markdown",
   "metadata": {},
   "source": [
    "실시간 추론"
   ]
  },
  {
   "cell_type": "code",
   "execution_count": null,
   "metadata": {},
   "outputs": [],
   "source": [
    "detect_object('https://cdn.imweb.me/thumbnail/20240904/6640655fd55af.jpeg')"
   ]
  },
  {
   "cell_type": "code",
   "execution_count": null,
   "metadata": {},
   "outputs": [],
   "source": [
    "detect_object('https://cdn.imweb.me/thumbnail/20240904/a4337fba7cb6f.jpeg')"
   ]
  },
  {
   "cell_type": "code",
   "execution_count": null,
   "metadata": {},
   "outputs": [],
   "source": [
    "detect_object('https://cdn.imweb.me/thumbnail/20240904/37c449ac520f3.jpeg')"
   ]
  },
  {
   "cell_type": "markdown",
   "metadata": {},
   "source": [
    "리소스 정리"
   ]
  },
  {
   "cell_type": "code",
   "execution_count": 39,
   "metadata": {},
   "outputs": [
    {
     "name": "stdout",
     "output_type": "stream",
     "text": [
      "엔드포인트가 성공적으로 삭제되었습니다.\n"
     ]
    }
   ],
   "source": [
    "# 엔드포인트 삭제\n",
    "sm_client = boto3_session.client(service_name='sagemaker')\n",
    "sm_client.delete_endpoint(EndpointName='dante-yolov3-obj-detector-endpoint')\n",
    "print('엔드포인트가 성공적으로 삭제되었습니다.')"
   ]
  },
  {
   "cell_type": "code",
   "execution_count": 41,
   "metadata": {},
   "outputs": [
    {
     "name": "stdout",
     "output_type": "stream",
     "text": [
      "엔드포인트 구성이 성공적으로 삭제되었습니다.\n"
     ]
    }
   ],
   "source": [
    "# 엔드포인트 구성 삭제\n",
    "sm_client.delete_endpoint_config(EndpointConfigName='dante-yolov3-obj-detector-endpoint-config')\n",
    "print('엔드포인트 구성이 성공적으로 삭제되었습니다.')"
   ]
  },
  {
   "cell_type": "code",
   "execution_count": 43,
   "metadata": {},
   "outputs": [
    {
     "name": "stdout",
     "output_type": "stream",
     "text": [
      "모델이 성공적으로 삭제되었습니다.\n"
     ]
    },
    {
     "ename": "",
     "evalue": "",
     "output_type": "error",
     "traceback": [
      "\u001b[1;31m현재 셀 또는 이전 셀에서 코드를 실행하는 동안 Kernel이 충돌했습니다. \n",
      "\u001b[1;31m셀의 코드를 검토하여 가능한 오류 원인을 식별하세요. \n",
      "\u001b[1;31m자세한 내용을 보려면 <a href='https://aka.ms/vscodeJupyterKernelCrash'>여기</a>를 클릭하세요. \n",
      "\u001b[1;31m자세한 내용은 Jupyter <a href='command:jupyter.viewOutput'>로그</a>를 참조하세요."
     ]
    }
   ],
   "source": [
    "# 모델 삭제\n",
    "sm_client.delete_model(ModelName='dante-yolo3-obj-detector')\n",
    "print('모델이 성공적으로 삭제되었습니다.')"
   ]
  }
 ],
 "metadata": {
  "kernelspec": {
   "display_name": "Python 3",
   "language": "python",
   "name": "python3"
  },
  "language_info": {
   "codemirror_mode": {
    "name": "ipython",
    "version": 3
   },
   "file_extension": ".py",
   "mimetype": "text/x-python",
   "name": "python",
   "nbconvert_exporter": "python",
   "pygments_lexer": "ipython3",
   "version": "3.12.7"
  }
 },
 "nbformat": 4,
 "nbformat_minor": 2
}
