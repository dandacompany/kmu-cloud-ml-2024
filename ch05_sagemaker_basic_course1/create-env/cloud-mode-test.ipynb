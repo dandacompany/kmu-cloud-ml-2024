{
 "cells": [
  {
   "cell_type": "markdown",
   "metadata": {},
   "source": [
    "## 클라우드 모드 테스트"
   ]
  },
  {
   "cell_type": "markdown",
   "metadata": {},
   "source": [
    "### 스크립트 파일 작성"
   ]
  },
  {
   "cell_type": "code",
   "execution_count": 21,
   "metadata": {},
   "outputs": [
    {
     "name": "stdout",
     "output_type": "stream",
     "text": [
      "Overwriting src/train.py\n"
     ]
    }
   ],
   "source": [
    "%%writefile src/train.py\n",
    "import argparse\n",
    "import os\n",
    "import numpy as np\n",
    "import pandas as pd\n",
    "from sklearn.datasets import load_iris\n",
    "from sklearn.model_selection import train_test_split\n",
    "from sklearn.preprocessing import StandardScaler\n",
    "from sklearn.ensemble import RandomForestClassifier\n",
    "from sklearn.metrics import accuracy_score\n",
    "import joblib\n",
    "\n",
    "def model_fn(model_dir):\n",
    "    \"\"\"모델 로드 함수\"\"\"\n",
    "    print(\"모델 로딩 중...\")\n",
    "    model = joblib.load(os.path.join(model_dir, 'model.joblib'))\n",
    "    scaler = joblib.load(os.path.join(model_dir, 'scaler.joblib'))\n",
    "    print(\"모델 로딩 완료\")\n",
    "    return {'model': model, 'scaler': scaler}\n",
    "\n",
    "def predict_fn(input_data, model):\n",
    "    \"\"\"예측 함수\"\"\"\n",
    "    scaler = model['scaler']\n",
    "    clf = model['model']\n",
    "    scaled_input = scaler.transform(input_data)\n",
    "    predictions = clf.predict(scaled_input)\n",
    "    return predictions\n",
    "\n",
    "if __name__ == '__main__':\n",
    "    print(\"프로그램 시작\")\n",
    "    \n",
    "    parser = argparse.ArgumentParser()\n",
    "    \n",
    "    # 하이퍼파라미터 등 파라미터 추가\n",
    "    parser.add_argument('--n-estimators', type=int, default=100)\n",
    "    parser.add_argument('--min-samples-split', type=int, default=2)\n",
    "    \n",
    "    # SageMaker 특정 인자\n",
    "    parser.add_argument('--model-dir', type=str, default=os.environ.get('SM_MODEL_DIR'))\n",
    "    \n",
    "    args, _ = parser.parse_known_args()\n",
    "    print(f\"파라미터 설정: n_estimators={args.n_estimators}, min_samples_split={args.min_samples_split}\")\n",
    "    \n",
    "    # Iris 데이터셋 로드\n",
    "    print(\"Iris 데이터셋 로드 중...\")\n",
    "    iris = load_iris()\n",
    "    X, y = iris.data, iris.target\n",
    "    print(\"데이터셋 로드 완료\")\n",
    "    \n",
    "    # 데이터 전처리\n",
    "    print(\"데이터 전처리 시작\")\n",
    "    X_train, X_test, y_train, y_test = train_test_split(X, y, test_size=0.2, random_state=42)\n",
    "    \n",
    "    scaler = StandardScaler()\n",
    "    X_train_scaled = scaler.fit_transform(X_train)\n",
    "    X_test_scaled = scaler.transform(X_test)\n",
    "    print(\"데이터 전처리 완료\")\n",
    "    \n",
    "    # 모델 훈련\n",
    "    print(\"모델 훈련 시작\")\n",
    "    model = RandomForestClassifier(n_estimators=args.n_estimators, min_samples_split=args.min_samples_split, random_state=2024)\n",
    "    model.fit(X_train_scaled, y_train)\n",
    "    print(\"모델 훈련 완료\")\n",
    "    \n",
    "    # 모델 평가\n",
    "    print(\"모델 평가 중...\")\n",
    "    y_pred = model.predict(X_test_scaled)\n",
    "    accuracy = accuracy_score(y_test, y_pred)\n",
    "    print(f'테스트 정확도: {accuracy}')\n",
    "    \n",
    "    if args.model_dir:\n",
    "        print(\"모델 및 스케일러 저장 중...\")\n",
    "        # 모델 저장\n",
    "        joblib.dump(model, os.path.join(args.model_dir, 'model.joblib'))\n",
    "    \n",
    "        # 스케일러 저장 (추론 시 사용)\n",
    "        joblib.dump(scaler, os.path.join(args.model_dir, 'scaler.joblib'))\n",
    "        print(\"모델 및 스케일러 저장 완료\")\n",
    "    \n",
    "    print(\"프로그램 종료\")"
   ]
  },
  {
   "cell_type": "markdown",
   "metadata": {},
   "source": [
    "### 로컬 테스트"
   ]
  },
  {
   "cell_type": "code",
   "execution_count": 10,
   "metadata": {},
   "outputs": [
    {
     "name": "stdout",
     "output_type": "stream",
     "text": [
      "프로그램 시작\n",
      "파라미터 설정: n_estimators=100, min_samples_split=3\n",
      "Iris 데이터셋 로드 중...\n",
      "데이터셋 로드 완료\n",
      "데이터 전처리 시작\n",
      "데이터 전처리 완료\n",
      "모델 훈련 시작\n",
      "모델 훈련 완료\n",
      "모델 평가 중...\n",
      "테스트 정확도: 1.0\n",
      "프로그램 종료\n"
     ]
    }
   ],
   "source": [
    "!python src/train.py --n-estimators 100 --min-samples-split 3"
   ]
  },
  {
   "cell_type": "markdown",
   "metadata": {},
   "source": [
    "### 클라우드 모드 실행"
   ]
  },
  {
   "cell_type": "markdown",
   "metadata": {},
   "source": [
    "라이브러리 및 환경변수 준비"
   ]
  },
  {
   "cell_type": "code",
   "execution_count": 22,
   "metadata": {},
   "outputs": [
    {
     "data": {
      "text/plain": [
       "True"
      ]
     },
     "execution_count": 22,
     "metadata": {},
     "output_type": "execute_result"
    }
   ],
   "source": [
    "import sagemaker\n",
    "import boto3\n",
    "import os\n",
    "from dotenv import load_dotenv\n",
    "from sagemaker.sklearn.estimator import SKLearn\n",
    "load_dotenv()"
   ]
  },
  {
   "cell_type": "markdown",
   "metadata": {},
   "source": [
    "SDK 준비 : 세션과 IAM 실행역할"
   ]
  },
  {
   "cell_type": "code",
   "execution_count": 23,
   "metadata": {},
   "outputs": [
    {
     "name": "stderr",
     "output_type": "stream",
     "text": [
      "INFO:botocore.credentials:Found credentials in shared credentials file: ~/.aws/credentials\n"
     ]
    }
   ],
   "source": [
    "boto3_session = boto3.Session(profile_name='awstutor')\n",
    "sagemaker_session = sagemaker.Session(boto_session=boto3_session)\n",
    "role = os.environ.get('SAGEMAKER_EXECUTION_ROLE_ARN')"
   ]
  },
  {
   "cell_type": "markdown",
   "metadata": {},
   "source": [
    "모델 훈련 스크립트 및 파라미터 설정"
   ]
  },
  {
   "cell_type": "code",
   "execution_count": 24,
   "metadata": {},
   "outputs": [],
   "source": [
    "estimator = SKLearn(\n",
    "    entry_point='train.py',\n",
    "    source_dir='src',\n",
    "    role=role,\n",
    "    sagemaker_session=sagemaker_session,\n",
    "    instance_count=1,\n",
    "    instance_type='ml.m5.large',\n",
    "    framework_version='0.23-1',\n",
    "    hyperparameters={\n",
    "        'n-estimators': 150,\n",
    "        'min-samples-split': 3\n",
    "    }\n",
    ")"
   ]
  },
  {
   "cell_type": "markdown",
   "metadata": {},
   "source": [
    "모델 훈련 실행"
   ]
  },
  {
   "cell_type": "code",
   "execution_count": 25,
   "metadata": {},
   "outputs": [
    {
     "name": "stderr",
     "output_type": "stream",
     "text": [
      "INFO:sagemaker:Creating training-job with name: sagemaker-scikit-learn-2024-07-29-01-47-08-364\n"
     ]
    },
    {
     "name": "stdout",
     "output_type": "stream",
     "text": [
      "2024-07-29 01:47:09 Starting - Starting the training job...\n",
      "2024-07-29 01:47:33 Starting - Preparing the instances for training...\n",
      "2024-07-29 01:47:59 Downloading - Downloading input data...\n",
      "2024-07-29 01:48:24 Downloading - Downloading the training image...\n",
      "2024-07-29 01:49:05 Training - Training image download completed. Training in progress..2024-07-29 01:49:09,041 sagemaker-containers INFO     Imported framework sagemaker_sklearn_container.training\n",
      "2024-07-29 01:49:09,045 sagemaker-training-toolkit INFO     No GPUs detected (normal if no gpus installed)\n",
      "2024-07-29 01:49:09,090 sagemaker_sklearn_container.training INFO     Invoking user training script.\n",
      "2024-07-29 01:49:09,244 sagemaker-training-toolkit INFO     No GPUs detected (normal if no gpus installed)\n",
      "2024-07-29 01:49:09,256 sagemaker-training-toolkit INFO     No GPUs detected (normal if no gpus installed)\n",
      "2024-07-29 01:49:09,268 sagemaker-training-toolkit INFO     No GPUs detected (normal if no gpus installed)\n",
      "2024-07-29 01:49:09,278 sagemaker-training-toolkit INFO     Invoking user script\n",
      "Training Env:\n",
      "{\n",
      "    \"additional_framework_parameters\": {},\n",
      "    \"channel_input_dirs\": {},\n",
      "    \"current_host\": \"algo-1\",\n",
      "    \"framework_module\": \"sagemaker_sklearn_container.training:main\",\n",
      "    \"hosts\": [\n",
      "        \"algo-1\"\n",
      "    ],\n",
      "    \"hyperparameters\": {\n",
      "        \"min-samples-split\": 3,\n",
      "        \"n-estimators\": 150\n",
      "    },\n",
      "    \"input_config_dir\": \"/opt/ml/input/config\",\n",
      "    \"input_data_config\": {},\n",
      "    \"input_dir\": \"/opt/ml/input\",\n",
      "    \"is_master\": true,\n",
      "    \"job_name\": \"sagemaker-scikit-learn-2024-07-29-01-47-08-364\",\n",
      "    \"log_level\": 20,\n",
      "    \"master_hostname\": \"algo-1\",\n",
      "    \"model_dir\": \"/opt/ml/model\",\n",
      "    \"module_dir\": \"s3://sagemaker-ap-northeast-2-905418381372/sagemaker-scikit-learn-2024-07-29-01-47-08-364/source/sourcedir.tar.gz\",\n",
      "    \"module_name\": \"train\",\n",
      "    \"network_interface_name\": \"eth0\",\n",
      "    \"num_cpus\": 2,\n",
      "    \"num_gpus\": 0,\n",
      "    \"output_data_dir\": \"/opt/ml/output/data\",\n",
      "    \"output_dir\": \"/opt/ml/output\",\n",
      "    \"output_intermediate_dir\": \"/opt/ml/output/intermediate\",\n",
      "    \"resource_config\": {\n",
      "        \"current_host\": \"algo-1\",\n",
      "        \"current_instance_type\": \"ml.m5.large\",\n",
      "        \"current_group_name\": \"homogeneousCluster\",\n",
      "        \"hosts\": [\n",
      "            \"algo-1\"\n",
      "        ],\n",
      "        \"instance_groups\": [\n",
      "            {\n",
      "                \"instance_group_name\": \"homogeneousCluster\",\n",
      "                \"instance_type\": \"ml.m5.large\",\n",
      "                \"hosts\": [\n",
      "                    \"algo-1\"\n",
      "                ]\n",
      "            }\n",
      "        ],\n",
      "        \"network_interface_name\": \"eth0\"\n",
      "    },\n",
      "    \"user_entry_point\": \"train.py\"\n",
      "}\n",
      "Environment variables:\n",
      "SM_HOSTS=[\"algo-1\"]\n",
      "SM_NETWORK_INTERFACE_NAME=eth0\n",
      "SM_HPS={\"min-samples-split\":3,\"n-estimators\":150}\n",
      "SM_USER_ENTRY_POINT=train.py\n",
      "SM_FRAMEWORK_PARAMS={}\n",
      "SM_RESOURCE_CONFIG={\"current_group_name\":\"homogeneousCluster\",\"current_host\":\"algo-1\",\"current_instance_type\":\"ml.m5.large\",\"hosts\":[\"algo-1\"],\"instance_groups\":[{\"hosts\":[\"algo-1\"],\"instance_group_name\":\"homogeneousCluster\",\"instance_type\":\"ml.m5.large\"}],\"network_interface_name\":\"eth0\"}\n",
      "SM_INPUT_DATA_CONFIG={}\n",
      "SM_OUTPUT_DATA_DIR=/opt/ml/output/data\n",
      "SM_CHANNELS=[]\n",
      "SM_CURRENT_HOST=algo-1\n",
      "SM_MODULE_NAME=train\n",
      "SM_LOG_LEVEL=20\n",
      "SM_FRAMEWORK_MODULE=sagemaker_sklearn_container.training:main\n",
      "SM_INPUT_DIR=/opt/ml/input\n",
      "SM_INPUT_CONFIG_DIR=/opt/ml/input/config\n",
      "SM_OUTPUT_DIR=/opt/ml/output\n",
      "SM_NUM_CPUS=2\n",
      "SM_NUM_GPUS=0\n",
      "SM_MODEL_DIR=/opt/ml/model\n",
      "SM_MODULE_DIR=s3://sagemaker-ap-northeast-2-905418381372/sagemaker-scikit-learn-2024-07-29-01-47-08-364/source/sourcedir.tar.gz\n",
      "SM_TRAINING_ENV={\"additional_framework_parameters\":{},\"channel_input_dirs\":{},\"current_host\":\"algo-1\",\"framework_module\":\"sagemaker_sklearn_container.training:main\",\"hosts\":[\"algo-1\"],\"hyperparameters\":{\"min-samples-split\":3,\"n-estimators\":150},\"input_config_dir\":\"/opt/ml/input/config\",\"input_data_config\":{},\"input_dir\":\"/opt/ml/input\",\"is_master\":true,\"job_name\":\"sagemaker-scikit-learn-2024-07-29-01-47-08-364\",\"log_level\":20,\"master_hostname\":\"algo-1\",\"model_dir\":\"/opt/ml/model\",\"module_dir\":\"s3://sagemaker-ap-northeast-2-905418381372/sagemaker-scikit-learn-2024-07-29-01-47-08-364/source/sourcedir.tar.gz\",\"module_name\":\"train\",\"network_interface_name\":\"eth0\",\"num_cpus\":2,\"num_gpus\":0,\"output_data_dir\":\"/opt/ml/output/data\",\"output_dir\":\"/opt/ml/output\",\"output_intermediate_dir\":\"/opt/ml/output/intermediate\",\"resource_config\":{\"current_group_name\":\"homogeneousCluster\",\"current_host\":\"algo-1\",\"current_instance_type\":\"ml.m5.large\",\"hosts\":[\"algo-1\"],\"instance_groups\":[{\"hosts\":[\"algo-1\"],\"instance_group_name\":\"homogeneousCluster\",\"instance_type\":\"ml.m5.large\"}],\"network_interface_name\":\"eth0\"},\"user_entry_point\":\"train.py\"}\n",
      "SM_USER_ARGS=[\"--min-samples-split\",\"3\",\"--n-estimators\",\"150\"]\n",
      "SM_OUTPUT_INTERMEDIATE_DIR=/opt/ml/output/intermediate\n",
      "SM_HP_MIN-SAMPLES-SPLIT=3\n",
      "SM_HP_N-ESTIMATORS=150\n",
      "PYTHONPATH=/opt/ml/code:/miniconda3/bin:/miniconda3/lib/python37.zip:/miniconda3/lib/python3.7:/miniconda3/lib/python3.7/lib-dynload:/miniconda3/lib/python3.7/site-packages\n",
      "Invoking script with the following command:\n",
      "/miniconda3/bin/python train.py --min-samples-split 3 --n-estimators 150\n",
      "프로그램 시작\n",
      "파라미터 설정: n_estimators=150, min_samples_split=3\n",
      "Iris 데이터셋 로드 중...\n",
      "데이터셋 로드 완료\n",
      "데이터 전처리 시작\n",
      "데이터 전처리 완료\n",
      "모델 훈련 시작\n",
      "모델 훈련 완료\n",
      "모델 평가 중...\n",
      "테스트 정확도: 1.0\n",
      "모델 및 스케일러 저장 중...\n",
      "모델 및 스케일러 저장 완료\n",
      "프로그램 종료\n",
      "2024-07-29 01:49:10,486 sagemaker-containers INFO     Reporting training SUCCESS\n",
      "\n",
      "2024-07-29 01:49:28 Uploading - Uploading generated training model\n",
      "2024-07-29 01:49:28 Completed - Training job completed\n",
      "Training seconds: 89\n",
      "Billable seconds: 89\n"
     ]
    }
   ],
   "source": [
    "estimator.fit()"
   ]
  },
  {
   "cell_type": "markdown",
   "metadata": {},
   "source": [
    "추론(예측) 엔드포인트 배포"
   ]
  },
  {
   "cell_type": "code",
   "execution_count": 26,
   "metadata": {},
   "outputs": [
    {
     "name": "stderr",
     "output_type": "stream",
     "text": [
      "INFO:sagemaker:Creating model with name: sagemaker-scikit-learn-2024-07-29-01-49-51-426\n",
      "INFO:sagemaker:Creating endpoint-config with name sagemaker-scikit-learn-2024-07-29-01-49-51-426\n",
      "INFO:sagemaker:Creating endpoint with name sagemaker-scikit-learn-2024-07-29-01-49-51-426\n"
     ]
    },
    {
     "name": "stdout",
     "output_type": "stream",
     "text": [
      "--------!"
     ]
    }
   ],
   "source": [
    "predictor = estimator.deploy(initial_instance_count=1, instance_type='ml.t2.medium')"
   ]
  },
  {
   "cell_type": "markdown",
   "metadata": {},
   "source": [
    "실시간 예측 실행"
   ]
  },
  {
   "cell_type": "code",
   "execution_count": 27,
   "metadata": {},
   "outputs": [],
   "source": [
    "from sagemaker.serializers import CSVSerializer\n",
    "predictor.serializer = CSVSerializer()"
   ]
  },
  {
   "cell_type": "code",
   "execution_count": 28,
   "metadata": {},
   "outputs": [
    {
     "name": "stdout",
     "output_type": "stream",
     "text": [
      "예측결과: [0 0 0 0 0]\n"
     ]
    }
   ],
   "source": [
    "from sklearn.datasets import load_iris\n",
    "import numpy as np\n",
    "\n",
    "# 테스트용 데이터 준비\n",
    "iris = load_iris()\n",
    "test_data = iris.data[:5]  # 처음 5개 샘플 사용\n",
    "\n",
    "# 예측\n",
    "# predictor.predict() 메서드는 NumPy 배열을 예상하므로 데이터를 변환합니다\n",
    "result = predictor.predict(CSVSerializer().serialize(test_data))\n",
    "print(\"예측결과:\", result)"
   ]
  },
  {
   "cell_type": "markdown",
   "metadata": {},
   "source": [
    "엔드포인트 삭제"
   ]
  },
  {
   "cell_type": "code",
   "execution_count": 29,
   "metadata": {},
   "outputs": [
    {
     "name": "stderr",
     "output_type": "stream",
     "text": [
      "INFO:sagemaker:Deleting endpoint configuration with name: sagemaker-scikit-learn-2024-07-29-01-49-51-426\n",
      "INFO:sagemaker:Deleting endpoint with name: sagemaker-scikit-learn-2024-07-29-01-49-51-426\n"
     ]
    }
   ],
   "source": [
    "predictor.delete_endpoint()"
   ]
  }
 ],
 "metadata": {
  "kernelspec": {
   "display_name": "Python 3",
   "language": "python",
   "name": "python3"
  },
  "language_info": {
   "codemirror_mode": {
    "name": "ipython",
    "version": 3
   },
   "file_extension": ".py",
   "mimetype": "text/x-python",
   "name": "python",
   "nbconvert_exporter": "python",
   "pygments_lexer": "ipython3",
   "version": "3.12.4"
  }
 },
 "nbformat": 4,
 "nbformat_minor": 2
}
