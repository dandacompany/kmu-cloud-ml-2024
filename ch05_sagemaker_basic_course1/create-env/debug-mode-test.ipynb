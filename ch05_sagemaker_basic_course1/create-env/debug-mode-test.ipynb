{
 "cells": [
  {
   "cell_type": "markdown",
   "metadata": {},
   "source": [
    "## 로컬 디버그 테스트"
   ]
  },
  {
   "cell_type": "markdown",
   "metadata": {},
   "source": [
    "> src/train.py 파일을 이미 생성하고 나서 아래 스크립트를 진행합니다 (cloud-mode-test.ipynb 파일 참고)"
   ]
  },
  {
   "cell_type": "markdown",
   "metadata": {},
   "source": [
    "라이브러리 준비"
   ]
  },
  {
   "cell_type": "code",
   "execution_count": 1,
   "metadata": {},
   "outputs": [
    {
     "name": "stdout",
     "output_type": "stream",
     "text": [
      "sagemaker.config INFO - Not applying SDK defaults from location: /Library/Application Support/sagemaker/config.yaml\n",
      "sagemaker.config INFO - Not applying SDK defaults from location: /Users/dante/Library/Application Support/sagemaker/config.yaml\n"
     ]
    },
    {
     "data": {
      "text/plain": [
       "True"
      ]
     },
     "execution_count": 1,
     "metadata": {},
     "output_type": "execute_result"
    }
   ],
   "source": [
    "import os\n",
    "from sagemaker.sklearn.estimator import SKLearn\n",
    "import sagemaker\n",
    "import boto3\n",
    "from dotenv import load_dotenv\n",
    "load_dotenv()"
   ]
  },
  {
   "cell_type": "markdown",
   "metadata": {},
   "source": [
    "SDK 준비"
   ]
  },
  {
   "cell_type": "code",
   "execution_count": 2,
   "metadata": {},
   "outputs": [],
   "source": [
    "boto3_session = boto3.Session(profile_name='awstutor')\n",
    "sagemaker_session = sagemaker.Session(boto_session=boto3_session)\n",
    "role = os.environ.get('SAGEMAKER_EXECUTION_ROLE_ARN')"
   ]
  },
  {
   "cell_type": "markdown",
   "metadata": {},
   "source": [
    "환경변수 준비"
   ]
  },
  {
   "cell_type": "code",
   "execution_count": 3,
   "metadata": {},
   "outputs": [],
   "source": [
    "# 로컬 모드 설정\n",
    "os.environ['SAGEMAKER_PROGRAM'] = 'train.py'\n",
    "os.environ['SAGEMAKER_SUBMIT_DIRECTORY'] = 'src'\n",
    "\n",
    "# 환경 변수 설정 (SageMaker에서 제공하는 환경 변수 에뮬레이션)\n",
    "os.environ['SM_MODEL_DIR'] = './output/model'\n",
    "os.environ['SM_OUTPUT_DATA_DIR'] = './output/data'\n",
    "os.environ['SM_CHANNEL_TRAIN'] = './input/data/train'\n",
    "os.environ['SM_CHANNEL_TEST'] = './input/data/test'\n",
    "\n",
    "# 필요한 디렉토리 생성\n",
    "os.makedirs(os.environ['SM_MODEL_DIR'], exist_ok=True)\n",
    "os.makedirs(os.environ['SM_OUTPUT_DATA_DIR'], exist_ok=True)\n",
    "os.makedirs(os.environ['SM_CHANNEL_TRAIN'], exist_ok=True)\n",
    "os.makedirs(os.environ['SM_CHANNEL_TEST'], exist_ok=True)"
   ]
  },
  {
   "cell_type": "markdown",
   "metadata": {},
   "source": [
    "모델 및 파라미터 설정"
   ]
  },
  {
   "cell_type": "code",
   "execution_count": 5,
   "metadata": {},
   "outputs": [],
   "source": [
    "# SKLearn 추정기 생성\n",
    "estimator = SKLearn(\n",
    "    entry_point='train.py',\n",
    "    source_dir='src',\n",
    "    role=role,\n",
    "    # sagemaker_session=sagemaker_session,\n",
    "    instance_type='local',\n",
    "    framework_version='0.23-1',\n",
    "    hyperparameters={\n",
    "        'n-estimators': 150,\n",
    "        'min-samples-split': 3\n",
    "    }\n",
    ")"
   ]
  },
  {
   "cell_type": "markdown",
   "metadata": {},
   "source": [
    "> Docker 가 실행 가능한 환경이 되어야 합니다. Docker가 실행중인지 확인해주세요."
   ]
  },
  {
   "cell_type": "markdown",
   "metadata": {},
   "source": [
    "모델 훈련"
   ]
  },
  {
   "cell_type": "code",
   "execution_count": 10,
   "metadata": {},
   "outputs": [
    {
     "name": "stderr",
     "output_type": "stream",
     "text": [
      "INFO:sagemaker:Creating training-job with name: sagemaker-scikit-learn-2024-07-29-01-50-38-921\n",
      "INFO:sagemaker.telemetry.telemetry_logging:SageMaker Python SDK will collect telemetry to help us better understand our user's needs, diagnose issues, and deliver additional features.\n",
      "To opt out of telemetry, please disable via TelemetryOptOut parameter in SDK defaults config. For more information, refer to https://sagemaker.readthedocs.io/en/stable/overview.html#configuring-and-using-defaults-with-the-sagemaker-python-sdk.\n",
      "INFO:sagemaker.local.image:'Docker Compose' found using Docker CLI.\n",
      "INFO:sagemaker.local.local_session:Starting training job\n",
      "INFO:sagemaker.local.image:Using the long-lived AWS credentials found in session\n",
      "INFO:sagemaker.local.image:docker compose file: \n",
      "networks:\n",
      "  sagemaker-local:\n",
      "    name: sagemaker-local\n",
      "services:\n",
      "  algo-1-f9i9u:\n",
      "    command: train\n",
      "    container_name: te8camaair-algo-1-f9i9u\n",
      "    environment:\n",
      "    - '[Masked]'\n",
      "    - '[Masked]'\n",
      "    - '[Masked]'\n",
      "    - '[Masked]'\n",
      "    - '[Masked]'\n",
      "    image: 366743142698.dkr.ecr.ap-northeast-2.amazonaws.com/sagemaker-scikit-learn:0.23-1-cpu-py3\n",
      "    networks:\n",
      "      sagemaker-local:\n",
      "        aliases:\n",
      "        - algo-1-f9i9u\n",
      "    stdin_open: true\n",
      "    tty: true\n",
      "    volumes:\n",
      "    - /private/var/folders/5y/vwfpdbc96lb5kxd7pmfd9rl00000gn/T/tmpj113iqzh/algo-1-f9i9u/output/data:/opt/ml/output/data\n",
      "    - /private/var/folders/5y/vwfpdbc96lb5kxd7pmfd9rl00000gn/T/tmpj113iqzh/algo-1-f9i9u/output:/opt/ml/output\n",
      "    - /private/var/folders/5y/vwfpdbc96lb5kxd7pmfd9rl00000gn/T/tmpj113iqzh/algo-1-f9i9u/input:/opt/ml/input\n",
      "    - /private/var/folders/5y/vwfpdbc96lb5kxd7pmfd9rl00000gn/T/tmpj113iqzh/model:/opt/ml/model\n",
      "    - /Users/dante/aws-ds-class/create-env/input/data/train:/opt/ml/input/data/train\n",
      "    - /Users/dante/aws-ds-class/create-env/input/data/test:/opt/ml/input/data/test\n",
      "version: '2.3'\n",
      "\n",
      "INFO:sagemaker.local.image:docker command: docker compose -f /private/var/folders/5y/vwfpdbc96lb5kxd7pmfd9rl00000gn/T/tmpj113iqzh/docker-compose.yaml up --build --abort-on-container-exit\n"
     ]
    },
    {
     "name": "stdout",
     "output_type": "stream",
     "text": [
      "time=\"2024-07-29T10:50:39+09:00\" level=warning msg=\"/private/var/folders/5y/vwfpdbc96lb5kxd7pmfd9rl00000gn/T/tmpj113iqzh/docker-compose.yaml: `version` is obsolete\"\n",
      "time=\"2024-07-29T10:50:39+09:00\" level=warning msg=\"a network with name sagemaker-local exists but was not created for project \\\"tmpj113iqzh\\\".\\nSet `external: true` to use an existing network\"\n",
      " Container te8camaair-algo-1-f9i9u  Creating\n",
      " algo-1-f9i9u The requested image's platform (linux/amd64) does not match the detected host platform (linux/arm64/v8) and no specific platform was requested \n",
      " Container te8camaair-algo-1-f9i9u  Created\n",
      "Attaching to te8camaair-algo-1-f9i9u\n",
      "te8camaair-algo-1-f9i9u  | 2024-07-29 01:50:40,811 sagemaker-containers INFO     Imported framework sagemaker_sklearn_container.training\n",
      "te8camaair-algo-1-f9i9u  | 2024-07-29 01:50:40,815 sagemaker-training-toolkit INFO     No GPUs detected (normal if no gpus installed)\n",
      "te8camaair-algo-1-f9i9u  | 2024-07-29 01:50:40,840 sagemaker_sklearn_container.training INFO     Invoking user training script.\n",
      "te8camaair-algo-1-f9i9u  | 2024-07-29 01:50:41,113 sagemaker-training-toolkit INFO     No GPUs detected (normal if no gpus installed)\n",
      "te8camaair-algo-1-f9i9u  | 2024-07-29 01:50:41,127 sagemaker-training-toolkit INFO     No GPUs detected (normal if no gpus installed)\n",
      "te8camaair-algo-1-f9i9u  | 2024-07-29 01:50:41,136 sagemaker-training-toolkit INFO     No GPUs detected (normal if no gpus installed)\n",
      "te8camaair-algo-1-f9i9u  | 2024-07-29 01:50:41,145 sagemaker-training-toolkit INFO     Invoking user script\n",
      "te8camaair-algo-1-f9i9u  | \n",
      "te8camaair-algo-1-f9i9u  | Training Env:\n",
      "te8camaair-algo-1-f9i9u  | \n",
      "te8camaair-algo-1-f9i9u  | {\n",
      "te8camaair-algo-1-f9i9u  |     \"additional_framework_parameters\": {},\n",
      "te8camaair-algo-1-f9i9u  |     \"channel_input_dirs\": {\n",
      "te8camaair-algo-1-f9i9u  |         \"train\": \"/opt/ml/input/data/train\",\n",
      "te8camaair-algo-1-f9i9u  |         \"test\": \"/opt/ml/input/data/test\"\n",
      "te8camaair-algo-1-f9i9u  |     },\n",
      "te8camaair-algo-1-f9i9u  |     \"current_host\": \"algo-1-f9i9u\",\n",
      "te8camaair-algo-1-f9i9u  |     \"framework_module\": \"sagemaker_sklearn_container.training:main\",\n",
      "te8camaair-algo-1-f9i9u  |     \"hosts\": [\n",
      "te8camaair-algo-1-f9i9u  |         \"algo-1-f9i9u\"\n",
      "te8camaair-algo-1-f9i9u  |     ],\n",
      "te8camaair-algo-1-f9i9u  |     \"hyperparameters\": {\n",
      "te8camaair-algo-1-f9i9u  |         \"n-estimators\": 150,\n",
      "te8camaair-algo-1-f9i9u  |         \"min-samples-split\": 3\n",
      "te8camaair-algo-1-f9i9u  |     },\n",
      "te8camaair-algo-1-f9i9u  |     \"input_config_dir\": \"/opt/ml/input/config\",\n",
      "te8camaair-algo-1-f9i9u  |     \"input_data_config\": {\n",
      "te8camaair-algo-1-f9i9u  |         \"train\": {\n",
      "te8camaair-algo-1-f9i9u  |             \"TrainingInputMode\": \"File\"\n",
      "te8camaair-algo-1-f9i9u  |         },\n",
      "te8camaair-algo-1-f9i9u  |         \"test\": {\n",
      "te8camaair-algo-1-f9i9u  |             \"TrainingInputMode\": \"File\"\n",
      "te8camaair-algo-1-f9i9u  |         }\n",
      "te8camaair-algo-1-f9i9u  |     },\n",
      "te8camaair-algo-1-f9i9u  |     \"input_dir\": \"/opt/ml/input\",\n",
      "te8camaair-algo-1-f9i9u  |     \"is_master\": true,\n",
      "te8camaair-algo-1-f9i9u  |     \"job_name\": \"sagemaker-scikit-learn-2024-07-29-01-50-38-921\",\n",
      "te8camaair-algo-1-f9i9u  |     \"log_level\": 20,\n",
      "te8camaair-algo-1-f9i9u  |     \"master_hostname\": \"algo-1-f9i9u\",\n",
      "te8camaair-algo-1-f9i9u  |     \"model_dir\": \"/opt/ml/model\",\n",
      "te8camaair-algo-1-f9i9u  |     \"module_dir\": \"s3://sagemaker-ap-northeast-2-471059179926/sagemaker-scikit-learn-2024-07-29-01-50-38-921/source/sourcedir.tar.gz\",\n",
      "te8camaair-algo-1-f9i9u  |     \"module_name\": \"train\",\n",
      "te8camaair-algo-1-f9i9u  |     \"network_interface_name\": \"eth0\",\n",
      "te8camaair-algo-1-f9i9u  |     \"num_cpus\": 12,\n",
      "te8camaair-algo-1-f9i9u  |     \"num_gpus\": 0,\n",
      "te8camaair-algo-1-f9i9u  |     \"output_data_dir\": \"/opt/ml/output/data\",\n",
      "te8camaair-algo-1-f9i9u  |     \"output_dir\": \"/opt/ml/output\",\n",
      "te8camaair-algo-1-f9i9u  |     \"output_intermediate_dir\": \"/opt/ml/output/intermediate\",\n",
      "te8camaair-algo-1-f9i9u  |     \"resource_config\": {\n",
      "te8camaair-algo-1-f9i9u  |         \"current_host\": \"algo-1-f9i9u\",\n",
      "te8camaair-algo-1-f9i9u  |         \"hosts\": [\n",
      "te8camaair-algo-1-f9i9u  |             \"algo-1-f9i9u\"\n",
      "te8camaair-algo-1-f9i9u  |         ]\n",
      "te8camaair-algo-1-f9i9u  |     },\n",
      "te8camaair-algo-1-f9i9u  |     \"user_entry_point\": \"train.py\"\n",
      "te8camaair-algo-1-f9i9u  | }\n",
      "te8camaair-algo-1-f9i9u  | \n",
      "te8camaair-algo-1-f9i9u  | Environment variables:\n",
      "te8camaair-algo-1-f9i9u  | \n",
      "te8camaair-algo-1-f9i9u  | SM_HOSTS=[\"algo-1-f9i9u\"]\n",
      "te8camaair-algo-1-f9i9u  | SM_NETWORK_INTERFACE_NAME=eth0\n",
      "te8camaair-algo-1-f9i9u  | SM_HPS={\"min-samples-split\":3,\"n-estimators\":150}\n",
      "te8camaair-algo-1-f9i9u  | SM_USER_ENTRY_POINT=train.py\n",
      "te8camaair-algo-1-f9i9u  | SM_FRAMEWORK_PARAMS={}\n",
      "te8camaair-algo-1-f9i9u  | SM_RESOURCE_CONFIG={\"current_host\":\"algo-1-f9i9u\",\"hosts\":[\"algo-1-f9i9u\"]}\n",
      "te8camaair-algo-1-f9i9u  | SM_INPUT_DATA_CONFIG={\"test\":{\"TrainingInputMode\":\"File\"},\"train\":{\"TrainingInputMode\":\"File\"}}\n",
      "te8camaair-algo-1-f9i9u  | SM_OUTPUT_DATA_DIR=/opt/ml/output/data\n",
      "te8camaair-algo-1-f9i9u  | SM_CHANNELS=[\"test\",\"train\"]\n",
      "te8camaair-algo-1-f9i9u  | SM_CURRENT_HOST=algo-1-f9i9u\n",
      "te8camaair-algo-1-f9i9u  | SM_MODULE_NAME=train\n",
      "te8camaair-algo-1-f9i9u  | SM_LOG_LEVEL=20\n",
      "te8camaair-algo-1-f9i9u  | SM_FRAMEWORK_MODULE=sagemaker_sklearn_container.training:main\n",
      "te8camaair-algo-1-f9i9u  | SM_INPUT_DIR=/opt/ml/input\n",
      "te8camaair-algo-1-f9i9u  | SM_INPUT_CONFIG_DIR=/opt/ml/input/config\n",
      "te8camaair-algo-1-f9i9u  | SM_OUTPUT_DIR=/opt/ml/output\n",
      "te8camaair-algo-1-f9i9u  | SM_NUM_CPUS=12\n",
      "te8camaair-algo-1-f9i9u  | SM_NUM_GPUS=0\n",
      "te8camaair-algo-1-f9i9u  | SM_MODEL_DIR=/opt/ml/model\n",
      "te8camaair-algo-1-f9i9u  | SM_MODULE_DIR=s3://sagemaker-ap-northeast-2-471059179926/sagemaker-scikit-learn-2024-07-29-01-50-38-921/source/sourcedir.tar.gz\n",
      "te8camaair-algo-1-f9i9u  | SM_TRAINING_ENV={\"additional_framework_parameters\":{},\"channel_input_dirs\":{\"test\":\"/opt/ml/input/data/test\",\"train\":\"/opt/ml/input/data/train\"},\"current_host\":\"algo-1-f9i9u\",\"framework_module\":\"sagemaker_sklearn_container.training:main\",\"hosts\":[\"algo-1-f9i9u\"],\"hyperparameters\":{\"min-samples-split\":3,\"n-estimators\":150},\"input_config_dir\":\"/opt/ml/input/config\",\"input_data_config\":{\"test\":{\"TrainingInputMode\":\"File\"},\"train\":{\"TrainingInputMode\":\"File\"}},\"input_dir\":\"/opt/ml/input\",\"is_master\":true,\"job_name\":\"sagemaker-scikit-learn-2024-07-29-01-50-38-921\",\"log_level\":20,\"master_hostname\":\"algo-1-f9i9u\",\"model_dir\":\"/opt/ml/model\",\"module_dir\":\"s3://sagemaker-ap-northeast-2-471059179926/sagemaker-scikit-learn-2024-07-29-01-50-38-921/source/sourcedir.tar.gz\",\"module_name\":\"train\",\"network_interface_name\":\"eth0\",\"num_cpus\":12,\"num_gpus\":0,\"output_data_dir\":\"/opt/ml/output/data\",\"output_dir\":\"/opt/ml/output\",\"output_intermediate_dir\":\"/opt/ml/output/intermediate\",\"resource_config\":{\"current_host\":\"algo-1-f9i9u\",\"hosts\":[\"algo-1-f9i9u\"]},\"user_entry_point\":\"train.py\"}\n",
      "te8camaair-algo-1-f9i9u  | SM_USER_ARGS=[\"--min-samples-split\",\"3\",\"--n-estimators\",\"150\"]\n",
      "te8camaair-algo-1-f9i9u  | SM_OUTPUT_INTERMEDIATE_DIR=/opt/ml/output/intermediate\n",
      "te8camaair-algo-1-f9i9u  | SM_CHANNEL_TRAIN=/opt/ml/input/data/train\n",
      "te8camaair-algo-1-f9i9u  | SM_CHANNEL_TEST=/opt/ml/input/data/test\n",
      "te8camaair-algo-1-f9i9u  | SM_HP_N-ESTIMATORS=150\n",
      "te8camaair-algo-1-f9i9u  | SM_HP_MIN-SAMPLES-SPLIT=3\n",
      "te8camaair-algo-1-f9i9u  | PYTHONPATH=/opt/ml/code:/miniconda3/bin:/miniconda3/lib/python37.zip:/miniconda3/lib/python3.7:/miniconda3/lib/python3.7/lib-dynload:/miniconda3/lib/python3.7/site-packages\n",
      "te8camaair-algo-1-f9i9u  | \n",
      "te8camaair-algo-1-f9i9u  | Invoking script with the following command:\n",
      "te8camaair-algo-1-f9i9u  | \n",
      "te8camaair-algo-1-f9i9u  | /miniconda3/bin/python train.py --min-samples-split 3 --n-estimators 150\n",
      "te8camaair-algo-1-f9i9u  | \n",
      "te8camaair-algo-1-f9i9u  | \n",
      "te8camaair-algo-1-f9i9u  | 프로그램 시작\n",
      "te8camaair-algo-1-f9i9u  | 파라미터 설정: n_estimators=150, min_samples_split=3\n",
      "te8camaair-algo-1-f9i9u  | Iris 데이터셋 로드 중...\n",
      "te8camaair-algo-1-f9i9u  | 데이터셋 로드 완료\n",
      "te8camaair-algo-1-f9i9u  | 데이터 전처리 시작\n",
      "te8camaair-algo-1-f9i9u  | 데이터 전처리 완료\n",
      "te8camaair-algo-1-f9i9u  | 모델 훈련 시작\n",
      "te8camaair-algo-1-f9i9u  | 모델 훈련 완료\n",
      "te8camaair-algo-1-f9i9u  | 모델 평가 중...\n",
      "te8camaair-algo-1-f9i9u  | 테스트 정확도: 1.0\n",
      "te8camaair-algo-1-f9i9u  | 모델 및 스케일러 저장 중...\n",
      "te8camaair-algo-1-f9i9u  | 모델 및 스케일러 저장 완료\n",
      "te8camaair-algo-1-f9i9u  | 프로그램 종료\n"
     ]
    },
    {
     "name": "stderr",
     "output_type": "stream",
     "text": [
      "INFO:root:copying /private/var/folders/5y/vwfpdbc96lb5kxd7pmfd9rl00000gn/T/tmpj113iqzh/algo-1-f9i9u/output/success -> /private/var/folders/5y/vwfpdbc96lb5kxd7pmfd9rl00000gn/T/tmpj113iqzh/artifacts/output\n",
      "INFO:root:creating /private/var/folders/5y/vwfpdbc96lb5kxd7pmfd9rl00000gn/T/tmpj113iqzh/artifacts/output/data\n",
      "INFO:root:copying /private/var/folders/5y/vwfpdbc96lb5kxd7pmfd9rl00000gn/T/tmpj113iqzh/model/scaler.joblib -> /private/var/folders/5y/vwfpdbc96lb5kxd7pmfd9rl00000gn/T/tmpj113iqzh/artifacts/model\n",
      "INFO:root:copying /private/var/folders/5y/vwfpdbc96lb5kxd7pmfd9rl00000gn/T/tmpj113iqzh/model/model.joblib -> /private/var/folders/5y/vwfpdbc96lb5kxd7pmfd9rl00000gn/T/tmpj113iqzh/artifacts/model\n"
     ]
    },
    {
     "name": "stdout",
     "output_type": "stream",
     "text": [
      "te8camaair-algo-1-f9i9u  | 2024-07-29 01:50:42,758 sagemaker-containers INFO     Reporting training SUCCESS\n",
      "\u001b[Kte8camaair-algo-1-f9i9u exited with code 0\n",
      "Aborting on container exit...\n",
      " Container te8camaair-algo-1-f9i9u  Stopping\n",
      " Container te8camaair-algo-1-f9i9u  Stopped\n"
     ]
    },
    {
     "name": "stderr",
     "output_type": "stream",
     "text": [
      "INFO:sagemaker.local.image:===== Job Complete =====\n"
     ]
    }
   ],
   "source": [
    "# 로컬에서 학습 실행\n",
    "estimator.fit({\n",
    "    'train': f\"file://{os.environ['SM_CHANNEL_TRAIN']}\", \n",
    "    'test': f\"file://{os.environ['SM_CHANNEL_TEST']}\"\n",
    "})"
   ]
  },
  {
   "cell_type": "code",
   "execution_count": null,
   "metadata": {},
   "outputs": [],
   "source": []
  },
  {
   "cell_type": "code",
   "execution_count": 15,
   "metadata": {},
   "outputs": [
    {
     "name": "stderr",
     "output_type": "stream",
     "text": [
      "INFO:sagemaker:Creating model with name: sagemaker-scikit-learn-2024-07-29-01-53-25-614\n",
      "INFO:sagemaker.telemetry.telemetry_logging:SageMaker Python SDK will collect telemetry to help us better understand our user's needs, diagnose issues, and deliver additional features.\n",
      "To opt out of telemetry, please disable via TelemetryOptOut parameter in SDK defaults config. For more information, refer to https://sagemaker.readthedocs.io/en/stable/overview.html#configuring-and-using-defaults-with-the-sagemaker-python-sdk.\n",
      "INFO:sagemaker:Creating endpoint-config with name sagemaker-scikit-learn-2024-07-29-01-53-25-614\n",
      "INFO:sagemaker.telemetry.telemetry_logging:SageMaker Python SDK will collect telemetry to help us better understand our user's needs, diagnose issues, and deliver additional features.\n",
      "To opt out of telemetry, please disable via TelemetryOptOut parameter in SDK defaults config. For more information, refer to https://sagemaker.readthedocs.io/en/stable/overview.html#configuring-and-using-defaults-with-the-sagemaker-python-sdk.\n",
      "INFO:sagemaker:Creating endpoint with name sagemaker-scikit-learn-2024-07-29-01-53-25-614\n",
      "INFO:sagemaker.telemetry.telemetry_logging:SageMaker Python SDK will collect telemetry to help us better understand our user's needs, diagnose issues, and deliver additional features.\n",
      "To opt out of telemetry, please disable via TelemetryOptOut parameter in SDK defaults config. For more information, refer to https://sagemaker.readthedocs.io/en/stable/overview.html#configuring-and-using-defaults-with-the-sagemaker-python-sdk.\n",
      "INFO:sagemaker.local.image:'Docker Compose' found using Docker CLI.\n",
      "INFO:sagemaker.local.image:serving\n",
      "INFO:sagemaker.local.image:creating hosting dir in /private/var/folders/5y/vwfpdbc96lb5kxd7pmfd9rl00000gn/T/tmpsxyp44bc\n",
      "INFO:sagemaker.local.image:Using the long-lived AWS credentials found in session\n",
      "INFO:sagemaker.local.image:docker compose file: \n",
      "networks:\n",
      "  sagemaker-local:\n",
      "    name: sagemaker-local\n",
      "services:\n",
      "  algo-1-g9az7:\n",
      "    command: serve\n",
      "    container_name: 0wxcb9u5u8-algo-1-g9az7\n",
      "    environment:\n",
      "    - '[Masked]'\n",
      "    - '[Masked]'\n",
      "    - '[Masked]'\n",
      "    - '[Masked]'\n",
      "    - '[Masked]'\n",
      "    - '[Masked]'\n",
      "    image: 366743142698.dkr.ecr.ap-northeast-2.amazonaws.com/sagemaker-scikit-learn:0.23-1-cpu-py3\n",
      "    networks:\n",
      "      sagemaker-local:\n",
      "        aliases:\n",
      "        - algo-1-g9az7\n",
      "    ports:\n",
      "    - 8080:8080\n",
      "    stdin_open: true\n",
      "    tty: true\n",
      "    volumes:\n",
      "    - /private/var/folders/5y/vwfpdbc96lb5kxd7pmfd9rl00000gn/T/tmpym3h28fi:/opt/ml/model\n",
      "version: '2.3'\n",
      "\n",
      "INFO:sagemaker.local.image:docker command: docker compose -f /private/var/folders/5y/vwfpdbc96lb5kxd7pmfd9rl00000gn/T/tmpsxyp44bc/docker-compose.yaml up --build --abort-on-container-exit\n",
      "INFO:sagemaker.local.entities:Checking if serving container is up, attempt: 5\n",
      "WARNING:urllib3.connectionpool:Retrying (Retry(total=2, connect=None, read=None, redirect=None, status=None)) after connection broken by 'NewConnectionError('<urllib3.connection.HTTPConnection object at 0x31faa5730>: Failed to establish a new connection: [Errno 61] Connection refused')': /ping\n",
      "WARNING:urllib3.connectionpool:Retrying (Retry(total=1, connect=None, read=None, redirect=None, status=None)) after connection broken by 'NewConnectionError('<urllib3.connection.HTTPConnection object at 0x31faa7ad0>: Failed to establish a new connection: [Errno 61] Connection refused')': /ping\n",
      "WARNING:urllib3.connectionpool:Retrying (Retry(total=0, connect=None, read=None, redirect=None, status=None)) after connection broken by 'NewConnectionError('<urllib3.connection.HTTPConnection object at 0x31faa4ec0>: Failed to establish a new connection: [Errno 61] Connection refused')': /ping\n",
      "INFO:sagemaker.local.entities:Container still not up, got: -1\n"
     ]
    },
    {
     "name": "stdout",
     "output_type": "stream",
     "text": [
      "Attaching to 0wxcb9u5u8-algo-1-g9az7\n",
      "0wxcb9u5u8-algo-1-g9az7  | 2024-07-29 01:53:27,418 INFO - sagemaker-containers - No GPUs detected (normal if no gpus installed)\n",
      "0wxcb9u5u8-algo-1-g9az7  | 2024-07-29 01:53:27,421 INFO - sagemaker-containers - No GPUs detected (normal if no gpus installed)\n",
      "0wxcb9u5u8-algo-1-g9az7  | 2024-07-29 01:53:27,421 INFO - sagemaker-containers - nginx config: \n",
      "0wxcb9u5u8-algo-1-g9az7  | worker_processes auto;\n",
      "0wxcb9u5u8-algo-1-g9az7  | daemon off;\n",
      "0wxcb9u5u8-algo-1-g9az7  | pid /tmp/nginx.pid;\n",
      "0wxcb9u5u8-algo-1-g9az7  | error_log  /dev/stderr;\n",
      "0wxcb9u5u8-algo-1-g9az7  | \n",
      "0wxcb9u5u8-algo-1-g9az7  | worker_rlimit_nofile 4096;\n",
      "0wxcb9u5u8-algo-1-g9az7  | \n",
      "0wxcb9u5u8-algo-1-g9az7  | events {\n",
      "0wxcb9u5u8-algo-1-g9az7  |   worker_connections 2048;\n",
      "0wxcb9u5u8-algo-1-g9az7  | }\n",
      "0wxcb9u5u8-algo-1-g9az7  | \n",
      "0wxcb9u5u8-algo-1-g9az7  | http {\n",
      "0wxcb9u5u8-algo-1-g9az7  |   include /etc/nginx/mime.types;\n",
      "0wxcb9u5u8-algo-1-g9az7  |   default_type application/octet-stream;\n",
      "0wxcb9u5u8-algo-1-g9az7  |   access_log /dev/stdout combined;\n",
      "0wxcb9u5u8-algo-1-g9az7  | \n",
      "0wxcb9u5u8-algo-1-g9az7  |   upstream gunicorn {\n",
      "0wxcb9u5u8-algo-1-g9az7  |     server unix:/tmp/gunicorn.sock;\n",
      "0wxcb9u5u8-algo-1-g9az7  |   }\n",
      "0wxcb9u5u8-algo-1-g9az7  | \n",
      "0wxcb9u5u8-algo-1-g9az7  |   server {\n",
      "0wxcb9u5u8-algo-1-g9az7  |     listen 8080 deferred;\n",
      "0wxcb9u5u8-algo-1-g9az7  |     client_max_body_size 0;\n",
      "0wxcb9u5u8-algo-1-g9az7  | \n",
      "0wxcb9u5u8-algo-1-g9az7  |     keepalive_timeout 3;\n",
      "0wxcb9u5u8-algo-1-g9az7  | \n",
      "0wxcb9u5u8-algo-1-g9az7  |     location ~ ^/(ping|invocations|execution-parameters) {\n",
      "0wxcb9u5u8-algo-1-g9az7  |       proxy_set_header X-Forwarded-For $proxy_add_x_forwarded_for;\n",
      "0wxcb9u5u8-algo-1-g9az7  |       proxy_set_header Host $http_host;\n",
      "0wxcb9u5u8-algo-1-g9az7  |       proxy_redirect off;\n",
      "0wxcb9u5u8-algo-1-g9az7  |       proxy_read_timeout 60s;\n",
      "0wxcb9u5u8-algo-1-g9az7  |       proxy_pass http://gunicorn;\n",
      "0wxcb9u5u8-algo-1-g9az7  |     }\n",
      "0wxcb9u5u8-algo-1-g9az7  | \n",
      "0wxcb9u5u8-algo-1-g9az7  |     location / {\n",
      "0wxcb9u5u8-algo-1-g9az7  |       return 404 \"{}\";\n",
      "0wxcb9u5u8-algo-1-g9az7  |     }\n",
      "0wxcb9u5u8-algo-1-g9az7  | \n",
      "0wxcb9u5u8-algo-1-g9az7  |   }\n",
      "0wxcb9u5u8-algo-1-g9az7  | }\n",
      "0wxcb9u5u8-algo-1-g9az7  | \n",
      "0wxcb9u5u8-algo-1-g9az7  | \n",
      "0wxcb9u5u8-algo-1-g9az7  | 2024-07-29 01:53:27,671 INFO - sagemaker-containers - Module train does not provide a setup.py. \n",
      "0wxcb9u5u8-algo-1-g9az7  | Generating setup.py\n",
      "0wxcb9u5u8-algo-1-g9az7  | 2024-07-29 01:53:27,672 INFO - sagemaker-containers - Generating setup.cfg\n",
      "0wxcb9u5u8-algo-1-g9az7  | 2024-07-29 01:53:27,672 INFO - sagemaker-containers - Generating MANIFEST.in\n",
      "0wxcb9u5u8-algo-1-g9az7  | 2024-07-29 01:53:27,672 INFO - sagemaker-containers - Installing module with the following command:\n",
      "0wxcb9u5u8-algo-1-g9az7  | /miniconda3/bin/python3 -m pip install . \n",
      "0wxcb9u5u8-algo-1-g9az7  | Processing /opt/ml/code\n",
      "0wxcb9u5u8-algo-1-g9az7  |   Preparing metadata (setup.py) ... \u001b[?25ldone\n",
      "0wxcb9u5u8-algo-1-g9az7  | \u001b[?25hBuilding wheels for collected packages: train\n",
      "0wxcb9u5u8-algo-1-g9az7  |   Building wheel for train (setup.py) ... \u001b[?25ldone\n",
      "0wxcb9u5u8-algo-1-g9az7  | \u001b[?25h  Created wheel for train: filename=train-1.0.0-py2.py3-none-any.whl size=4723 sha256=66bd517cf52fc74598012c2b28692b90fadc460868a765dbc18b086495a184e3\n",
      "0wxcb9u5u8-algo-1-g9az7  |   Stored in directory: /home/model-server/tmp/pip-ephem-wheel-cache-yp1kg6j3/wheels/3e/0f/51/2f1df833dd0412c1bc2f5ee56baac195b5be563353d111dca6\n",
      "0wxcb9u5u8-algo-1-g9az7  | Successfully built train\n",
      "0wxcb9u5u8-algo-1-g9az7  | Installing collected packages: train\n",
      "0wxcb9u5u8-algo-1-g9az7  | Successfully installed train-1.0.0\n",
      "0wxcb9u5u8-algo-1-g9az7  | \u001b[33mWARNING: Running pip as the 'root' user can result in broken permissions and conflicting behaviour with the system package manager. It is recommended to use a virtual environment instead: https://pip.pypa.io/warnings/venv\u001b[0m\u001b[33m\n",
      "0wxcb9u5u8-algo-1-g9az7  | \u001b[0m\n",
      "0wxcb9u5u8-algo-1-g9az7  | \u001b[1m[\u001b[0m\u001b[34;49mnotice\u001b[0m\u001b[1;39;49m]\u001b[0m\u001b[39;49m A new release of pip is available: \u001b[0m\u001b[31;49m23.0\u001b[0m\u001b[39;49m -> \u001b[0m\u001b[32;49m24.0\u001b[0m\n",
      "0wxcb9u5u8-algo-1-g9az7  | \u001b[1m[\u001b[0m\u001b[34;49mnotice\u001b[0m\u001b[1;39;49m]\u001b[0m\u001b[39;49m To update, run: \u001b[0m\u001b[32;49mpip install --upgrade pip\u001b[0m\n",
      "0wxcb9u5u8-algo-1-g9az7  | [2024-07-29 01:53:30 +0000] [61] [INFO] Starting gunicorn 20.0.4\n",
      "0wxcb9u5u8-algo-1-g9az7  | [2024-07-29 01:53:30 +0000] [61] [INFO] Listening at: unix:/tmp/gunicorn.sock (61)\n",
      "0wxcb9u5u8-algo-1-g9az7  | [2024-07-29 01:53:30 +0000] [61] [INFO] Using worker: gevent\n",
      "0wxcb9u5u8-algo-1-g9az7  | [2024-07-29 01:53:30 +0000] [64] [INFO] Booting worker with pid: 64\n",
      "0wxcb9u5u8-algo-1-g9az7  | [2024-07-29 01:53:30 +0000] [65] [INFO] Booting worker with pid: 65\n",
      "0wxcb9u5u8-algo-1-g9az7  | [2024-07-29 01:53:30 +0000] [77] [INFO] Booting worker with pid: 77\n",
      "0wxcb9u5u8-algo-1-g9az7  | [2024-07-29 01:53:30 +0000] [78] [INFO] Booting worker with pid: 78\n",
      "0wxcb9u5u8-algo-1-g9az7  | [2024-07-29 01:53:30 +0000] [90] [INFO] Booting worker with pid: 90\n",
      "0wxcb9u5u8-algo-1-g9az7  | [2024-07-29 01:53:30 +0000] [91] [INFO] Booting worker with pid: 91\n",
      "0wxcb9u5u8-algo-1-g9az7  | [2024-07-29 01:53:30 +0000] [92] [INFO] Booting worker with pid: 92\n",
      "0wxcb9u5u8-algo-1-g9az7  | [2024-07-29 01:53:30 +0000] [93] [INFO] Booting worker with pid: 93\n",
      "0wxcb9u5u8-algo-1-g9az7  | [2024-07-29 01:53:30 +0000] [105] [INFO] Booting worker with pid: 105\n",
      "0wxcb9u5u8-algo-1-g9az7  | [2024-07-29 01:53:30 +0000] [128] [INFO] Booting worker with pid: 128\n",
      "0wxcb9u5u8-algo-1-g9az7  | [2024-07-29 01:53:30 +0000] [140] [INFO] Booting worker with pid: 140\n",
      "0wxcb9u5u8-algo-1-g9az7  | [2024-07-29 01:53:30 +0000] [141] [INFO] Booting worker with pid: 141\n"
     ]
    },
    {
     "name": "stderr",
     "output_type": "stream",
     "text": [
      "INFO:sagemaker.local.entities:Checking if serving container is up, attempt: 10\n"
     ]
    },
    {
     "name": "stdout",
     "output_type": "stream",
     "text": [
      "0wxcb9u5u8-algo-1-g9az7  | 2024-07-29 01:53:31,526 INFO - sagemaker-containers - No GPUs detected (normal if no gpus installed)\n",
      "0wxcb9u5u8-algo-1-g9az7  | 모델 로딩 중...\n",
      "0wxcb9u5u8-algo-1-g9az7  | 모델 로딩 완료\n",
      "0wxcb9u5u8-algo-1-g9az7  | 192.168.65.1 - - [29/Jul/2024:01:53:32 +0000] \"GET /ping HTTP/1.1\" 200 0 \"-\" \"python-urllib3/2.2.2\"\n",
      "!"
     ]
    }
   ],
   "source": [
    "# 학습된 모델을 사용한 예측\n",
    "from sklearn.datasets import load_iris\n",
    "\n",
    "# 테스트용 데이터 준비\n",
    "iris = load_iris()\n",
    "test_data = iris.data[:5]  # 처음 5개 샘플 사용\n",
    "\n",
    "# 로컬 배포\n",
    "predictor = estimator.deploy(instance_type='local', initial_instance_count=1)\n"
   ]
  },
  {
   "cell_type": "code",
   "execution_count": 16,
   "metadata": {},
   "outputs": [
    {
     "name": "stdout",
     "output_type": "stream",
     "text": [
      "0wxcb9u5u8-algo-1-g9az7  | 2024-07-29 01:54:41,434 INFO - sagemaker-containers - No GPUs detected (normal if no gpus installed)\n",
      "0wxcb9u5u8-algo-1-g9az7  | 모델 로딩 중...\n",
      "0wxcb9u5u8-algo-1-g9az7  | 모델 로딩 완료\n",
      "0wxcb9u5u8-algo-1-g9az7  | 192.168.65.1 - - [29/Jul/2024:01:54:42 +0000] \"POST /invocations HTTP/1.1\" 200 168 \"-\" \"python-urllib3/2.2.2\"\n"
     ]
    },
    {
     "name": "stdout",
     "output_type": "stream",
     "text": [
      "예측 결과: [0 0 0 0 0]\n"
     ]
    }
   ],
   "source": [
    "predictions = predictor.predict(test_data)\n",
    "print(\"예측 결과:\", predictions)"
   ]
  },
  {
   "cell_type": "code",
   "execution_count": 17,
   "metadata": {},
   "outputs": [
    {
     "name": "stderr",
     "output_type": "stream",
     "text": [
      "INFO:sagemaker:Deleting endpoint configuration with name: sagemaker-scikit-learn-2024-07-29-01-53-25-614\n",
      "INFO:sagemaker:Deleting endpoint with name: sagemaker-scikit-learn-2024-07-29-01-53-25-614\n"
     ]
    }
   ],
   "source": [
    "# 리소스 정리\n",
    "predictor.delete_endpoint()"
   ]
  },
  {
   "cell_type": "code",
   "execution_count": null,
   "metadata": {},
   "outputs": [],
   "source": []
  }
 ],
 "metadata": {
  "kernelspec": {
   "display_name": "Python 3",
   "language": "python",
   "name": "python3"
  },
  "language_info": {
   "codemirror_mode": {
    "name": "ipython",
    "version": 3
   },
   "file_extension": ".py",
   "mimetype": "text/x-python",
   "name": "python",
   "nbconvert_exporter": "python",
   "pygments_lexer": "ipython3",
   "version": "3.12.4"
  }
 },
 "nbformat": 4,
 "nbformat_minor": 2
}
